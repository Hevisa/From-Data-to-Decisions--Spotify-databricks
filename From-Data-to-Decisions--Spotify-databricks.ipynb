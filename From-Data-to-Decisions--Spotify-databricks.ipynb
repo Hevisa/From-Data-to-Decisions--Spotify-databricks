{
 "cells": [
  {
   "cell_type": "code",
   "execution_count": 0,
   "metadata": {
    "application/vnd.databricks.v1+cell": {
     "cellMetadata": {
      "byteLimit": 2048000,
      "rowLimit": 10000
     },
     "inputWidgets": {},
     "nuid": "e3039776-f1ff-4c00-8088-04cfbcad6f77",
     "showTitle": false,
     "tableResultSettingsMap": {},
     "title": ""
    }
   },
   "outputs": [
    {
     "output_type": "stream",
     "name": "stdout",
     "output_type": "stream",
     "text": [
      "Fetching access token...\n-----\nError fetching related artists: 404, {\"error\": {\"status\": 404, \"message\": \"Not Found\" } }\nError fetching audio features: 403, {\n  \"error\" : {\n    \"status\" : 403\n  }\n}\nError fetching related artists: 404, {\"error\": {\"status\": 404, \"message\": \"Not Found\" } }\nError fetching audio features: 403, {\n  \"error\" : {\n    \"status\" : 403\n  }\n}\nError fetching related artists: 404, {\"error\": {\"status\": 404, \"message\": \"Not Found\" } }\nError fetching audio features: 403, {\n  \"error\" : {\n    \"status\" : 403\n  }\n}\nError fetching related artists: 404, {\"error\": {\"status\": 404, \"message\": \"Not Found\" } }\nError fetching audio features: 403, {\n  \"error\" : {\n    \"status\" : 403\n  }\n}\nError fetching related artists: 404, {\"error\": {\"status\": 404, \"message\": \"Not Found\" } }\nError fetching audio features: 403, {\n  \"error\" : {\n    \"status\" : 403\n  }\n}\nError fetching related artists: 404, {\"error\": {\"status\": 404, \"message\": \"Not Found\" } }\nError fetching audio features: 403, {\n  \"error\" : {\n    \"status\" : 403\n  }\n}\nError fetching related artists: 404, {\"error\": {\"status\": 404, \"message\": \"Not Found\" } }\nError fetching audio features: 403, {\n  \"error\" : {\n    \"status\" : 403\n  }\n}\nError fetching related artists: 404, {\"error\": {\"status\": 404, \"message\": \"Not Found\" } }\nError fetching audio features: 403, {\n  \"error\" : {\n    \"status\" : 403\n  }\n}\nError fetching related artists: 404, {\"error\": {\"status\": 404, \"message\": \"Not Found\" } }\nError fetching audio features: 403, {\n  \"error\" : {\n    \"status\" : 403\n  }\n}\nError fetching related artists: 404, {\"error\": {\"status\": 404, \"message\": \"Not Found\" } }\nError fetching audio features: 403, {\n  \"error\" : {\n    \"status\" : 403\n  }\n}\nError fetching related artists: 404, {\"error\": {\"status\": 404, \"message\": \"Not Found\" } }\nError fetching audio features: 403, {\n  \"error\" : {\n    \"status\" : 403\n  }\n}\nError fetching related artists: 404, {\"error\": {\"status\": 404, \"message\": \"Not Found\" } }\nError fetching audio features: 403, {\n  \"error\" : {\n    \"status\" : 403\n  }\n}\nError fetching related artists: 404, {\"error\": {\"status\": 404, \"message\": \"Not Found\" } }\nError fetching audio features: 403, {\n  \"error\" : {\n    \"status\" : 403\n  }\n}\nError fetching related artists: 404, {\"error\": {\"status\": 404, \"message\": \"Not Found\" } }\nError fetching audio features: 403, {\n  \"error\" : {\n    \"status\" : 403\n  }\n}\nError fetching related artists: 404, {\"error\": {\"status\": 404, \"message\": \"Not Found\" } }\nError fetching audio features: 403, {\n  \"error\" : {\n    \"status\" : 403\n  }\n}\nError fetching related artists: 404, {\"error\": {\"status\": 404, \"message\": \"Not Found\" } }\nError fetching audio features: 403, {\n  \"error\" : {\n    \"status\" : 403\n  }\n}\nError fetching related artists: 404, {\"error\": {\"status\": 404, \"message\": \"Not Found\" } }\nError fetching audio features: 403, {\n  \"error\" : {\n    \"status\" : 403\n  }\n}\nError fetching related artists: 404, {\"error\": {\"status\": 404, \"message\": \"Not Found\" } }\nError fetching audio features: 403, {\n  \"error\" : {\n    \"status\" : 403\n  }\n}\nError fetching related artists: 404, {\"error\": {\"status\": 404, \"message\": \"Not Found\" } }\nError fetching audio features: 403, {\n  \"error\" : {\n    \"status\" : 403\n  }\n}\nError fetching related artists: 404, {\"error\": {\"status\": 404, \"message\": \"Not Found\" } }\nError fetching audio features: 403, {\n  \"error\" : {\n    \"status\" : 403\n  }\n}\nError fetching related artists: 404, {\"error\": {\"status\": 404, \"message\": \"Not Found\" } }\nError fetching audio features: 403, {\n  \"error\" : {\n    \"status\" : 403\n  }\n}\nError fetching related artists: 404, {\"error\": {\"status\": 404, \"message\": \"Not Found\" } }\nError fetching audio features: 403, {\n  \"error\" : {\n    \"status\" : 403\n  }\n}\nError fetching related artists: 404, {\"error\": {\"status\": 404, \"message\": \"Not Found\" } }\nError fetching audio features: 403, {\n  \"error\" : {\n    \"status\" : 403\n  }\n}\nError fetching related artists: 404, {\"error\": {\"status\": 404, \"message\": \"Not Found\" } }\nError fetching audio features: 403, {\n  \"error\" : {\n    \"status\" : 403\n  }\n}\nError fetching related artists: 404, {\"error\": {\"status\": 404, \"message\": \"Not Found\" } }\nError fetching audio features: 403, {\n  \"error\" : {\n    \"status\" : 403\n  }\n}\nError fetching related artists: 404, {\"error\": {\"status\": 404, \"message\": \"Not Found\" } }\nError fetching audio features: 403, {\n  \"error\" : {\n    \"status\" : 403\n  }\n}\nError fetching related artists: 404, {\"error\": {\"status\": 404, \"message\": \"Not Found\" } }\nError fetching audio features: 403, {\n  \"error\" : {\n    \"status\" : 403\n  }\n}\nError fetching related artists: 404, {\"error\": {\"status\": 404, \"message\": \"Not Found\" } }\nError fetching audio features: 403, {\n  \"error\" : {\n    \"status\" : 403\n  }\n}\nError fetching related artists: 404, {\"error\": {\"status\": 404, \"message\": \"Not Found\" } }\nError fetching audio features: 403, {\n  \"error\" : {\n    \"status\" : 403\n  }\n}\nError fetching related artists: 404, {\"error\": {\"status\": 404, \"message\": \"Not Found\" } }\nError fetching audio features: 403, {\n  \"error\" : {\n    \"status\" : 403\n  }\n}\nError fetching related artists: 404, {\"error\": {\"status\": 404, \"message\": \"Not Found\" } }\nError fetching audio features: 403, {\n  \"error\" : {\n    \"status\" : 403\n  }\n}\nError fetching related artists: 404, {\"error\": {\"status\": 404, \"message\": \"Not Found\" } }\nError fetching audio features: 403, {\n  \"error\" : {\n    \"status\" : 403\n  }\n}\nError fetching related artists: 404, {\"error\": {\"status\": 404, \"message\": \"Not Found\" } }\nError fetching audio features: 403, {\n  \"error\" : {\n    \"status\" : 403\n  }\n}\nError fetching related artists: 404, {\"error\": {\"status\": 404, \"message\": \"Not Found\" } }\nError fetching audio features: 403, {\n  \"error\" : {\n    \"status\" : 403\n  }\n}\nError fetching related artists: 404, {\"error\": {\"status\": 404, \"message\": \"Not Found\" } }\nError fetching audio features: 403, {\n  \"error\" : {\n    \"status\" : 403\n  }\n}\nError fetching related artists: 404, {\"error\": {\"status\": 404, \"message\": \"Not Found\" } }\nError fetching audio features: 403, {\n  \"error\" : {\n    \"status\" : 403\n  }\n}\nError fetching related artists: 404, {\"error\": {\"status\": 404, \"message\": \"Not Found\" } }\nError fetching audio features: 403, {\n  \"error\" : {\n    \"status\" : 403\n  }\n}\nError fetching related artists: 404, {\"error\": {\"status\": 404, \"message\": \"Not Found\" } }\nError fetching audio features: 403, {\n  \"error\" : {\n    \"status\" : 403\n  }\n}\nError fetching related artists: 404, {\"error\": {\"status\": 404, \"message\": \"Not Found\" } }\nError fetching audio features: 403, {\n  \"error\" : {\n    \"status\" : 403\n  }\n}\nError fetching related artists: 404, {\"error\": {\"status\": 404, \"message\": \"Not Found\" } }\nError fetching audio features: 403, {\n  \"error\" : {\n    \"status\" : 403\n  }\n}\nError fetching related artists: 404, {\"error\": {\"status\": 404, \"message\": \"Not Found\" } }\nError fetching audio features: 403, {\n  \"error\" : {\n    \"status\" : 403\n  }\n}\nError fetching related artists: 404, {\"error\": {\"status\": 404, \"message\": \"Not Found\" } }\nError fetching audio features: 403, {\n  \"error\" : {\n    \"status\" : 403\n  }\n}\nError fetching related artists: 404, {\"error\": {\"status\": 404, \"message\": \"Not Found\" } }\nError fetching audio features: 403, {\n  \"error\" : {\n    \"status\" : 403\n  }\n}\nError fetching related artists: 404, {\"error\": {\"status\": 404, \"message\": \"Not Found\" } }\nError fetching audio features: 403, {\n  \"error\" : {\n    \"status\" : 403\n  }\n}\nError fetching related artists: 404, {\"error\": {\"status\": 404, \"message\": \"Not Found\" } }\nError fetching audio features: 403, {\n  \"error\" : {\n    \"status\" : 403\n  }\n}\nError fetching related artists: 404, {\"error\": {\"status\": 404, \"message\": \"Not Found\" } }\nError fetching audio features: 403, {\n  \"error\" : {\n    \"status\" : 403\n  }\n}\nError fetching related artists: 404, {\"error\": {\"status\": 404, \"message\": \"Not Found\" } }\nError fetching audio features: 403, {\n  \"error\" : {\n    \"status\" : 403\n  }\n}\nError fetching related artists: 404, {\"error\": {\"status\": 404, \"message\": \"Not Found\" } }\nError fetching audio features: 403, {\n  \"error\" : {\n    \"status\" : 403\n  }\n}\nError fetching related artists: 404, {\"error\": {\"status\": 404, \"message\": \"Not Found\" } }\nError fetching audio features: 403, {\n  \"error\" : {\n    \"status\" : 403\n  }\n}\nError fetching related artists: 404, {\"error\": {\"status\": 404, \"message\": \"Not Found\" } }\nError fetching audio features: 403, {\n  \"error\" : {\n    \"status\" : 403\n  }\n}\nError fetching related artists: 404, {\"error\": {\"status\": 404, \"message\": \"Not Found\" } }\nError fetching audio features: 403, {\n  \"error\" : {\n    \"status\" : 403\n  }\n}\nError fetching related artists: 404, {\"error\": {\"status\": 404, \"message\": \"Not Found\" } }\nError fetching audio features: 403, {\n  \"error\" : {\n    \"status\" : 403\n  }\n}\nError fetching related artists: 404, {\"error\": {\"status\": 404, \"message\": \"Not Found\" } }\nError fetching audio features: 403, {\n  \"error\" : {\n    \"status\" : 403\n  }\n}\nArtist performance data saved to 'artist_performance_data.csv'\n                   Name                      ID  ...  Energy Tempo\n0          Arijit Singh  4YRxDV8wJFPHPTeXepOstw  ...      []    []\n1            Ed Sheeran  6eUKZXaKkcviH0Ku9w2n3V  ...      []    []\n2          Taylor Swift  06HL4z0CvFAxyc27GXpf02  ...      []    []\n3         Ariana Grande  66CXWjxzNUsdJxJ2JdwvnR  ...      []    []\n4                 Drake  3TVXtAsR1Inumwj472S9r4  ...      []    []\n5                   BTS  3Nrfpe0tUJi4K4DXYWgMUX  ...      []    []\n6         Billie Eilish  6qqNVTkY8uBg9cP3Jd7DAH  ...      []    []\n7           Post Malone  246dkjvS1zLTtiykXe5h60  ...      []    []\n8         Justin Bieber  1uNFoZAHBGtllmzznpCI3s  ...      []    []\n9          Shawn Mendes  7n2wHs1TKAczGzO7Dd2rGr  ...      []    []\n10             Dua Lipa  6M2wZ9GZgrQXHCFfjv46we  ...      []    []\n11           The Weeknd  1Xyo4u8uXC1ZmMpatF05PJ  ...      []    []\n12       Kendrick Lamar  2YZyLoL8N0Wb9xBt1NhZWg  ...      []    []\n13           Kanye West  5K4W6rqBFWDnAN6FQUkS6x  ...      []    []\n14             Coldplay  4gzpq5DPGxSnKTe4SA8HAU  ...      []    []\n15      Imagine Dragons  53XhwfbYqKCa1cC15pYq2q  ...      []    []\n16           Bruno Mars  0du5cEVh5yTK9QJze8zA0C  ...      []    []\n17              Rihanna  5pKCCKE2ajJHZ9KAiaK11H  ...      []    []\n18               Halsey  26VFTg2z8YR0cCuwLzESi2  ...      []    []\n19                Adele  4dpARuHxo51G3z768sgnrY  ...      []    []\n20              Cardi B  4kYSro6naA4h99UJvo89HB  ...      []    []\n21         Travis Scott  0Y5tJX1MQlPlqiwlOH1tJY  ...      []    []\n22            Lady Gaga  1HY2Jd0NmPuamShAr6KMms  ...      []    []\n23                 ZAYN  5ZsFI1h6hIdQRw2ti0hz81  ...      []    []\n24         Selena Gomez  0C8ZW7ezQVs4URX5aX7Kqx  ...      []    []\n25         Harry Styles  6KImCVD70vtIoJWnq6nGn3  ...      []    []\n26            Sam Smith  2wY79sveU1sp5g7SokKOiI  ...      []    []\n27            Lil Nas X  7jVv8c5Fj3E9VhNjxT4snq  ...      []    []\n28  Megan Thee Stallion  181bsRPaVXVlUKXrxwZfHK  ...      []    []\n29             Doja Cat  5cj0lLjcoR7YOSnhnX0Po5  ...      []    []\n30     The Chainsmokers  69GGBxA162lTqCwzJG5jLp  ...      []    []\n31               Eminem  7dGJo4pcD2V6oG8kP0tJRR  ...      []    []\n32          Nicki Minaj  0hCNtLu0JehylgoiP8L4Gh  ...      []    []\n33             Maroon 5  04gDigrS5kc9YWfZHwBETP  ...      []    []\n34         Lana Del Rey  00FQb4jTyendYWaN8pK0wa  ...      []    []\n35              Shakira  0EmeFodog0BfCgMzAIvKQp  ...      []    []\n36       Camila Cabello  4nDoRrQiYLoBzwC5BhVJzF  ...      []    []\n37              Pitbull  0TnOYISbd1XYRBk9myaseg  ...      []    []\n38           Katy Perry  6jJ0s89eD6GaHleKKya26X  ...      []    []\n39        One Direction  4AK6F7OLvEQ5QYCBNiQWHq  ...      []    []\n40           Édith Piaf  1WPcVNert9hn7mHsPKDn7j  ...      []    []\n41           Luis Fonsi  4V8Sr092TqfHkfAA5fXXqG  ...      []    []\n42         Shawn Mendes  7n2wHs1TKAczGzO7Dd2rGr  ...      []    []\n43         Charlie Puth  6VuMaDnrHyPL1p4EHjYLi7  ...      []    []\n44          Miley Cyrus  5YGY8feqx7naU7z4HrwZM6  ...      []    []\n45          John Legend  5y2Xq6xcjJb2jVM54GHK3t  ...      []    []\n46          Alan Walker  7vk5e3vY1uw9plTHJAMwjN  ...      []    []\n47          Alicia Keys  3DiDSECUqqY1AuBP8qtaIa  ...      []    []\n48               Avicii  1vCWHaC5f2uS3yhpwWbIA6  ...      []    []\n49                Kesha  6LqNN22kT3074XbTVUrhzX  ...      []    []\n50                  Sia  5WUlDfRSoLAfcVSX1WnrxN  ...      []    []\n51             Rita Ora  5CCwRZC6euC8Odo6y9X8jr  ...      []    []\n52   The Rolling Stones  22bE4uQ6baNwSHPVcDxLCe  ...      []    []\n\n[53 rows x 14 columns]\n"
     ]
    }
   ],
   "source": [
    "import base64\n",
    "import requests\n",
    "import pandas as pd\n",
    "import json\n",
    "\n",
    "# Spotify credentials\n",
    "client_id = \"0090f5edcfae4e96afc0bcc353e08dd1\"\n",
    "client_secret = \"8e7147684cae4f29ac4c8e4c00e60b86\"\n",
    "\n",
    "# Function to get access token\n",
    "def get_access_token(client_id, client_secret):\n",
    "    print(\"Fetching access token...\")\n",
    "    url = \"https://accounts.spotify.com/api/token\"\n",
    "    auth_str = f\"{client_id}:{client_secret}\"\n",
    "    auth_base64 = base64.b64encode(auth_str.encode(\"utf-8\")).decode(\"utf-8\")\n",
    "    headers = {\n",
    "        \"Authorization\": f\"Basic {auth_base64}\",\n",
    "        \"Content-Type\": \"application/x-www-form-urlencoded\",\n",
    "    }\n",
    "    data = {\"grant_type\": \"client_credentials\"}\n",
    "    response = requests.post(url, headers=headers, data=data)\n",
    "    if response.status_code == 200:\n",
    "        return response.json()[\"access_token\"]\n",
    "    else:\n",
    "        print(f\"Error fetching token: {response.status_code}, {response.text}\")\n",
    "        return None\n",
    "\n",
    "# Function to search for artist by name\n",
    "def search_spotify(query, search_type, access_token):\n",
    "    url = \"https://api.spotify.com/v1/search\"\n",
    "    params = {\"q\": query, \"type\": search_type, \"limit\": 1}\n",
    "    headers = {\"Authorization\": f\"Bearer {access_token}\"}\n",
    "    response = requests.get(url, headers=headers, params=params)\n",
    "    if response.status_code == 200:\n",
    "        return response.json()\n",
    "    else:\n",
    "        print(f\"Error fetching {search_type}: {response.status_code}, {response.text}\")\n",
    "        return None\n",
    "\n",
    "# Function to get artist data by Spotify ID\n",
    "def get_artist_data(artist_id, access_token):\n",
    "    url = f\"https://api.spotify.com/v1/artists/{artist_id}\"\n",
    "    headers = {\"Authorization\": f\"Bearer {access_token}\"}\n",
    "    response = requests.get(url, headers=headers)\n",
    "    if response.status_code == 200:\n",
    "        artist_info = response.json()\n",
    "        artist_data = {\n",
    "            \"Name\": artist_info[\"name\"],\n",
    "            \"ID\": artist_info[\"id\"],\n",
    "            \"Followers\": artist_info[\"followers\"][\"total\"],\n",
    "            \"Genres\": \", \".join(artist_info[\"genres\"]),\n",
    "            \"Popularity\": artist_info[\"popularity\"],\n",
    "            \"Spotify URL\": artist_info[\"external_urls\"][\"spotify\"],\n",
    "            \"Image URL\": artist_info[\"images\"][0][\"url\"] if artist_info[\"images\"] else None\n",
    "        }\n",
    "        return artist_data\n",
    "    else:\n",
    "        print(f\"Error fetching artist data: {response.status_code}, {response.text}\")\n",
    "        return None\n",
    "\n",
    "# Function to get top tracks (songs) for an artist\n",
    "def get_top_tracks(artist_id, access_token):\n",
    "    url = f\"https://api.spotify.com/v1/artists/{artist_id}/top-tracks?market=US\"\n",
    "    headers = {\"Authorization\": f\"Bearer {access_token}\"}\n",
    "    response = requests.get(url, headers=headers)\n",
    "    if response.status_code == 200:\n",
    "        top_tracks_data = response.json()\n",
    "        top_tracks = [track[\"name\"] for track in top_tracks_data[\"tracks\"]]\n",
    "        top_track_popularity = [track[\"popularity\"] for track in top_tracks_data[\"tracks\"]]\n",
    "        return top_tracks, top_track_popularity\n",
    "    else:\n",
    "        print(f\"Error fetching top tracks: {response.status_code}, {response.text}\")\n",
    "        return [], []\n",
    "\n",
    "# Function to fetch related artists for an artist\n",
    "def get_related_artists(artist_id, access_token):\n",
    "    url = f\"https://api.spotify.com/v1/artists/{artist_id}/related-artists\"\n",
    "    headers = {\"Authorization\": f\"Bearer {access_token}\"}\n",
    "    response = requests.get(url, headers=headers)\n",
    "    if response.status_code == 200:\n",
    "        related_artists_data = response.json()\n",
    "        related_artists = [artist[\"name\"] for artist in related_artists_data[\"artists\"]]\n",
    "        return related_artists\n",
    "    else:\n",
    "        print(f\"Error fetching related artists: {response.status_code}, {response.text}\")\n",
    "        return []\n",
    "\n",
    "# Function to fetch albums for an artist\n",
    "def get_albums(artist_id, access_token):\n",
    "    url = f\"https://api.spotify.com/v1/artists/{artist_id}/albums\"\n",
    "    headers = {\"Authorization\": f\"Bearer {access_token}\"}\n",
    "    response = requests.get(url, headers=headers)\n",
    "    if response.status_code == 200:\n",
    "        albums_data = response.json()\n",
    "        album_dates = [album[\"release_date\"] for album in albums_data[\"items\"]]\n",
    "        # album_popularity = [album[\"Popularity\"] for album in albums_data[\"items\"]]\n",
    "        return album_dates\n",
    "    else:\n",
    "        print(f\"Error fetching albums: {response.status_code}, {response.text}\")\n",
    "        return [], []\n",
    "\n",
    "# Function to fetch audio features for top tracks\n",
    "def get_audio_features(top_track_ids, access_token):\n",
    "    url = f\"https://api.spotify.com/v1/audio-features?ids={','.join(top_track_ids)}\"\n",
    "    headers = {\"Authorization\": f\"Bearer {access_token}\"}\n",
    "    response = requests.get(url, headers=headers)\n",
    "    if response.status_code == 200:\n",
    "        audio_features_data = response.json()\n",
    "        danceability = [features[\"danceability\"] for features in audio_features_data[\"audio_features\"]]\n",
    "        energy = [features[\"energy\"] for features in audio_features_data[\"audio_features\"]]\n",
    "        tempo = [features[\"tempo\"] for features in audio_features_data[\"audio_features\"]]\n",
    "        return danceability, energy, tempo\n",
    "    else:\n",
    "        print(f\"Error fetching audio features: {response.status_code}, {response.text}\")\n",
    "        return [], [], []\n",
    "\n",
    "# Function to get full artist performance data\n",
    "def get_full_artist_performance_data(artist_name, access_token):\n",
    "    artist_data = search_spotify(artist_name, \"artist\", access_token)\n",
    "    if artist_data and \"artists\" in artist_data and artist_data[\"artists\"][\"items\"]:\n",
    "        artist_info = artist_data[\"artists\"][\"items\"][0]\n",
    "        artist_id = artist_info[\"id\"]\n",
    "        \n",
    "        # Fetch artist basic data\n",
    "        artist_performance = get_artist_data(artist_id, access_token)\n",
    "        \n",
    "        # Fetch top tracks and related artists\n",
    "        top_tracks, top_track_popularity = get_top_tracks(artist_id, access_token)\n",
    "        related_artists = get_related_artists(artist_id, access_token)\n",
    "        \n",
    "        # Fetch albums and audio features\n",
    "        album_dates = get_albums(artist_id, access_token)\n",
    "        danceability, energy, tempo = get_audio_features(top_tracks, access_token)\n",
    "        \n",
    "        # Combine all performance data\n",
    "        performance_data = {\n",
    "            \"Name\": artist_performance[\"Name\"],\n",
    "            \"ID\": artist_performance[\"ID\"],\n",
    "            \"Followers\": artist_performance[\"Followers\"],\n",
    "            \"Genres\": artist_performance[\"Genres\"],\n",
    "            \"Popularity\": artist_performance[\"Popularity\"],\n",
    "            \"Spotify URL\": artist_performance[\"Spotify URL\"],\n",
    "            \"Image URL\": artist_performance[\"Image URL\"],\n",
    "            \"Top Tracks\": top_tracks,\n",
    "            \"Top Track Popularity\": top_track_popularity,\n",
    "            \"Related Artists\": related_artists,\n",
    "            \"Album Release Dates\": album_dates,\n",
    "            \"Danceability\": danceability,\n",
    "            \"Energy\": energy,\n",
    "            \"Tempo\": tempo\n",
    "        }\n",
    "        \n",
    "        # Return a DataFrame\n",
    "        return pd.DataFrame([performance_data])\n",
    "\n",
    "    else:\n",
    "        print(f\"Artist '{artist_name}' not found.\")\n",
    "        return None\n",
    "\n",
    "# Main function to execute\n",
    "def main():\n",
    "    token = get_access_token(client_id, client_secret)\n",
    "    print(\"-----\")\n",
    "    if not token:\n",
    "        return\n",
    "\n",
    "    # List of 50 artists you want to analyze\n",
    "    artist_names = [\n",
    "        \"Arijit Singh\", \"Ed Sheeran\", \"Taylor Swift\", \"Ariana Grande\", \"Drake\",\n",
    "        \"BTS\", \"Billie Eilish\", \"Post Malone\", \"Justin Bieber\", \"Shawn Mendes\",\n",
    "        \"Dua Lipa\", \"The Weeknd\", \"Kendrick Lamar\", \"Kanye West\", \"Coldplay\",\n",
    "        \"Imagine Dragons\", \"Bruno Mars\", \"Rihanna\", \"Halsey\", \"Adele\",\n",
    "        \"Cardi B\", \"Travis Scott\", \"Lady Gaga\", \"Zayn Malik\", \"Selena Gomez\",\n",
    "        \"Harry Styles\", \"Sam Smith\", \"Lil Nas X\", \"Megan Thee Stallion\", \"Doja Cat\",\n",
    "        \"The Chainsmokers\", \"Eminem\", \"Nicki Minaj\", \"Maroon 5\", \"Lana Del Rey\",\n",
    "        \"Shakira\", \"Camila Cabello\", \"Pitbull\", \"Katy Perry\", \"One Direction\", \n",
    "        \"Edith Piaf\", \"Luis Fonsi\", \"Shawn Mendes\", \"Charlie Puth\", \"Miley Cyrus\", \n",
    "        \"John Legend\", \"Alan Walker\", \"Alicia Keys\", \"Avicii\", \"Kesha\", \"Sia\", \"Rita Ora\", \"The Rolling Stones\"\n",
    "    ]\n",
    "\n",
    "    all_artist_data = []\n",
    "    # Fetch data for each artist\n",
    "    for artist_name in artist_names:\n",
    "        artist_data = get_full_artist_performance_data(artist_name, token)\n",
    "        if artist_data is not None:\n",
    "            all_artist_data.append(artist_data)\n",
    "        \n",
    "    # Combine data for all artists\n",
    "    if all_artist_data:\n",
    "        final_data = pd.concat(all_artist_data, ignore_index=True)\n",
    "        # Save the data to CSV\n",
    "        final_data.to_csv(\"artist_performance_data.csv\", index=False)\n",
    "        print(\"Artist performance data saved to 'artist_performance_data.csv'\")\n",
    "        \n",
    "    else:\n",
    "         print(\"No artist data found.\")\n",
    "    print(final_data)   \n",
    "if __name__ == \"__main__\":\n",
    "    main()"
   ]
  },
  {
   "cell_type": "code",
   "execution_count": 0,
   "metadata": {
    "application/vnd.databricks.v1+cell": {
     "cellMetadata": {
      "byteLimit": 2048000,
      "rowLimit": 10000
     },
     "inputWidgets": {},
     "nuid": "c52454a0-f4c3-4ca7-ba45-41337e732181",
     "showTitle": false,
     "tableResultSettingsMap": {},
     "title": ""
    }
   },
   "outputs": [
    {
     "output_type": "display_data",
     "data": {
      "text/html": [
       "<style scoped>\n",
       "  .table-result-container {\n",
       "    max-height: 300px;\n",
       "    overflow: auto;\n",
       "  }\n",
       "  table, th, td {\n",
       "    border: 1px solid black;\n",
       "    border-collapse: collapse;\n",
       "  }\n",
       "  th, td {\n",
       "    padding: 5px;\n",
       "  }\n",
       "  th {\n",
       "    text-align: left;\n",
       "  }\n",
       "</style><div class='table-result-container'><table class='table-result'><thead style='background-color: white'><tr><th>Name</th><th>ID</th><th>Followers</th><th>Genres</th><th>Popularity</th><th>Spotify URL</th><th>Image URL</th><th>Top Tracks</th><th>Top Track Popularity</th><th>Related Artists</th><th>Album Release Dates</th><th>Danceability</th><th>Energy</th><th>Tempo</th></tr></thead><tbody><tr><td>Arijit Singh</td><td>4YRxDV8wJFPHPTeXepOstw</td><td>133168035</td><td>filmi, modern bollywood</td><td>92</td><td>https://open.spotify.com/artist/4YRxDV8wJFPHPTeXepOstw</td><td>https://i.scdn.co/image/ab6761610000e5eb5ba2d75eb08a2d672f9b69b7</td><td>['Sajni (From \"Laapataa Ladies\")', 'Apna Bana Le', 'Tujhe Kitna Chahne Lage (From \"Kabir Singh\")', 'Satranga (From \"ANIMAL\")', 'Heeriye (feat. Arijit Singh)', 'Humdard (From \"Ek Villain\")', 'O Maahi', 'Tum Hi Ho', 'Agar Tum Saath Ho (From \"Tamasha\")', 'Tainu Khabar Nahi - From \"Munjya\"']</td><td>[79, 74, 77, 77, 76, 74, 71, 75, 69, 74]</td><td>[]</td><td>['2024-07-31', '2024-04-26', '2024-04-26', '2024-04-25', '2024-04-25', '2024-04-24', '2024-04-24', '2024-04-24', '2024-02-12', '2023-08-14', '2023-08-08', '2023-07-14', '2023-05-26', '2023-05-15', '2022-11-30', '2022-08-14', '2021-05-04', '2021-03-31', '2021-03-15', '2021-02-17']</td><td>[]</td><td>[]</td><td>[]</td></tr><tr><td>Ed Sheeran</td><td>6eUKZXaKkcviH0Ku9w2n3V</td><td>118303036</td><td>pop, singer-songwriter pop, uk pop</td><td>90</td><td>https://open.spotify.com/artist/6eUKZXaKkcviH0Ku9w2n3V</td><td>https://i.scdn.co/image/ab6761610000e5eb784daff754ecfe0464ddbeb9</td><td>['Merry Christmas', 'Shape of You', 'Perfect', 'Photograph', 'Shivers', 'Thinking out Loud', 'Under the Tree (from “That Christmas”)', 'Bad Habits', \"I Don't Care (with Justin Bieber)\", 'Castle on the Hill']</td><td>[82, 86, 86, 66, 83, 65, 79, 78, 74, 76]</td><td>[]</td><td>['2024-12-27', '2024-09-27', '2024-06-21', '2023-10-02', '2023-09-29', '2023-05-05', '2022-05-27', '2021-10-25', '2021-10-25', '2019-07-12', '2017-03-03', '2014-06-21', '2014-06-20', '2013', '2011-12-09', '2011-12-09', '2011-09-09', '2011-09-09', '2024-11-26', '2024-09-18']</td><td>[]</td><td>[]</td><td>[]</td></tr><tr><td>Taylor Swift</td><td>06HL4z0CvFAxyc27GXpf02</td><td>129785206</td><td>pop</td><td>100</td><td>https://open.spotify.com/artist/06HL4z0CvFAxyc27GXpf02</td><td>https://i.scdn.co/image/ab6761610000e5ebe672b5f553298dcdccb0e676</td><td>['Cruel Summer', 'Fortnight (feat. Post Malone)', 'Christmas Tree Farm', 'I Can Do It With a Broken Heart', 'cardigan', 'Lover', 'august', 'Don’t Blame Me', 'Anti-Hero', 'Blank Space']</td><td>[88, 84, 85, 81, 82, 83, 82, 82, 81, 69]</td><td>[]</td><td>['2024-04-19', '2024-04-18', '2023-10-27', '2023-10-26', '2023-07-07', '2023-05-26', '2022-10-22', '2022-10-21', '2021-11-12', '2021-04-09', '2021-01-07', '2020-12-11', '2020-11-25', '2020-08-18', '2020-07-24', '2019-08-23', '2017-11-10', '2017-11-09', '2014-10-27', '2014-10-27']</td><td>[]</td><td>[]</td><td>[]</td></tr><tr><td>Ariana Grande</td><td>66CXWjxzNUsdJxJ2JdwvnR</td><td>102593265</td><td>pop</td><td>96</td><td>https://open.spotify.com/artist/66CXWjxzNUsdJxJ2JdwvnR</td><td>https://i.scdn.co/image/ab6761610000e5eb40b5c07ab77b6b1a9075fdc0</td><td>['Santa Tell Me', \"we can't be friends (wait for your love)\", 'Santa, Can’t You Hear Me', 'Popular', 'What Is This Feeling?', 'Save Your Tears (Remix) (with Ariana Grande) - Bonus Track', '7 rings', 'the boy is mine', 'One Last Time', 'Last Christmas']</td><td>[94, 87, 85, 84, 84, 79, 82, 82, 82, 82]</td><td>[]</td><td>['2024-11-22', '2024-10-01', '2024-08-22', '2024-03-11', '2024-03-08', '2023-08-25', '2021-02-19', '2020-10-30', '2019-12-23', '2019-02-08', '2018-08-17', '2016-05-20', '2014-08-22', '2013-01-01', '2024-10-10', '2024-09-08', '2024-07-19', '2024-06-21', '2024-03-08', '2024-02-16']</td><td>[]</td><td>[]</td><td>[]</td></tr><tr><td>Drake</td><td>3TVXtAsR1Inumwj472S9r4</td><td>94924678</td><td>canadian hip hop, canadian pop, hip hop, pop rap, rap</td><td>97</td><td>https://open.spotify.com/artist/3TVXtAsR1Inumwj472S9r4</td><td>https://i.scdn.co/image/ab6761610000e5eb4293385d324db8558179afd9</td><td>['One Dance', 'WAIT FOR U (feat. Drake & Tems)', \"God's Plan\", 'Passionfruit', 'Jimmy Cooks (feat. 21 Savage)', 'Rich Baby Daddy (feat. Sexyy Red & SZA)', 'Circadian Rhythm', 'Teenage Fever', 'Fair Trade (with Travis Scott)', 'Headlines']</td><td>[85, 82, 81, 80, 79, 79, 78, 78, 78, 77]</td><td>[]</td><td>['2023-11-17', '2023-10-06', '2022-11-04', '2022-06-17', '2021-09-03', '2020-05-01', '2019-08-02', '2018-06-29', '2017-03-18', '2016-05-06', '2015-09-20', '2015-02-12', '2013-01-01', '2013-01-01', '2011-11-15', '2010-01-01', '2009', '2024-08-31', '2024-08-30', '2024-07-26']</td><td>[]</td><td>[]</td><td>[]</td></tr><tr><td>BTS</td><td>3Nrfpe0tUJi4K4DXYWgMUX</td><td>77343777</td><td>k-pop, k-pop boy group, pop</td><td>88</td><td>https://open.spotify.com/artist/3Nrfpe0tUJi4K4DXYWgMUX</td><td>https://i.scdn.co/image/ab6761610000e5ebd642648235ebf3460d2d1f6a</td><td>['Dynamite', 'My Universe', 'Left and Right (Feat. Jung Kook of BTS)', 'FAKE LOVE', 'Boy With Luv (feat. Halsey)', 'Butter', 'Life Goes On', 'Run BTS', 'Spring Day', 'Permission to Dance']</td><td>[78, 73, 73, 73, 73, 71, 72, 72, 71, 71]</td><td>[]</td><td>['2022-06-10', '2020-11-20', '2020-07-14', '2020-02-21', '2019-04-12', '2018-08-24', '2018-05-18', '2018-04-04', '2017-09-18', '2017-02-13', '2016-10-10', '2016-09-07', '2016-05-02', '2015-11-30', '2015-04-29', '2014-12-24', '2014-08-20', '2014-05-14', '2014-02-12', '2013-09-11']</td><td>[]</td><td>[]</td><td>[]</td></tr><tr><td>Billie Eilish</td><td>6qqNVTkY8uBg9cP3Jd7DAH</td><td>105041600</td><td>art pop, pop</td><td>96</td><td>https://open.spotify.com/artist/6qqNVTkY8uBg9cP3Jd7DAH</td><td>https://i.scdn.co/image/ab6761610000e5eb4a21b4760d2ecb7b0dcdc8da</td><td>['BIRDS OF A FEATHER', 'WILDFLOWER', 'CHIHIRO', 'Guess featuring billie eilish', 'lovely (with Khalid)', 'LUNCH', 'What Was I Made For? [From The Motion Picture \"Barbie\"]', 'ocean eyes', \"when the party's over\", 'TV']</td><td>[97, 93, 87, 82, 86, 85, 85, 72, 83, 82]</td><td>[]</td><td>['2024-05-17', '2021-07-30', '2019-03-29', '2024-08-01', '2024-05-21', '2023-07-13', '2023-05-09', '2022-07-21', '2021-07-28', '2021-02-22', '2021-01-21', '2020-11-12', '2020-07-30', '2020-02-13', '2019-11-13', '2019-07-11', '2019-01-09', '2018-11-20', '2018-04-19', '2018-03-30']</td><td>[]</td><td>[]</td><td>[]</td></tr><tr><td>Post Malone</td><td>246dkjvS1zLTtiykXe5h60</td><td>46205845</td><td>dfw rap, melodic rap, pop, rap</td><td>91</td><td>https://open.spotify.com/artist/246dkjvS1zLTtiykXe5h60</td><td>https://i.scdn.co/image/ab6761610000e5ebe17c0aa1714a03d62b5ce4e0</td><td>['I Had Some Help (Feat. Morgan Wallen)', 'Fortnight (feat. Post Malone)', 'Sunflower - Spider-Man: Into the Spider-Verse', 'Circles', 'rockstar (feat. 21 Savage)', 'Guy For That (Feat. Luke Combs)', 'Dial Drunk (with Post Malone)', 'Congratulations', 'Better Now', 'Pour Me A Drink (Feat. Blake Shelton)']</td><td>[84, 84, 81, 83, 80, 76, 78, 77, 77, 74]</td><td>[]</td><td>['2024-08-16', '2024-08-15', '2023-08-02', '2023-07-28', '2023-04-21', '2022-06-07', '2022-06-03', '2019-09-06', '2018-04-27', '2016-12-09', '2016-12-09', '2024-09-06', '2024-08-15', '2024-08-15', '2024-08-15', '2024-08-15', '2024-08-15', '2024-08-15', '2024-08-15', '2024-08-15']</td><td>[]</td><td>[]</td><td>[]</td></tr><tr><td>Justin Bieber</td><td>1uNFoZAHBGtllmzznpCI3s</td><td>79912279</td><td>canadian pop, pop</td><td>93</td><td>https://open.spotify.com/artist/1uNFoZAHBGtllmzznpCI3s</td><td>https://i.scdn.co/image/ab6761610000e5eb8ae7f2aaa9817a704a87ea36</td><td>['Mistletoe', 'STAY (with Justin Bieber)', 'Ghost', 'Love Yourself', 'Sorry', 'Beauty And A Beat', 'Baby', 'What Do You Mean?', 'bad guy', 'Confident']</td><td>[89, 82, 83, 82, 82, 79, 81, 80, 56, 79]</td><td>[]</td><td>['2021-10-08', '2021-03-26', '2021-03-19', '2020-02-14', '2015-11-13', '2014-05-13', '2013-01-01', '2012-06-15', '2012-01-01', '2011-01-01', '2011-01-01', '2011-01-01', '2010-01-01', '2010-01-01', '2009-01-01', '2023-09-15', '2023-02-23', '2022-08-30', '2022-04-29', '2022-04-27']</td><td>[]</td><td>[]</td><td>[]</td></tr><tr><td>Shawn Mendes</td><td>7n2wHs1TKAczGzO7Dd2rGr</td><td>44085353</td><td>canadian pop, pop, viral pop</td><td>85</td><td>https://open.spotify.com/artist/7n2wHs1TKAczGzO7Dd2rGr</td><td>https://i.scdn.co/image/ab6761610000e5eb58b4b9419486550f6fda0535</td><td>[\"There's Nothing Holdin' Me Back\", 'Treat You Better', 'Stitches', 'Señorita', 'Mercy', 'Why Why Why', 'Heart of Gold', \"If I Can't Have You\", 'Monster (Shawn Mendes & Justin Bieber)', 'I Know What You Did Last Summer']</td><td>[84, 83, 82, 78, 78, 67, 69, 70, 66, 70]</td><td>[]</td><td>['2024-11-15', '2020-12-07', '2020-12-05', '2020-12-04', '2019-06-19', '2018-05-25', '2017-11-03', '2017-04-20', '2017-04-20', '2016-12-23', '2015-11-20', '2015-04-14', '2024-11-01', '2024-09-12', '2024-08-08', '2023-11-21', '2023-06-09', '2022-09-30', '2022-05-13', '2022-03-31']</td><td>[]</td><td>[]</td><td>[]</td></tr><tr><td>Dua Lipa</td><td>6M2wZ9GZgrQXHCFfjv46we</td><td>45339266</td><td>dance pop, pop, uk pop</td><td>89</td><td>https://open.spotify.com/artist/6M2wZ9GZgrQXHCFfjv46we</td><td>https://i.scdn.co/image/ab6761610000e5eb0c68f6c95232e716f0abee8d</td><td>['Cold Heart - PNAU Remix', 'Houdini', \"Don't Start Now\", 'Training Season', 'One Kiss (with Dua Lipa)', 'Dance The Night - From Barbie The Album', 'New Rules', 'Levitating (feat. DaBaby)', 'Scared to Be Lonely', 'Illusion']</td><td>[66, 83, 81, 79, 75, 79, 79, 78, 78, 76]</td><td>[]</td><td>['2024-12-06', '2024-06-28', '2024-05-03', '2021-02-11', '2020-08-28', '2020-03-27', '2018-10-19', '2017-06-02', '2024-11-08', '2024-07-26', '2024-05-01', '2024-04-11', '2024-04-11', '2024-02-15', '2024-02-15', '2024-02-13', '2024-01-19', '2023-12-22', '2023-11-09', '2023-11-09']</td><td>[]</td><td>[]</td><td>[]</td></tr><tr><td>The Weeknd</td><td>1Xyo4u8uXC1ZmMpatF05PJ</td><td>97412415</td><td>canadian contemporary r&b, canadian pop, pop</td><td>97</td><td>https://open.spotify.com/artist/1Xyo4u8uXC1ZmMpatF05PJ</td><td>https://i.scdn.co/image/ab6761610000e5eb9e528993a2820267b97f6aae</td><td>['Timeless (with Playboi Carti)', 'One Of The Girls (with JENNIE, Lily Rose Depp)', 'Starboy', 'Blinding Lights', 'Die For You', 'São Paulo (feat. Anitta)', 'Save Your Tears', 'The Hills', 'Save Your Tears (Remix) (with Ariana Grande) - Bonus Track', 'Stargirl Interlude']</td><td>[92, 90, 87, 87, 84, 84, 83, 83, 79, 81]</td><td>[]</td><td>['2023-03-14', '2023-03-03', '2022-01-07', '2022-01-06', '2020-03-20', '2020-03-20', '2018-03-30', '2016-11-25', '2015-08-28', '2013-09-10', '2012-11-13', '2011-12-21', '2011-08-18', '2011-03-21', '2024-10-31', '2024-09-27', '2024-09-13', '2024-09-13', '2024-01-26', '2023-12-08']</td><td>[]</td><td>[]</td><td>[]</td></tr><tr><td>Kendrick Lamar</td><td>2YZyLoL8N0Wb9xBt1NhZWg</td><td>35889898</td><td>conscious hip hop, hip hop, rap, west coast rap</td><td>97</td><td>https://open.spotify.com/artist/2YZyLoL8N0Wb9xBt1NhZWg</td><td>https://i.scdn.co/image/ab6761610000e5eb39ba6dcd4355c03de0b50918</td><td>['luther (with sza)', 'tv off (feat. lefty gunplay)', 'squabble up', 'Not Like Us', 'All The Stars (with SZA)', 'wacced out murals', 'hey now (feat. dody6)', 'reincarnated', 'dodger blue (feat. wallie the sensei, siete7x, roddy ricch)', 'Like That']</td><td>[86, 91, 90, 88, 86, 85, 85, 84, 84, 84]</td><td>[]</td><td>['2024-11-22', '2022-05-13', '2018-02-09', '2017-12-08', '2017-04-14', '2016-03-04', '2015-03-16', '2012', '2012', '2011-07-02', '2010-09-14', '2024-05-04', '2024-05-03', '2024-04-30', '2023-06-05', '2022-05-08', '2021-08-27', '2018-11-14', '2018-01-12', '2018-01-04']</td><td>[]</td><td>[]</td><td>[]</td></tr><tr><td>Kanye West</td><td>5K4W6rqBFWDnAN6FQUkS6x</td><td>28672172</td><td>chicago rap, hip hop, rap</td><td>93</td><td>https://open.spotify.com/artist/5K4W6rqBFWDnAN6FQUkS6x</td><td>https://i.scdn.co/image/ab6761610000e5eb6e835a500e791bf9c27a422a</td><td>['Heartless', 'Flashing Lights', 'CARNIVAL', 'Violent Crimes', 'Father Stretch My Hands Pt. 1', 'Runaway', 'I Wonder', 'All Falls Down', 'Bound 2', 'Gold Digger']</td><td>[83, 82, 82, 81, 81, 80, 80, 80, 80, 78]</td><td>[]</td><td>['2024-08-03', '2024-02-09', '2021-11-14', '2021-08-29', '2019-10-25', '2018-06-08', '2018-06-01', '2016-06-10', '2013-06-18', '2011-08-12', '2011-08-08', '2010-11-22', '2008-11-24', '2007-09-11', '2005-08-30', '2004-02-10', '2024-08-03', '2024-07-12', '2024-06-21', '2024-05-31']</td><td>[]</td><td>[]</td><td>[]</td></tr><tr><td>Coldplay</td><td>4gzpq5DPGxSnKTe4SA8HAU</td><td>55828469</td><td>permanent wave, pop</td><td>92</td><td>https://open.spotify.com/artist/4gzpq5DPGxSnKTe4SA8HAU</td><td>https://i.scdn.co/image/ab6761610000e5eb1ba8fc5f5c73e7e9313cc6eb</td><td>['Yellow', 'Viva La Vida', 'Something Just Like This', 'A Sky Full of Stars', 'Sparks', 'The Scientist', 'Christmas Lights', 'Fix You', 'Clocks', 'Paradise']</td><td>[88, 85, 86, 85, 85, 84, 83, 82, 81, 81]</td><td>[]</td><td>['2024-10-04', '2024-10-03', '2021-10-15', '2019-11-22', '2018-12-07', '2015-12-04', '2014-11-21', '2014-05-16', '2012-11-19', '2011-10-24', '2009-05-15', '2008-11-24', '2008-05-26', '2005-06-07', '2003-11-01', '2002-08-27', '2000-07-10', '2024-11-29', '2024-11-22', '2024-11-21']</td><td>[]</td><td>[]</td><td>[]</td></tr><tr><td>Imagine Dragons</td><td>53XhwfbYqKCa1cC15pYq2q</td><td>55908450</td><td>modern rock, pop, rock</td><td>89</td><td>https://open.spotify.com/artist/53XhwfbYqKCa1cC15pYq2q</td><td>https://i.scdn.co/image/ab6761610000e5ebab47d8dae2b24f5afe7f9d38</td><td>['Believer', 'Demons', 'Enemy (with JID) - from the series Arcane League of Legends', 'Thunder', 'Bones', 'Radioactive', 'Whatever It Takes', 'Natural', 'Bad Liar', 'Take Me to the Beach (feat. Ado)']</td><td>[85, 71, 80, 83, 80, 70, 80, 79, 78, 78]</td><td>[]</td><td>['2024-06-28', '2023-07-28', '2022-09-09', '2022-07-01', '2018-11-09', '2017-06-23', '2016-06-03', '2015-10-16', '2014-12-16', '2012-09-04', '2012-09-04', '2024-12-16', '2024-11-23', '2024-11-01', '2024-11-01', '2024-10-18', '2024-10-11', '2024-09-27', '2024-04-03', '2023-08-30']</td><td>[]</td><td>[]</td><td>[]</td></tr><tr><td>Bruno Mars</td><td>0du5cEVh5yTK9QJze8zA0C</td><td>65452671</td><td>dance pop, pop</td><td>97</td><td>https://open.spotify.com/artist/0du5cEVh5yTK9QJze8zA0C</td><td>https://i.scdn.co/image/ab6761610000e5ebc36dd9eb55fb0db4911f25dd</td><td>['Die With A Smile', 'APT.', 'Locked out of Heaven', 'Just the Way You Are', \"That's What I Like\", 'When I Was Your Man', 'Talking to the Moon', 'Grenade', 'Marry You', 'It Will Rain']</td><td>[100, 88, 89, 86, 89, 85, 82, 78, 77, 70]</td><td>[]</td><td>['2021-11-12', '2016-11-17', '2012-12-07', '2010-05-11', '2024-10-18', '2024-10-17', '2024-10-17', '2024-10-17', '2024-10-16', '2021-04-02', '2019-07-05', '2019-02-15', '2018-09-14', '2018-03-23', '2017-06-27', '2017-05-26', '2017-04-21', '2017-04-20', '2017-04-18', '2017-04-18']</td><td>[]</td><td>[]</td><td>[]</td></tr><tr><td>Rihanna</td><td>5pKCCKE2ajJHZ9KAiaK11H</td><td>64678133</td><td>barbadian pop, pop, urban contemporary</td><td>92</td><td>https://open.spotify.com/artist/5pKCCKE2ajJHZ9KAiaK11H</td><td>https://i.scdn.co/image/ab6761610000e5eb99e4fca7c0b7cb166d915789</td><td>['We Found Love', \"Breakin' Dishes\", 'Only Girl (In The World)', 'Love On The Brain', 'Umbrella', 'Stay', 'S&M', \"Don't Stop The Music\", 'Diamonds', 'Needed Me']</td><td>[81, 70, 81, 83, 70, 71, 80, 69, 70, 80]</td><td>[]</td><td>['2022-11-11', '2016-01-28', '2016-01-28', '2012-12-11', '2012-12-11', '2011-01-01', '2011-01-01', '2010-11-15', '2010-05-08', '2010-01-01', '2009-11-20', '2009-01-01', '2008-06-02', '2007-01-01', '2006-04-10', '2005-08-29', '2022-10-28', '2020-03-26', '2018-03-18', '2017-12-08']</td><td>[]</td><td>[]</td><td>[]</td></tr><tr><td>Halsey</td><td>26VFTg2z8YR0cCuwLzESi2</td><td>21838423</td><td>electropop, etherpop, indie poptimism, pop</td><td>83</td><td>https://open.spotify.com/artist/26VFTg2z8YR0cCuwLzESi2</td><td>https://i.scdn.co/image/ab6761610000e5eb7f17140567e7df5799d5c3a9</td><td>['Closer', 'Eastside (with Halsey & Khalid)', 'Without Me', 'Him & I (with Halsey)', 'Boy With Luv (feat. Halsey)', 'Bad At Love', 'Be Kind (with Halsey)', 'Gasoline', 'Walls Could Talk', 'Control']</td><td>[84, 78, 78, 77, 73, 75, 69, 69, 68, 68]</td><td>[]</td><td>['2024-10-31', '2022-08-31', '2022-06-02', '2022-01-03', '2021-12-21', '2021-08-27', '2020-08-28', '2020-01-17', '2018-03-15', '2017-06-02', '2015-08-28', '2015-08-28', '2024-10-10', '2024-09-06', '2024-08-15', '2024-07-26', '2024-06-04', '2023-06-05', '2023-02-24', '2022-07-22']</td><td>[]</td><td>[]</td><td>[]</td></tr><tr><td>Adele</td><td>4dpARuHxo51G3z768sgnrY</td><td>61445753</td><td>british soul, pop, pop soul, uk pop</td><td>87</td><td>https://open.spotify.com/artist/4dpARuHxo51G3z768sgnrY</td><td>https://i.scdn.co/image/ab6761610000e5eb68f6e5892075d7f22615bd17</td><td>['Easy On Me', 'Set Fire to the Rain', 'Someone Like You', 'Skyfall', 'Rolling in the Deep', 'Love In The Dark', 'When We Were Young', 'Send My Love (To Your New Lover)', 'Make You Feel My Love', 'Hello']</td><td>[82, 77, 76, 83, 76, 71, 70, 72, 69, 70]</td><td>[]</td><td>['2021-11-19', '2015-11-20', '2011-01-24', '2008-11-17', '2021-10-14', '2016-11-04', '2016-05-16', '2016-02-05', '2015-10-23', '2012-10-04', '2011-07-04', '2011-07-04', '2011-04-11', '2011-01-24', '2011-01-16', '2008-10-27', '2008-07-20', '2008-04-20', '2008-01-20', '2014-08-25']</td><td>[]</td><td>[]</td><td>[]</td></tr><tr><td>Cardi B</td><td>4kYSro6naA4h99UJvo89HB</td><td>24899700</td><td>pop, rap</td><td>81</td><td>https://open.spotify.com/artist/4kYSro6naA4h99UJvo89HB</td><td>https://i.scdn.co/image/ab6761610000e5eb4e8a7e14e2f602eb9af24e31</td><td>['Please Me', 'I Like It', 'WAP (feat. Megan Thee Stallion)', 'Finesse - Remix; feat. Cardi B', 'Up', 'Bodak Yellow', 'South of the Border (feat. Camila Cabello & Cardi B)', 'Tomorrow 2 (with Cardi B)', 'Thru Your Phone', 'Money']</td><td>[75, 74, 74, 73, 69, 69, 69, 69, 68, 67]</td><td>[]</td><td>['2018-04-06', '2017-01-20', '2016-03-07', '2024-07-19', '2024-07-17', '2024-06-19', '2024-05-31', '2024-05-29', '2024-03-21', '2024-03-20', '2024-03-02', '2024-02-28', '2023-09-22', '2023-09-07', '2023-09-07', '2023-09-07', '2023-07-28', '2023-07-05', '2023-06-02', '2023-05-31']</td><td>[]</td><td>[]</td><td>[]</td></tr><tr><td>Travis Scott</td><td>0Y5tJX1MQlPlqiwlOH1tJY</td><td>35922611</td><td>rap, slap house</td><td>94</td><td>https://open.spotify.com/artist/0Y5tJX1MQlPlqiwlOH1tJY</td><td>https://i.scdn.co/image/ab6761610000e5eb19c2790744c792d05570bb71</td><td>['FE!N (feat. Playboi Carti)', 'goosebumps', 'HIGHEST IN THE ROOM', 'Open Arms (feat. Travis Scott)', 'Type Shit', 'BUTTERFLY EFFECT', 'Trance (with Travis Scott & Young Thug)', 'MY EYES', 'I KNOW ?', 'SICKO MODE']</td><td>[87, 85, 84, 81, 83, 82, 82, 81, 81, 81]</td><td>[]</td><td>['2023-07-28', '2019-12-27', '2018-08-03', '2017-12-21', '2016-09-16', '2015-09-04', '2014-08-18', '2024-10-31', '2024-08-06', '2024-06-21', '2024-04-19', '2024-01-10', '2023-11-17', '2023-07-27', '2023-07-26', '2023-07-25', '2023-07-21', '2023-07-18', '2023-07-05', '2023-05-11']</td><td>[]</td><td>[]</td><td>[]</td></tr><tr><td>Lady Gaga</td><td>1HY2Jd0NmPuamShAr6KMms</td><td>33802594</td><td>art pop, dance pop, pop</td><td>92</td><td>https://open.spotify.com/artist/1HY2Jd0NmPuamShAr6KMms</td><td>https://i.scdn.co/image/ab6761610000e5eb4b09cd0839c6129c29d22f79</td><td>['Die With A Smile', 'Poker Face', 'Disease', 'Shallow', 'Always Remember Us This Way', 'Just Dance', 'Bad Romance', 'Judas', 'Paparazzi', 'Telephone']</td><td>[100, 76, 83, 81, 81, 73, 81, 71, 70, 74]</td><td>[]</td><td>['2024-10-04', '2024-09-27', '2022-05-27', '2021-10-01', '2021-09-03', '2021-06-25', '2020-05-29', '2018-10-05', '2018-10-05', '2016-10-21', '2014-09-19', '2014-09-19', '2013-11-11', '2011-01-01', '2011-01-01', '2009-11-05', '2008-01-01', '2024-12-16', '2024-11-20', '2024-10-17']</td><td>[]</td><td>[]</td><td>[]</td></tr><tr><td>ZAYN</td><td>5ZsFI1h6hIdQRw2ti0hz81</td><td>23552148</td><td>pop, uk pop</td><td>79</td><td>https://open.spotify.com/artist/5ZsFI1h6hIdQRw2ti0hz81</td><td>https://i.scdn.co/image/ab6761610000e5eb7a1fba1bb3618ef71355f82a</td><td>['Dusk Till Dawn (feat. Sia) - Radio Edit', 'I Don’t Wanna Live Forever (Fifty Shades Darker)', 'PILLOWTALK', 'Trampoline (with ZAYN)', 'A Whole New World (End Title) - From \"Aladdin\"', 'Stardust', 'Sweat', 'Let Me', 'fOoL fOr YoU', 'TiO']</td><td>[80, 79, 79, 66, 62, 63, 63, 63, 62, 61]</td><td>[]</td><td>['2024-05-20', '2024-05-17', '2021-01-15', '2018-12-14', '2016-03-25', '2016-03-25', '2024-04-12', '2024-03-15', '2024-01-12', '2023-09-08', '2023-07-21', '2022-11-25', '2021-03-17', '2021-01-08', '2020-09-25', '2020-04-10', '2020-02-13', '2019-12-27', '2019-12-12', '2019-11-06']</td><td>[]</td><td>[]</td><td>[]</td></tr><tr><td>Selena Gomez</td><td>0C8ZW7ezQVs4URX5aX7Kqx</td><td>51515760</td><td>pop, post-teen pop</td><td>83</td><td>https://open.spotify.com/artist/0C8ZW7ezQVs4URX5aX7Kqx</td><td>https://i.scdn.co/image/ab6761610000e5ebc3c753851496854e29abff7a</td><td>['Calm Down (with Selena Gomez)', 'It Ain’t Me (with Selena Gomez)', 'Lose You To Love Me', 'Good For You', 'Wolves', 'People You Know', 'Fetish (feat. Gucci Mane)', 'Back To You - From 13 Reasons Why – Season 2 Soundtrack', 'Same Old Love', 'The Heart Wants What It Wants']</td><td>[73, 63, 76, 66, 75, 74, 74, 70, 65, 69]</td><td>[]</td><td>['2020-04-09', '2020-01-10', '2015-10-09', '2013-01-01', '2024-02-22', '2023-08-25', '2022-11-03', '2022-08-25', '2022-04-15', '2022-03-18', '2022-03-11', '2022-03-04', '2021-08-26', '2021-05-07', '2021-04-30', '2021-04-16', '2021-03-12', '2021-03-04', '2020-10-30', '2020-08-28']</td><td>[]</td><td>[]</td><td>[]</td></tr><tr><td>Harry Styles</td><td>6KImCVD70vtIoJWnq6nGn3</td><td>33338336</td><td>pop</td><td>85</td><td>https://open.spotify.com/artist/6KImCVD70vtIoJWnq6nGn3</td><td>https://i.scdn.co/image/ab6761610000e5ebf7db7c8ede90a019c54590bb</td><td>['As It Was', 'Watermelon Sugar', 'Sign of the Times', 'Adore You', 'Falling', 'Late Night Talking', 'Matilda', 'Fine Line', 'Keep Driving', 'Golden']</td><td>[86, 81, 81, 79, 78, 76, 75, 75, 74, 72]</td><td>[]</td><td>['2022-05-20', '2019-12-13', '2017-05-12', '2017-09-27', '2024-12-26']</td><td>[]</td><td>[]</td><td>[]</td></tr><tr><td>Sam Smith</td><td>2wY79sveU1sp5g7SokKOiI</td><td>25020560</td><td>pop, uk pop</td><td>85</td><td>https://open.spotify.com/artist/2wY79sveU1sp5g7SokKOiI</td><td>https://i.scdn.co/image/ab6761610000e5ebf057d1dce23e7f4d5d0f32e5</td><td>[\"I'm Not The Only One\", 'Too Good At Goodbyes', 'Stay With Me', 'Latch', 'La La La', 'Unholy (feat. Kim Petras)', 'Dancing With A Stranger (with Normani)', 'Have Yourself A Merry Little Christmas', 'Fire On Fire', 'Desire (with Sam Smith)']</td><td>[82, 80, 80, 79, 67, 73, 74, 77, 74, 62]</td><td>[]</td><td>['2024-08-30', '2024-08-02', '2023-04-12', '2023-01-27', '2021-09-24', '2021-03-19', '2020-10-30', '2017-11-03', '2017-11-03', '2015-11-06', '2014-05-26', '2014-01-01', '2024-11-22', '2024-10-02', '2024-08-29', '2024-08-22', '2024-08-16', '2024-08-09', '2023-12-01', '2023-11-20']</td><td>[]</td><td>[]</td><td>[]</td></tr><tr><td>Lil Nas X</td><td>7jVv8c5Fj3E9VhNjxT4snq</td><td>12397547</td><td>lgbtq+ hip hop</td><td>76</td><td>https://open.spotify.com/artist/7jVv8c5Fj3E9VhNjxT4snq</td><td>https://i.scdn.co/image/ab6761610000e5eb3758a33e782b46bd7f174e1d</td><td>['INDUSTRY BABY (feat. Jack Harlow)', 'MONTERO (Call Me By Your Name)', 'THATS WHAT I WANT', 'Old Town Road (feat. Billy Ray Cyrus) - Remix', 'Old Town Road', \"STAR WALKIN' (League of Legends Worlds Anthem)\", 'Panini', 'HOLIDAY', 'LIGHT AGAIN!', 'HE KNOWS (feat. Lil Nas X)']</td><td>[73, 76, 73, 71, 70, 69, 61, 66, 65, 61]</td><td>[]</td><td>['2021-09-17', '2019-06-21', '2024-11-22', '2024-11-15', '2024-06-28', '2024-05-03', '2024-01-26', '2024-01-12', '2022-09-22', '2022-06-24', '2021-10-09', '2021-07-23', '2021-05-21', '2021-04-23', '2020-11-13', '2020-01-27', '2019-09-13', '2019-07-24', '2019-07-12', '2019-04-29']</td><td>[]</td><td>[]</td><td>[]</td></tr><tr><td>Megan Thee Stallion</td><td>181bsRPaVXVlUKXrxwZfHK</td><td>10072406</td><td>houston rap, pop, rap, trap queen</td><td>83</td><td>https://open.spotify.com/artist/181bsRPaVXVlUKXrxwZfHK</td><td>https://i.scdn.co/image/ab6761610000e5eba300c2e412844ab60e397b1b</td><td>['Strategy (feat. Megan Thee Stallion)', 'Mamushi (feat. Yuki Chiba)', 'Neva Play (feat. RM of BTS)', 'Wanna Be (with Megan Thee Stallion)', 'WAP (feat. Megan Thee Stallion)', 'Beautiful Mistakes (feat. Megan Thee Stallion)', 'On Me - Remix', 'Sweetest Pie', 'Not My Fault (with Megan Thee Stallion)', 'Thot Shit']</td><td>[81, 78, 65, 74, 74, 74, 42, 64, 68, 63]</td><td>[]</td><td>['2024-10-25', '2024-06-28', '2022-08-12', '2021-10-29', '2020-11-20', '2020-04-27', '2020-03-06', '2019-05-17', '2018-12-21', '2018-03-09', '2017-09-18', '2024-10-10', '2024-09-06', '2024-09-05', '2024-08-02', '2024-06-07', '2024-05-31', '2024-05-29', '2024-05-10', '2024-05-09']</td><td>[]</td><td>[]</td><td>[]</td></tr><tr><td>Doja Cat</td><td>5cj0lLjcoR7YOSnhnX0Po5</td><td>32367070</td><td>dance pop, pop</td><td>87</td><td>https://open.spotify.com/artist/5cj0lLjcoR7YOSnhnX0Po5</td><td>https://i.scdn.co/image/ab6761610000e5ebe94f88ff74ae4ddcab961f97</td><td>['Paint The Town Red', 'Kiss Me More (feat. SZA)', 'Woman', 'Streets', 'Agora Hills', 'Candy', 'You Right', 'I Like You (A Happier Song) (with Doja Cat)', 'Need to Know', 'Boss Bitch']</td><td>[76, 80, 82, 81, 75, 79, 74, 75, 75, 75]</td><td>[]</td><td>['2024-05-17', '2023-09-22', '2021-06-27', '2021-06-25', '2019-11-07', '2019-03-01', '2018-03-30', '2024-04-03', '2024-04-01', '2024-01-12', '2024-01-10', '2023-09-15', '2023-09-01', '2023-08-31', '2023-08-04', '2023-06-16', '2023-04-14', '2023-01-20', '2022-05-06', '2022-04-15']</td><td>[]</td><td>[]</td><td>[]</td></tr><tr><td>The Chainsmokers</td><td>69GGBxA162lTqCwzJG5jLp</td><td>20757176</td><td>pop</td><td>83</td><td>https://open.spotify.com/artist/69GGBxA162lTqCwzJG5jLp</td><td>https://i.scdn.co/image/ab6761610000e5eb44434ab91c37f5407f8e83b6</td><td>['Something Just Like This', 'Closer', \"Don't Let Me Down\", 'Addicted', 'Paris', 'Roses', 'Jungle', 'This Feeling', 'Takeaway', 'All We Know']</td><td>[86, 84, 80, 80, 72, 72, 71, 68, 67, 66]</td><td>[]</td><td>['2023-10-20', '2022-10-21', '2022-06-08', '2019-12-06', '2018-12-14', '2017-04-07', '2024-11-08', '2024-09-06', '2024-08-30', '2024-07-26', '2024-07-19', '2024-05-24', '2024-05-10', '2024-05-03', '2024-04-26', '2024-03-29', '2023-12-15', '2023-11-10', '2023-10-17', '2023-09-22']</td><td>[]</td><td>[]</td><td>[]</td></tr><tr><td>Eminem</td><td>7dGJo4pcD2V6oG8kP0tJRR</td><td>95619328</td><td>detroit hip hop, hip hop, rap</td><td>93</td><td>https://open.spotify.com/artist/7dGJo4pcD2V6oG8kP0tJRR</td><td>https://i.scdn.co/image/ab6761610000e5eba00b11c129b27a88fc72f36b</td><td>['Without Me', 'Mockingbird', 'Houdini', 'The Real Slim Shady', 'Lose Yourself', 'Godzilla (feat. Juice WRLD)', 'Love The Way You Lie', 'Till I Collapse', 'Superman', 'Stan']</td><td>[86, 85, 78, 84, 76, 83, 82, 82, 81, 79]</td><td>[]</td><td>['2024-09-13', '2024-07-12', '2023-11-03', '2022-08-05', '2022-05-26', '2020-12-18', '2020-01-17', '2018-08-31', '2017-12-15', '2013-01-01', '2010-06-21', '2010-06-18', '2009-05-15', '2009-05-15', '2009-05-15', '2004-11-12', '2002-05-26', '2000-05-23', '1999-02-23', '1999-02-23']</td><td>[]</td><td>[]</td><td>[]</td></tr><tr><td>Nicki Minaj</td><td>0hCNtLu0JehylgoiP8L4Gh</td><td>33113977</td><td>hip pop, pop, queens hip hop, rap</td><td>88</td><td>https://open.spotify.com/artist/0hCNtLu0JehylgoiP8L4Gh</td><td>https://i.scdn.co/image/ab6761610000e5eb07a50f0a9a8f11e5a1102cbd</td><td>['Starships', 'Bang Bang', 'Super Bass', 'AGATS2 (Insecure) [with Nicki Minaj]', 'Tusa', 'Super Freaky Girl', 'Swalla (feat. Nicki Minaj & Ty Dolla $ign)', 'Barbie World (with Aqua) [From Barbie The Album]', 'FTCU', 'The Night Is Still Young']</td><td>[72, 78, 77, 71, 69, 66, 65, 70, 71, 60]</td><td>[]</td><td>['2024-11-22', '2024-01-13', '2023-12-15', '2023-12-08', '2022-08-28', '2021-05-14', '2018-11-29', '2018-08-10', '2014-12-15', '2014-12-15', '2014-12-12', '2012-04-03', '2012-01-01', '2012-01-01', '2011-01-01', '2010-11-22', '2010-11-22', '2010-01-01', '2024-11-21', '2024-11-19']</td><td>[]</td><td>[]</td><td>[]</td></tr><tr><td>Maroon 5</td><td>04gDigrS5kc9YWfZHwBETP</td><td>43690146</td><td>pop</td><td>87</td><td>https://open.spotify.com/artist/04gDigrS5kc9YWfZHwBETP</td><td>https://i.scdn.co/image/ab6761610000e5ebf8349dfb619a7f842242de77</td><td>['Payphone', 'Maps', 'Moves Like Jagger - Studio Recording From \"The Voice\" Performance', 'Memories', 'This Love', 'Animals', 'She Will Be Loved - Radio Mix', 'Sugar', 'One More Night', 'Sunday Morning']</td><td>[69, 82, 69, 82, 81, 79, 79, 78, 69, 74]</td><td>[]</td><td>['2021-06-11', '2018-06-15', '2014-09-02', '2014-09-02', '2012-01-01', '2012-01-01', '2011-01-01', '2008-01-01', '2007-01-01', '2007-01-01', '2004', '2002-06-25', '2002', '2023-08-11', '2022-08-05', '2020-10-16', '2019-12-13', '2019-12-11', '2019-12-10', '2018-08-10']</td><td>[]</td><td>[]</td><td>[]</td></tr><tr><td>Lana Del Rey</td><td>00FQb4jTyendYWaN8pK0wa</td><td>43374300</td><td>art pop, pop</td><td>92</td><td>https://open.spotify.com/artist/00FQb4jTyendYWaN8pK0wa</td><td>https://i.scdn.co/image/ab6761610000e5ebb99cacf8acd5378206767261</td><td>['Summertime Sadness', 'Young And Beautiful', 'Say Yes To Heaven', 'Cinnamon Girl', 'West Coast', 'Brooklyn Baby', 'Diet Mountain Dew', 'Video Games', 'Chemtrails Over The Country Club', 'Margaret (feat. Bleachers)']</td><td>[72, 83, 83, 82, 81, 80, 67, 69, 79, 79]</td><td>[]</td><td>['2023-03-24', '2021-10-22', '2021-03-19', '2019-08-30', '2017-07-21', '2015-09-18', '2014-01-01', '2012-11-09', '2012-01-30', '2012-01-01', '2012-01-01', '2011-01-01', '2024-10-11', '2024-10-04', '2024-07-03', '2024-02-09', '2023-12-01', '2023-11-30', '2023-10-20', '2023-06-08']</td><td>[]</td><td>[]</td><td>[]</td></tr><tr><td>Shakira</td><td>0EmeFodog0BfCgMzAIvKQp</td><td>36087475</td><td>colombian pop, dance pop, latin pop, pop</td><td>88</td><td>https://open.spotify.com/artist/0EmeFodog0BfCgMzAIvKQp</td><td>https://i.scdn.co/image/ab6761610000e5eb2528c726e5ddb90a7197e527</td><td>['Soltera', \"Hips Don't Lie (feat. Wyclef Jean)\", 'TQG', 'Dia de Enero', 'Shakira: Bzrp Music Sessions, Vol. 53', 'Antologia', 'Chantaje (feat. Maluma)', 'Whenever, Wherever', \"Can't Remember to Forget You (feat. Rihanna)\", 'Inevitable']</td><td>[85, 84, 80, 77, 76, 76, 76, 74, 74, 74]</td><td>[]</td><td>['2024-03-22', '2021-11-12', '2019-11-13', '2017-05-26', '2014-03-21', '2014-03-13', '2011-12-05', '2010-10-19', '2009-10-09', '2008-01-17', '2005-11-28', '2005-06-03', '2004-03-22', '2001-11-13', '2000-02-29', '1998-09-29', '1997-10-21', '1995-10-06', '2024-09-25', '2024-03-21']</td><td>[]</td><td>[]</td><td>[]</td></tr><tr><td>Camila Cabello</td><td>4nDoRrQiYLoBzwC5BhVJzF</td><td>34355247</td><td>dance pop, pop</td><td>83</td><td>https://open.spotify.com/artist/4nDoRrQiYLoBzwC5BhVJzF</td><td>https://i.scdn.co/image/ab6761610000e5eb76470faf6330235edbcb90a9</td><td>['Señorita', 'Shameless', 'Havana (feat. Young Thug)', 'Move (feat. Camila Cabello & Malachiii)', 'Never Be the Same', 'Bam Bam (feat. Ed Sheeran)', 'My Oh My (feat. DaBaby)', 'I Know What You Did Last Summer', 'The Christmas Song (Shawn Mendes & Camila Cabello)', 'Beautiful (feat. Camila Cabello)']</td><td>[78, 81, 80, 78, 76, 67, 71, 70, 65, 70]</td><td>[]</td><td>['2024-09-06', '2024-06-28', '2022-04-08', '2019-12-06', '2018-01-12', '2024-10-11', '2024-03-27', '2023-10-11', '2022-12-09', '2022-11-04', '2022-07-27', '2022-03-04', '2022-03-02', '2021-11-04', '2021-10-29', '2021-09-10', '2021-09-10', '2021-07-23', '2021-07-21', '2020-12-01']</td><td>[]</td><td>[]</td><td>[]</td></tr><tr><td>Pitbull</td><td>0TnOYISbd1XYRBk9myaseg</td><td>11123247</td><td>dance pop, miami hip hop, pop</td><td>86</td><td>https://open.spotify.com/artist/0TnOYISbd1XYRBk9myaseg</td><td>https://i.scdn.co/image/ab6761610000e5eb4051627b19277613e0e62a34</td><td>['Give Me Everything (feat. Nayer)', 'Timber', 'Time of Our Lives', \"DJ Got Us Fallin' In Love (feat. Pitbull)\", 'International Love (feat. Chris Brown)', 'Feel This Moment (feat. Christina Aguilera)', 'Hotel Room Service', 'Fireball (feat. John Ryan)', 'MR. MOONDIAL', 'I Know You Want Me (Calle Ocho)']</td><td>[84, 83, 82, 81, 77, 76, 70, 75, 75, 70]</td><td>[]</td><td>['2024-02-16', '2023-10-06', '2019-09-27', '2018-06-14', '2017-03-17', '2015-07-17', '2014-11-21', '2012', '2011-06-17', '2011-06-17', '2010-11-02', '2010', '2009-08-31', '2007-11-27', '2007-11-27', '2006-10-31', '2006-10-31', '2005', '2004-08-24', '2024-11-14']</td><td>[]</td><td>[]</td><td>[]</td></tr><tr><td>Katy Perry</td><td>6jJ0s89eD6GaHleKKya26X</td><td>35579662</td><td>pop</td><td>87</td><td>https://open.spotify.com/artist/6jJ0s89eD6GaHleKKya26X</td><td>https://i.scdn.co/image/ab6761610000e5eb0988562f78810e47a6e3325f</td><td>['Last Friday Night (T.G.I.F.)', 'Dark Horse', 'Hot N Cold', 'The One That Got Away', 'Firework', 'California Gurls', 'Cozy Little Christmas', 'Teenage Dream', 'Roar', 'I Kissed A Girl']</td><td>[74, 78, 70, 70, 70, 71, 80, 72, 76, 68]</td><td>[]</td><td>['2024-12-20', '2024-09-20', '2023-06-20', '2020-08-28', '2017-06-09', '2013-10-18', '2013-01-01', '2012-03-12', '2010-01-01', '2009-11-13', '2008-06-17', '2024-09-13', '2024-08-08', '2024-07-15', '2024-07-11', '2022-03-31', '2022-02-18', '2021-12-29', '2021-10-25', '2021-05-14']</td><td>[]</td><td>[]</td><td>[]</td></tr><tr><td>One Direction</td><td>4AK6F7OLvEQ5QYCBNiQWHq</td><td>38237256</td><td>boy band, pop, post-teen pop, talent show</td><td>88</td><td>https://open.spotify.com/artist/4AK6F7OLvEQ5QYCBNiQWHq</td><td>https://i.scdn.co/image/5bb443424a1ad71603c43d67f5af1a04da6bb3c8</td><td>['Night Changes', 'Story of My Life', 'What Makes You Beautiful', 'Perfect', 'Steal My Girl', 'Drag Me Down', '18', 'Right Now', 'You & I', 'Best Song Ever']</td><td>[88, 84, 84, 80, 78, 77, 77, 76, 76, 75]</td><td>[]</td><td>['2015-11-13', '2014-11-17', '2013-11-25', '2012-11-12', '2012-05-25', '2014-03-09', '2013-07-22', '2013-02-17', '2010-11-29', '2010-11-29', '2010-11-29', '2010-11-29', '2012-11-19', '2018-04-10', '2023-06-12', '2022-12-16', '2022-03-23', '2018-04-12', '2022-12-16', '2022-12-16']</td><td>[]</td><td>[]</td><td>[]</td></tr><tr><td>Édith Piaf</td><td>1WPcVNert9hn7mHsPKDn7j</td><td>1198247</td><td>chanson, torch song, vintage schlager</td><td>63</td><td>https://open.spotify.com/artist/1WPcVNert9hn7mHsPKDn7j</td><td>https://i.scdn.co/image/ab6761610000e5eb4ffde9b9fb5abeb2e14cef0d</td><td>['Non, je ne regrette rien', 'La Vie en rose', 'La Foule', 'La vie en rose', \"Hymne à l'amour\", 'Padam padam', 'Milord', 'Sous le ciel de Paris', 'Paris', 'Plus bleu que tes yeux']</td><td>[64, 50, 56, 57, 42, 53, 41, 49, 43, 44]</td><td>[]</td><td>['2024-05-09', '2023-12-08', '2023-10-13', '2023-10-10', '2023-02-28', '2022-10-21', '2022-09-30', '2022-04-12', '2022-04-12', '2021-12-17', '2021-10-22', '2021-06-18', '2020-09-18', '2018-08-29', '2017-12-15', '2013-09-27', '2012-09-24', '2012-05-25', '2011-05-17', '2011-03-14']</td><td>[]</td><td>[]</td><td>[]</td></tr><tr><td>Luis Fonsi</td><td>4V8Sr092TqfHkfAA5fXXqG</td><td>10700090</td><td>latin pop, puerto rican pop</td><td>76</td><td>https://open.spotify.com/artist/4V8Sr092TqfHkfAA5fXXqG</td><td>https://i.scdn.co/image/ab6761610000e5eb2620d7e19f51d9c4b7e853ce</td><td>['Despacito', 'Despacito - Remix', 'Échame La Culpa', 'No Me Doy Por Vencido', 'El Ultimo Adiós - Varios Artistas Version', 'Llegaste Tú', 'Imposible', 'Corazón En La Maleta', 'Aqui Estoy Yo', 'Tanto']</td><td>[78, 68, 70, 69, 69, 66, 61, 62, 63, 61]</td><td>[]</td><td>['2024-05-17', '2022-03-11', '2019-02-01', '2017-02-17', '2014-10-27', '2014-01-01', '2014-01-01', '2013-01-01', '2007-08-28', '2005-01-01', '2000-01-01', '2024-11-08', '2024-05-16', '2024-05-16', '2024-04-26', '2024-03-22', '2024-03-15', '2024-02-28', '2024-02-16', '2024-01-19']</td><td>[]</td><td>[]</td><td>[]</td></tr><tr><td>Shawn Mendes</td><td>7n2wHs1TKAczGzO7Dd2rGr</td><td>44085353</td><td>canadian pop, pop, viral pop</td><td>85</td><td>https://open.spotify.com/artist/7n2wHs1TKAczGzO7Dd2rGr</td><td>https://i.scdn.co/image/ab6761610000e5eb58b4b9419486550f6fda0535</td><td>[\"There's Nothing Holdin' Me Back\", 'Treat You Better', 'Stitches', 'Señorita', 'Mercy', 'Why Why Why', 'Heart of Gold', \"If I Can't Have You\", 'Monster (Shawn Mendes & Justin Bieber)', 'I Know What You Did Last Summer']</td><td>[84, 83, 82, 78, 78, 67, 69, 70, 66, 70]</td><td>[]</td><td>['2024-11-15', '2020-12-07', '2020-12-05', '2020-12-04', '2019-06-19', '2018-05-25', '2017-11-03', '2017-04-20', '2017-04-20', '2016-12-23', '2015-11-20', '2015-04-14', '2024-11-01', '2024-09-12', '2024-08-08', '2023-11-21', '2023-06-09', '2022-09-30', '2022-05-13', '2022-03-31']</td><td>[]</td><td>[]</td><td>[]</td></tr><tr><td>Charlie Puth</td><td>6VuMaDnrHyPL1p4EHjYLi7</td><td>23850775</td><td>pop, viral pop</td><td>82</td><td>https://open.spotify.com/artist/6VuMaDnrHyPL1p4EHjYLi7</td><td>https://i.scdn.co/image/ab6761610000e5ebd5594e3ae145bbb2c096366d</td><td>[\"We Don't Talk Anymore (feat. Selena Gomez)\", 'See You Again (feat. Charlie Puth)', 'Attention', 'Left and Right (Feat. Jung Kook of BTS)', 'One Call Away', 'December 25th', 'How Long', 'Dangerously', 'Light Switch', 'Marvin Gaye (feat. Wale) - Remix']</td><td>[77, 79, 80, 73, 69, 73, 72, 68, 70, 63]</td><td>[]</td><td>['2022-10-07', '2018-05-11', '2016-11-11', '2016-01-29', '2015-11-05', '2024-11-08', '2024-05-24', '2024-05-10', '2023-08-18', '2023-04-14', '2023-03-31', '2022-09-02', '2022-09-01', '2022-08-19', '2022-08-12', '2022-06-23', '2022-04-07', '2022-03-04', '2022-02-18', '2022-01-19']</td><td>[]</td><td>[]</td><td>[]</td></tr><tr><td>Miley Cyrus</td><td>5YGY8feqx7naU7z4HrwZM6</td><td>25334626</td><td>pop</td><td>85</td><td>https://open.spotify.com/artist/5YGY8feqx7naU7z4HrwZM6</td><td>https://i.scdn.co/image/ab6761610000e5ebe73dc6aa2598689da2e9476c</td><td>['Flowers', 'Party In The U.S.A.', 'Wrecking Ball', 'Angels Like You', 'Nothing Breaks Like a Heart (feat. Miley Cyrus)', \"We Can't Stop\", 'The Climb', \"Rockin' Around The Christmas Tree\", 'Prisoner (feat. Dua Lipa)', 'Used To Be Young']</td><td>[87, 74, 78, 78, 76, 77, 57, 71, 70, 69]</td><td>[]</td><td>['2023-08-18', '2022-04-29', '2020-11-27', '2019-05-31', '2017-09-29', '2015-08-30', '2013-10-04', '2010-01-01', '2009-01-01', '2008-01-01', '2007-06-26', '2024-05-17', '2024-03-27', '2024-03-01', '2023-10-20', '2023-08-25', '2021-06-22', '2021-04-30', '2021-02-05', '2020-11-06']</td><td>[]</td><td>[]</td><td>[]</td></tr><tr><td>John Legend</td><td>5y2Xq6xcjJb2jVM54GHK3t</td><td>7329448</td><td>neo soul, pop, pop soul, urban contemporary</td><td>80</td><td>https://open.spotify.com/artist/5y2Xq6xcjJb2jVM54GHK3t</td><td>https://i.scdn.co/image/ab6761610000e5eb01784e44ffd1a339350f4417</td><td>['All of Me', 'What Christmas Means to Me (feat. Stevie Wonder)', 'Bring Me Love', 'You Deserve It All', \"Baby, It's Cold Outside (feat. Kelly Clarkson)\", 'Minefields', 'The Christmas Song (Chestnuts Roasting On An Open Fire) (duet with John Legend)', 'This Christmas', 'Beauty and the Beast', 'Have Yourself a Merry Little Christmas (feat. Esperanza Spalding)']</td><td>[83, 70, 65, 67, 67, 61, 56, 54, 62, 59]</td><td>[]</td><td>['2024-11-22', '2024-08-30', '2023-02-08', '2022-09-09', '2020-06-19', '2018-10-26', '2018-10-26', '2018-10-26', '2018-10-26', '2016-12-02', '2013-11-22', '2013-08-30', '2010-09-17', '2008-10-27', '2006-10-31', '2006-10-24', '2005-12-06', '2003-06-10', '2024-11-13', '2024-08-09']</td><td>[]</td><td>[]</td><td>[]</td></tr><tr><td>Alan Walker</td><td>7vk5e3vY1uw9plTHJAMwjN</td><td>40048276</td><td>electro house</td><td>82</td><td>https://open.spotify.com/artist/7vk5e3vY1uw9plTHJAMwjN</td><td>https://i.scdn.co/image/ab6761610000e5ebbf753c009fd9c2d53351dd3c</td><td>['Faded', 'On My Way', 'Alone, Pt. II', 'Alone', 'Better Off (Alone, Pt. III)', 'Issues - Alan Walker Remix', 'Darkside', 'The Spectre', 'Lily', 'Barcelona']</td><td>[79, 68, 71, 73, 59, 55, 71, 70, 70, 68]</td><td>[]</td><td>['2023-11-10', '2022-11-25', '2021-11-26', '2018-12-14', '2016-12-30', '2024-12-19', '2024-11-11', '2024-10-11', '2024-09-26', '2024-09-05', '2024-08-07', '2024-07-31', '2024-07-12', '2024-06-13', '2024-05-29', '2024-05-10', '2024-05-02', '2024-03-19', '2024-03-15', '2024-03-08']</td><td>[]</td><td>[]</td><td>[]</td></tr><tr><td>Alicia Keys</td><td>3DiDSECUqqY1AuBP8qtaIa</td><td>12300951</td><td>neo soul, pop, r&b</td><td>81</td><td>https://open.spotify.com/artist/3DiDSECUqqY1AuBP8qtaIa</td><td>https://i.scdn.co/image/ab6761610000e5ebebfd16a3bca87c31c1e20576</td><td>[\"If I Ain't Got You\", 'My Boo', 'No One', \"Fallin'\", 'Girl on Fire', 'Finally', \"Un-thinkable (I'm Ready) (feat. Drake) - Remix\", 'Empire State of Mind (Part II) Broken Down', \"You Don't Know My Name\", \"Un-thinkable (I'm Ready)\"]</td><td>[81, 79, 75, 76, 73, 70, 70, 67, 66, 64]</td><td>[]</td><td>['2024-06-07', '2023-12-01', '2023-06-13', '2023-05-31', '2023-05-24', '2023-05-20', '2023-05-09', '2023-05-04', '2022-11-04', '2022-08-12', '2021-12-10', '2021-07-30', '2020-12-18', '2016-11-04', '2013-06-23', '2012-11-26', '2009-12-15', '2007-11-09', '2007-10-09', '2005-10-11']</td><td>[]</td><td>[]</td><td>[]</td></tr><tr><td>Avicii</td><td>1vCWHaC5f2uS3yhpwWbIA6</td><td>23206684</td><td>dance pop, edm, pop, pop dance</td><td>82</td><td>https://open.spotify.com/artist/1vCWHaC5f2uS3yhpwWbIA6</td><td>https://i.scdn.co/image/ab6761610000e5ebae07171f989fb39736674113</td><td>['Wake Me Up', 'The Nights', 'Waiting For Love', 'Levels - Radio Edit', 'Hey Brother', 'Without You (feat. Sandro Cavazza)', 'I Could Be The One (Avicii Vs. Nicky Romero) - Radio Edit', 'Addicted To You', 'SOS (feat. Aloe Blacc)', 'Lonely Together (feat. Rita Ora)']</td><td>[83, 82, 78, 78, 76, 75, 60, 69, 68, 67]</td><td>[]</td><td>['2019-06-06', '2015-10-02', '2014-01-01', '2014-01-01', '2013-09-16', '2013-01-01', '2024-10-18', '2022-08-26', '2022-08-05', '2022-07-15', '2022-06-03', '2020-01-24', '2019-12-05', '2019-08-23', '2019-06-14', '2019-05-17', '2019-05-09', '2019-04-10', '2017-11-17', '2017-10-27']</td><td>[]</td><td>[]</td><td>[]</td></tr><tr><td>Kesha</td><td>6LqNN22kT3074XbTVUrhzX</td><td>8406118</td><td>dance pop, pop</td><td>83</td><td>https://open.spotify.com/artist/6LqNN22kT3074XbTVUrhzX</td><td>https://i.scdn.co/image/ab6761610000e5eb2ac07249400857d8b16dc17a</td><td>['Holiday Road - Spotify Singles Holiday', 'Timber', 'TiK ToK', 'Die Young', 'Right Round', 'JOYRIDE', 'We R Who We R', 'Blow', 'Backstabber', 'Your Love Is My Drug']</td><td>[85, 83, 83, 78, 75, 73, 70, 69, 69, 68]</td><td>[]</td><td>['2023-05-19', '2020-01-31', '2017-08-11', '2012-11-30', '2010-11-19', '2010-01-01', '2024-11-29', '2024-10-15', '2024-10-13', '2024-08-02', '2024-07-04', '2023-06-30', '2023-06-23', '2023-05-17', '2023-04-28', '2021-10-29', '2021-09-10', '2021-04-02', '2021-03-19', '2021-01-29']</td><td>[]</td><td>[]</td><td>[]</td></tr><tr><td>Sia</td><td>5WUlDfRSoLAfcVSX1WnrxN</td><td>29155453</td><td>pop</td><td>89</td><td>https://open.spotify.com/artist/5WUlDfRSoLAfcVSX1WnrxN</td><td>https://i.scdn.co/image/ab6761610000e5eb911dd6caa410128a05ab99aa</td><td>['Snowman', 'Unstoppable', \"Santa's Coming for Us\", 'Titanium (feat. Sia)', 'Dusk Till Dawn (feat. Sia) - Radio Edit', 'Chandelier', 'Cheap Thrills', 'Elastic Heart', 'Wild Ones (feat. Sia)', 'Cheap Thrills (feat. Sean Paul)']</td><td>[92, 77, 83, 69, 80, 69, 68, 66, 76, 62]</td><td>[]</td><td>['2024-11-30', '2024-05-03', '2023-09-10', '2023-09-10', '2022-12-30', '2021-02-12', '2019-04-12', '2018-11-01', '2016-10-21', '2016-02-18', '2015-05-04', '2014-07-04', '2010-06-21', '2009-01-01', '2008-01-01', '2007-01-01', '2004-01-01', '2004-01-01', '2003', '2003']</td><td>[]</td><td>[]</td><td>[]</td></tr><tr><td>Rita Ora</td><td>5CCwRZC6euC8Odo6y9X8jr</td><td>8422009</td><td>dance pop, pop, uk pop</td><td>73</td><td>https://open.spotify.com/artist/5CCwRZC6euC8Odo6y9X8jr</td><td>https://i.scdn.co/image/ab6761610000e5ebc872d3c0c5491a40c98d0c44</td><td>['For You (With Rita Ora)', 'Let You Love Me', 'Ritual', 'Your Song', 'Praising You (feat. Fatboy Slim)', 'Anywhere', \"Love Ain't It\", 'I Will Never Let You Down', 'Poison', 'Body On Me ft. Chris Brown']</td><td>[72, 63, 60, 58, 63, 58, 61, 61, 59, 58]</td><td>[]</td><td>['2023-07-14', '2018-11-23', '2012', '2024-07-12', '2024-05-31', '2024-05-10', '2024-04-05', '2024-02-16', '2024-01-26', '2023-12-15', '2023-11-24', '2023-10-13', '2023-09-22', '2023-08-25', '2023-07-07', '2023-06-30', '2023-06-16', '2023-06-02', '2023-05-05', '2023-04-19']</td><td>[]</td><td>[]</td><td>[]</td></tr><tr><td>The Rolling Stones</td><td>22bE4uQ6baNwSHPVcDxLCe</td><td>14828044</td><td>album rock, british invasion, classic rock, rock</td><td>80</td><td>https://open.spotify.com/artist/22bE4uQ6baNwSHPVcDxLCe</td><td>https://i.scdn.co/image/ab6761610000e5ebe4cea917b68726aadb4854b8</td><td>['Paint It, Black', \"(I Can't Get No) Satisfaction - Mono Version\", 'Start Me Up - Remastered 2009', 'Beast Of Burden - Remastered 1994', 'Gimme Shelter', 'Sympathy For The Devil - 50th Anniversary Edition', 'Angie - Remastered 2009', 'Miss You - Remastered', 'Wild Horses - 2009 Mix', 'Honky Tonk Women']</td><td>[81, 76, 76, 74, 73, 70, 70, 69, 66, 64]</td><td>[]</td><td>['2024-12-06', '2023-12-15', '2023-10-20', '2023-07-26', '2023-02-10', '2022-06-10', '2022-05-13', '2022', '2021-10-22', '2021-07-09', '2020-09-25', '2020-09-04', '2019-06-21', '2019-04-19', '2018-11-16', '2018-07-13', '2017-12-01', '2017-09-29', '2017-06-07', '2016-12-02']</td><td>[]</td><td>[]</td><td>[]</td></tr></tbody></table></div>"
      ]
     },
     "metadata": {
      "application/vnd.databricks.v1+output": {
       "addedWidgets": {},
       "aggData": [],
       "aggError": "",
       "aggOverflow": false,
       "aggSchema": [],
       "aggSeriesLimitReached": false,
       "aggType": "",
       "arguments": {},
       "columnCustomDisplayInfos": {},
       "data": [
        [
         "Arijit Singh",
         "4YRxDV8wJFPHPTeXepOstw",
         133168035,
         "filmi, modern bollywood",
         92,
         "https://open.spotify.com/artist/4YRxDV8wJFPHPTeXepOstw",
         "https://i.scdn.co/image/ab6761610000e5eb5ba2d75eb08a2d672f9b69b7",
         "['Sajni (From \"Laapataa Ladies\")', 'Apna Bana Le', 'Tujhe Kitna Chahne Lage (From \"Kabir Singh\")', 'Satranga (From \"ANIMAL\")', 'Heeriye (feat. Arijit Singh)', 'Humdard (From \"Ek Villain\")', 'O Maahi', 'Tum Hi Ho', 'Agar Tum Saath Ho (From \"Tamasha\")', 'Tainu Khabar Nahi - From \"Munjya\"']",
         "[79, 74, 77, 77, 76, 74, 71, 75, 69, 74]",
         "[]",
         "['2024-07-31', '2024-04-26', '2024-04-26', '2024-04-25', '2024-04-25', '2024-04-24', '2024-04-24', '2024-04-24', '2024-02-12', '2023-08-14', '2023-08-08', '2023-07-14', '2023-05-26', '2023-05-15', '2022-11-30', '2022-08-14', '2021-05-04', '2021-03-31', '2021-03-15', '2021-02-17']",
         "[]",
         "[]",
         "[]"
        ],
        [
         "Ed Sheeran",
         "6eUKZXaKkcviH0Ku9w2n3V",
         118303036,
         "pop, singer-songwriter pop, uk pop",
         90,
         "https://open.spotify.com/artist/6eUKZXaKkcviH0Ku9w2n3V",
         "https://i.scdn.co/image/ab6761610000e5eb784daff754ecfe0464ddbeb9",
         "['Merry Christmas', 'Shape of You', 'Perfect', 'Photograph', 'Shivers', 'Thinking out Loud', 'Under the Tree (from “That Christmas”)', 'Bad Habits', \"I Don't Care (with Justin Bieber)\", 'Castle on the Hill']",
         "[82, 86, 86, 66, 83, 65, 79, 78, 74, 76]",
         "[]",
         "['2024-12-27', '2024-09-27', '2024-06-21', '2023-10-02', '2023-09-29', '2023-05-05', '2022-05-27', '2021-10-25', '2021-10-25', '2019-07-12', '2017-03-03', '2014-06-21', '2014-06-20', '2013', '2011-12-09', '2011-12-09', '2011-09-09', '2011-09-09', '2024-11-26', '2024-09-18']",
         "[]",
         "[]",
         "[]"
        ],
        [
         "Taylor Swift",
         "06HL4z0CvFAxyc27GXpf02",
         129785206,
         "pop",
         100,
         "https://open.spotify.com/artist/06HL4z0CvFAxyc27GXpf02",
         "https://i.scdn.co/image/ab6761610000e5ebe672b5f553298dcdccb0e676",
         "['Cruel Summer', 'Fortnight (feat. Post Malone)', 'Christmas Tree Farm', 'I Can Do It With a Broken Heart', 'cardigan', 'Lover', 'august', 'Don’t Blame Me', 'Anti-Hero', 'Blank Space']",
         "[88, 84, 85, 81, 82, 83, 82, 82, 81, 69]",
         "[]",
         "['2024-04-19', '2024-04-18', '2023-10-27', '2023-10-26', '2023-07-07', '2023-05-26', '2022-10-22', '2022-10-21', '2021-11-12', '2021-04-09', '2021-01-07', '2020-12-11', '2020-11-25', '2020-08-18', '2020-07-24', '2019-08-23', '2017-11-10', '2017-11-09', '2014-10-27', '2014-10-27']",
         "[]",
         "[]",
         "[]"
        ],
        [
         "Ariana Grande",
         "66CXWjxzNUsdJxJ2JdwvnR",
         102593265,
         "pop",
         96,
         "https://open.spotify.com/artist/66CXWjxzNUsdJxJ2JdwvnR",
         "https://i.scdn.co/image/ab6761610000e5eb40b5c07ab77b6b1a9075fdc0",
         "['Santa Tell Me', \"we can't be friends (wait for your love)\", 'Santa, Can’t You Hear Me', 'Popular', 'What Is This Feeling?', 'Save Your Tears (Remix) (with Ariana Grande) - Bonus Track', '7 rings', 'the boy is mine', 'One Last Time', 'Last Christmas']",
         "[94, 87, 85, 84, 84, 79, 82, 82, 82, 82]",
         "[]",
         "['2024-11-22', '2024-10-01', '2024-08-22', '2024-03-11', '2024-03-08', '2023-08-25', '2021-02-19', '2020-10-30', '2019-12-23', '2019-02-08', '2018-08-17', '2016-05-20', '2014-08-22', '2013-01-01', '2024-10-10', '2024-09-08', '2024-07-19', '2024-06-21', '2024-03-08', '2024-02-16']",
         "[]",
         "[]",
         "[]"
        ],
        [
         "Drake",
         "3TVXtAsR1Inumwj472S9r4",
         94924678,
         "canadian hip hop, canadian pop, hip hop, pop rap, rap",
         97,
         "https://open.spotify.com/artist/3TVXtAsR1Inumwj472S9r4",
         "https://i.scdn.co/image/ab6761610000e5eb4293385d324db8558179afd9",
         "['One Dance', 'WAIT FOR U (feat. Drake & Tems)', \"God's Plan\", 'Passionfruit', 'Jimmy Cooks (feat. 21 Savage)', 'Rich Baby Daddy (feat. Sexyy Red & SZA)', 'Circadian Rhythm', 'Teenage Fever', 'Fair Trade (with Travis Scott)', 'Headlines']",
         "[85, 82, 81, 80, 79, 79, 78, 78, 78, 77]",
         "[]",
         "['2023-11-17', '2023-10-06', '2022-11-04', '2022-06-17', '2021-09-03', '2020-05-01', '2019-08-02', '2018-06-29', '2017-03-18', '2016-05-06', '2015-09-20', '2015-02-12', '2013-01-01', '2013-01-01', '2011-11-15', '2010-01-01', '2009', '2024-08-31', '2024-08-30', '2024-07-26']",
         "[]",
         "[]",
         "[]"
        ],
        [
         "BTS",
         "3Nrfpe0tUJi4K4DXYWgMUX",
         77343777,
         "k-pop, k-pop boy group, pop",
         88,
         "https://open.spotify.com/artist/3Nrfpe0tUJi4K4DXYWgMUX",
         "https://i.scdn.co/image/ab6761610000e5ebd642648235ebf3460d2d1f6a",
         "['Dynamite', 'My Universe', 'Left and Right (Feat. Jung Kook of BTS)', 'FAKE LOVE', 'Boy With Luv (feat. Halsey)', 'Butter', 'Life Goes On', 'Run BTS', 'Spring Day', 'Permission to Dance']",
         "[78, 73, 73, 73, 73, 71, 72, 72, 71, 71]",
         "[]",
         "['2022-06-10', '2020-11-20', '2020-07-14', '2020-02-21', '2019-04-12', '2018-08-24', '2018-05-18', '2018-04-04', '2017-09-18', '2017-02-13', '2016-10-10', '2016-09-07', '2016-05-02', '2015-11-30', '2015-04-29', '2014-12-24', '2014-08-20', '2014-05-14', '2014-02-12', '2013-09-11']",
         "[]",
         "[]",
         "[]"
        ],
        [
         "Billie Eilish",
         "6qqNVTkY8uBg9cP3Jd7DAH",
         105041600,
         "art pop, pop",
         96,
         "https://open.spotify.com/artist/6qqNVTkY8uBg9cP3Jd7DAH",
         "https://i.scdn.co/image/ab6761610000e5eb4a21b4760d2ecb7b0dcdc8da",
         "['BIRDS OF A FEATHER', 'WILDFLOWER', 'CHIHIRO', 'Guess featuring billie eilish', 'lovely (with Khalid)', 'LUNCH', 'What Was I Made For? [From The Motion Picture \"Barbie\"]', 'ocean eyes', \"when the party's over\", 'TV']",
         "[97, 93, 87, 82, 86, 85, 85, 72, 83, 82]",
         "[]",
         "['2024-05-17', '2021-07-30', '2019-03-29', '2024-08-01', '2024-05-21', '2023-07-13', '2023-05-09', '2022-07-21', '2021-07-28', '2021-02-22', '2021-01-21', '2020-11-12', '2020-07-30', '2020-02-13', '2019-11-13', '2019-07-11', '2019-01-09', '2018-11-20', '2018-04-19', '2018-03-30']",
         "[]",
         "[]",
         "[]"
        ],
        [
         "Post Malone",
         "246dkjvS1zLTtiykXe5h60",
         46205845,
         "dfw rap, melodic rap, pop, rap",
         91,
         "https://open.spotify.com/artist/246dkjvS1zLTtiykXe5h60",
         "https://i.scdn.co/image/ab6761610000e5ebe17c0aa1714a03d62b5ce4e0",
         "['I Had Some Help (Feat. Morgan Wallen)', 'Fortnight (feat. Post Malone)', 'Sunflower - Spider-Man: Into the Spider-Verse', 'Circles', 'rockstar (feat. 21 Savage)', 'Guy For That (Feat. Luke Combs)', 'Dial Drunk (with Post Malone)', 'Congratulations', 'Better Now', 'Pour Me A Drink (Feat. Blake Shelton)']",
         "[84, 84, 81, 83, 80, 76, 78, 77, 77, 74]",
         "[]",
         "['2024-08-16', '2024-08-15', '2023-08-02', '2023-07-28', '2023-04-21', '2022-06-07', '2022-06-03', '2019-09-06', '2018-04-27', '2016-12-09', '2016-12-09', '2024-09-06', '2024-08-15', '2024-08-15', '2024-08-15', '2024-08-15', '2024-08-15', '2024-08-15', '2024-08-15', '2024-08-15']",
         "[]",
         "[]",
         "[]"
        ],
        [
         "Justin Bieber",
         "1uNFoZAHBGtllmzznpCI3s",
         79912279,
         "canadian pop, pop",
         93,
         "https://open.spotify.com/artist/1uNFoZAHBGtllmzznpCI3s",
         "https://i.scdn.co/image/ab6761610000e5eb8ae7f2aaa9817a704a87ea36",
         "['Mistletoe', 'STAY (with Justin Bieber)', 'Ghost', 'Love Yourself', 'Sorry', 'Beauty And A Beat', 'Baby', 'What Do You Mean?', 'bad guy', 'Confident']",
         "[89, 82, 83, 82, 82, 79, 81, 80, 56, 79]",
         "[]",
         "['2021-10-08', '2021-03-26', '2021-03-19', '2020-02-14', '2015-11-13', '2014-05-13', '2013-01-01', '2012-06-15', '2012-01-01', '2011-01-01', '2011-01-01', '2011-01-01', '2010-01-01', '2010-01-01', '2009-01-01', '2023-09-15', '2023-02-23', '2022-08-30', '2022-04-29', '2022-04-27']",
         "[]",
         "[]",
         "[]"
        ],
        [
         "Shawn Mendes",
         "7n2wHs1TKAczGzO7Dd2rGr",
         44085353,
         "canadian pop, pop, viral pop",
         85,
         "https://open.spotify.com/artist/7n2wHs1TKAczGzO7Dd2rGr",
         "https://i.scdn.co/image/ab6761610000e5eb58b4b9419486550f6fda0535",
         "[\"There's Nothing Holdin' Me Back\", 'Treat You Better', 'Stitches', 'Señorita', 'Mercy', 'Why Why Why', 'Heart of Gold', \"If I Can't Have You\", 'Monster (Shawn Mendes & Justin Bieber)', 'I Know What You Did Last Summer']",
         "[84, 83, 82, 78, 78, 67, 69, 70, 66, 70]",
         "[]",
         "['2024-11-15', '2020-12-07', '2020-12-05', '2020-12-04', '2019-06-19', '2018-05-25', '2017-11-03', '2017-04-20', '2017-04-20', '2016-12-23', '2015-11-20', '2015-04-14', '2024-11-01', '2024-09-12', '2024-08-08', '2023-11-21', '2023-06-09', '2022-09-30', '2022-05-13', '2022-03-31']",
         "[]",
         "[]",
         "[]"
        ],
        [
         "Dua Lipa",
         "6M2wZ9GZgrQXHCFfjv46we",
         45339266,
         "dance pop, pop, uk pop",
         89,
         "https://open.spotify.com/artist/6M2wZ9GZgrQXHCFfjv46we",
         "https://i.scdn.co/image/ab6761610000e5eb0c68f6c95232e716f0abee8d",
         "['Cold Heart - PNAU Remix', 'Houdini', \"Don't Start Now\", 'Training Season', 'One Kiss (with Dua Lipa)', 'Dance The Night - From Barbie The Album', 'New Rules', 'Levitating (feat. DaBaby)', 'Scared to Be Lonely', 'Illusion']",
         "[66, 83, 81, 79, 75, 79, 79, 78, 78, 76]",
         "[]",
         "['2024-12-06', '2024-06-28', '2024-05-03', '2021-02-11', '2020-08-28', '2020-03-27', '2018-10-19', '2017-06-02', '2024-11-08', '2024-07-26', '2024-05-01', '2024-04-11', '2024-04-11', '2024-02-15', '2024-02-15', '2024-02-13', '2024-01-19', '2023-12-22', '2023-11-09', '2023-11-09']",
         "[]",
         "[]",
         "[]"
        ],
        [
         "The Weeknd",
         "1Xyo4u8uXC1ZmMpatF05PJ",
         97412415,
         "canadian contemporary r&b, canadian pop, pop",
         97,
         "https://open.spotify.com/artist/1Xyo4u8uXC1ZmMpatF05PJ",
         "https://i.scdn.co/image/ab6761610000e5eb9e528993a2820267b97f6aae",
         "['Timeless (with Playboi Carti)', 'One Of The Girls (with JENNIE, Lily Rose Depp)', 'Starboy', 'Blinding Lights', 'Die For You', 'São Paulo (feat. Anitta)', 'Save Your Tears', 'The Hills', 'Save Your Tears (Remix) (with Ariana Grande) - Bonus Track', 'Stargirl Interlude']",
         "[92, 90, 87, 87, 84, 84, 83, 83, 79, 81]",
         "[]",
         "['2023-03-14', '2023-03-03', '2022-01-07', '2022-01-06', '2020-03-20', '2020-03-20', '2018-03-30', '2016-11-25', '2015-08-28', '2013-09-10', '2012-11-13', '2011-12-21', '2011-08-18', '2011-03-21', '2024-10-31', '2024-09-27', '2024-09-13', '2024-09-13', '2024-01-26', '2023-12-08']",
         "[]",
         "[]",
         "[]"
        ],
        [
         "Kendrick Lamar",
         "2YZyLoL8N0Wb9xBt1NhZWg",
         35889898,
         "conscious hip hop, hip hop, rap, west coast rap",
         97,
         "https://open.spotify.com/artist/2YZyLoL8N0Wb9xBt1NhZWg",
         "https://i.scdn.co/image/ab6761610000e5eb39ba6dcd4355c03de0b50918",
         "['luther (with sza)', 'tv off (feat. lefty gunplay)', 'squabble up', 'Not Like Us', 'All The Stars (with SZA)', 'wacced out murals', 'hey now (feat. dody6)', 'reincarnated', 'dodger blue (feat. wallie the sensei, siete7x, roddy ricch)', 'Like That']",
         "[86, 91, 90, 88, 86, 85, 85, 84, 84, 84]",
         "[]",
         "['2024-11-22', '2022-05-13', '2018-02-09', '2017-12-08', '2017-04-14', '2016-03-04', '2015-03-16', '2012', '2012', '2011-07-02', '2010-09-14', '2024-05-04', '2024-05-03', '2024-04-30', '2023-06-05', '2022-05-08', '2021-08-27', '2018-11-14', '2018-01-12', '2018-01-04']",
         "[]",
         "[]",
         "[]"
        ],
        [
         "Kanye West",
         "5K4W6rqBFWDnAN6FQUkS6x",
         28672172,
         "chicago rap, hip hop, rap",
         93,
         "https://open.spotify.com/artist/5K4W6rqBFWDnAN6FQUkS6x",
         "https://i.scdn.co/image/ab6761610000e5eb6e835a500e791bf9c27a422a",
         "['Heartless', 'Flashing Lights', 'CARNIVAL', 'Violent Crimes', 'Father Stretch My Hands Pt. 1', 'Runaway', 'I Wonder', 'All Falls Down', 'Bound 2', 'Gold Digger']",
         "[83, 82, 82, 81, 81, 80, 80, 80, 80, 78]",
         "[]",
         "['2024-08-03', '2024-02-09', '2021-11-14', '2021-08-29', '2019-10-25', '2018-06-08', '2018-06-01', '2016-06-10', '2013-06-18', '2011-08-12', '2011-08-08', '2010-11-22', '2008-11-24', '2007-09-11', '2005-08-30', '2004-02-10', '2024-08-03', '2024-07-12', '2024-06-21', '2024-05-31']",
         "[]",
         "[]",
         "[]"
        ],
        [
         "Coldplay",
         "4gzpq5DPGxSnKTe4SA8HAU",
         55828469,
         "permanent wave, pop",
         92,
         "https://open.spotify.com/artist/4gzpq5DPGxSnKTe4SA8HAU",
         "https://i.scdn.co/image/ab6761610000e5eb1ba8fc5f5c73e7e9313cc6eb",
         "['Yellow', 'Viva La Vida', 'Something Just Like This', 'A Sky Full of Stars', 'Sparks', 'The Scientist', 'Christmas Lights', 'Fix You', 'Clocks', 'Paradise']",
         "[88, 85, 86, 85, 85, 84, 83, 82, 81, 81]",
         "[]",
         "['2024-10-04', '2024-10-03', '2021-10-15', '2019-11-22', '2018-12-07', '2015-12-04', '2014-11-21', '2014-05-16', '2012-11-19', '2011-10-24', '2009-05-15', '2008-11-24', '2008-05-26', '2005-06-07', '2003-11-01', '2002-08-27', '2000-07-10', '2024-11-29', '2024-11-22', '2024-11-21']",
         "[]",
         "[]",
         "[]"
        ],
        [
         "Imagine Dragons",
         "53XhwfbYqKCa1cC15pYq2q",
         55908450,
         "modern rock, pop, rock",
         89,
         "https://open.spotify.com/artist/53XhwfbYqKCa1cC15pYq2q",
         "https://i.scdn.co/image/ab6761610000e5ebab47d8dae2b24f5afe7f9d38",
         "['Believer', 'Demons', 'Enemy (with JID) - from the series Arcane League of Legends', 'Thunder', 'Bones', 'Radioactive', 'Whatever It Takes', 'Natural', 'Bad Liar', 'Take Me to the Beach (feat. Ado)']",
         "[85, 71, 80, 83, 80, 70, 80, 79, 78, 78]",
         "[]",
         "['2024-06-28', '2023-07-28', '2022-09-09', '2022-07-01', '2018-11-09', '2017-06-23', '2016-06-03', '2015-10-16', '2014-12-16', '2012-09-04', '2012-09-04', '2024-12-16', '2024-11-23', '2024-11-01', '2024-11-01', '2024-10-18', '2024-10-11', '2024-09-27', '2024-04-03', '2023-08-30']",
         "[]",
         "[]",
         "[]"
        ],
        [
         "Bruno Mars",
         "0du5cEVh5yTK9QJze8zA0C",
         65452671,
         "dance pop, pop",
         97,
         "https://open.spotify.com/artist/0du5cEVh5yTK9QJze8zA0C",
         "https://i.scdn.co/image/ab6761610000e5ebc36dd9eb55fb0db4911f25dd",
         "['Die With A Smile', 'APT.', 'Locked out of Heaven', 'Just the Way You Are', \"That's What I Like\", 'When I Was Your Man', 'Talking to the Moon', 'Grenade', 'Marry You', 'It Will Rain']",
         "[100, 88, 89, 86, 89, 85, 82, 78, 77, 70]",
         "[]",
         "['2021-11-12', '2016-11-17', '2012-12-07', '2010-05-11', '2024-10-18', '2024-10-17', '2024-10-17', '2024-10-17', '2024-10-16', '2021-04-02', '2019-07-05', '2019-02-15', '2018-09-14', '2018-03-23', '2017-06-27', '2017-05-26', '2017-04-21', '2017-04-20', '2017-04-18', '2017-04-18']",
         "[]",
         "[]",
         "[]"
        ],
        [
         "Rihanna",
         "5pKCCKE2ajJHZ9KAiaK11H",
         64678133,
         "barbadian pop, pop, urban contemporary",
         92,
         "https://open.spotify.com/artist/5pKCCKE2ajJHZ9KAiaK11H",
         "https://i.scdn.co/image/ab6761610000e5eb99e4fca7c0b7cb166d915789",
         "['We Found Love', \"Breakin' Dishes\", 'Only Girl (In The World)', 'Love On The Brain', 'Umbrella', 'Stay', 'S&M', \"Don't Stop The Music\", 'Diamonds', 'Needed Me']",
         "[81, 70, 81, 83, 70, 71, 80, 69, 70, 80]",
         "[]",
         "['2022-11-11', '2016-01-28', '2016-01-28', '2012-12-11', '2012-12-11', '2011-01-01', '2011-01-01', '2010-11-15', '2010-05-08', '2010-01-01', '2009-11-20', '2009-01-01', '2008-06-02', '2007-01-01', '2006-04-10', '2005-08-29', '2022-10-28', '2020-03-26', '2018-03-18', '2017-12-08']",
         "[]",
         "[]",
         "[]"
        ],
        [
         "Halsey",
         "26VFTg2z8YR0cCuwLzESi2",
         21838423,
         "electropop, etherpop, indie poptimism, pop",
         83,
         "https://open.spotify.com/artist/26VFTg2z8YR0cCuwLzESi2",
         "https://i.scdn.co/image/ab6761610000e5eb7f17140567e7df5799d5c3a9",
         "['Closer', 'Eastside (with Halsey & Khalid)', 'Without Me', 'Him & I (with Halsey)', 'Boy With Luv (feat. Halsey)', 'Bad At Love', 'Be Kind (with Halsey)', 'Gasoline', 'Walls Could Talk', 'Control']",
         "[84, 78, 78, 77, 73, 75, 69, 69, 68, 68]",
         "[]",
         "['2024-10-31', '2022-08-31', '2022-06-02', '2022-01-03', '2021-12-21', '2021-08-27', '2020-08-28', '2020-01-17', '2018-03-15', '2017-06-02', '2015-08-28', '2015-08-28', '2024-10-10', '2024-09-06', '2024-08-15', '2024-07-26', '2024-06-04', '2023-06-05', '2023-02-24', '2022-07-22']",
         "[]",
         "[]",
         "[]"
        ],
        [
         "Adele",
         "4dpARuHxo51G3z768sgnrY",
         61445753,
         "british soul, pop, pop soul, uk pop",
         87,
         "https://open.spotify.com/artist/4dpARuHxo51G3z768sgnrY",
         "https://i.scdn.co/image/ab6761610000e5eb68f6e5892075d7f22615bd17",
         "['Easy On Me', 'Set Fire to the Rain', 'Someone Like You', 'Skyfall', 'Rolling in the Deep', 'Love In The Dark', 'When We Were Young', 'Send My Love (To Your New Lover)', 'Make You Feel My Love', 'Hello']",
         "[82, 77, 76, 83, 76, 71, 70, 72, 69, 70]",
         "[]",
         "['2021-11-19', '2015-11-20', '2011-01-24', '2008-11-17', '2021-10-14', '2016-11-04', '2016-05-16', '2016-02-05', '2015-10-23', '2012-10-04', '2011-07-04', '2011-07-04', '2011-04-11', '2011-01-24', '2011-01-16', '2008-10-27', '2008-07-20', '2008-04-20', '2008-01-20', '2014-08-25']",
         "[]",
         "[]",
         "[]"
        ],
        [
         "Cardi B",
         "4kYSro6naA4h99UJvo89HB",
         24899700,
         "pop, rap",
         81,
         "https://open.spotify.com/artist/4kYSro6naA4h99UJvo89HB",
         "https://i.scdn.co/image/ab6761610000e5eb4e8a7e14e2f602eb9af24e31",
         "['Please Me', 'I Like It', 'WAP (feat. Megan Thee Stallion)', 'Finesse - Remix; feat. Cardi B', 'Up', 'Bodak Yellow', 'South of the Border (feat. Camila Cabello & Cardi B)', 'Tomorrow 2 (with Cardi B)', 'Thru Your Phone', 'Money']",
         "[75, 74, 74, 73, 69, 69, 69, 69, 68, 67]",
         "[]",
         "['2018-04-06', '2017-01-20', '2016-03-07', '2024-07-19', '2024-07-17', '2024-06-19', '2024-05-31', '2024-05-29', '2024-03-21', '2024-03-20', '2024-03-02', '2024-02-28', '2023-09-22', '2023-09-07', '2023-09-07', '2023-09-07', '2023-07-28', '2023-07-05', '2023-06-02', '2023-05-31']",
         "[]",
         "[]",
         "[]"
        ],
        [
         "Travis Scott",
         "0Y5tJX1MQlPlqiwlOH1tJY",
         35922611,
         "rap, slap house",
         94,
         "https://open.spotify.com/artist/0Y5tJX1MQlPlqiwlOH1tJY",
         "https://i.scdn.co/image/ab6761610000e5eb19c2790744c792d05570bb71",
         "['FE!N (feat. Playboi Carti)', 'goosebumps', 'HIGHEST IN THE ROOM', 'Open Arms (feat. Travis Scott)', 'Type Shit', 'BUTTERFLY EFFECT', 'Trance (with Travis Scott & Young Thug)', 'MY EYES', 'I KNOW ?', 'SICKO MODE']",
         "[87, 85, 84, 81, 83, 82, 82, 81, 81, 81]",
         "[]",
         "['2023-07-28', '2019-12-27', '2018-08-03', '2017-12-21', '2016-09-16', '2015-09-04', '2014-08-18', '2024-10-31', '2024-08-06', '2024-06-21', '2024-04-19', '2024-01-10', '2023-11-17', '2023-07-27', '2023-07-26', '2023-07-25', '2023-07-21', '2023-07-18', '2023-07-05', '2023-05-11']",
         "[]",
         "[]",
         "[]"
        ],
        [
         "Lady Gaga",
         "1HY2Jd0NmPuamShAr6KMms",
         33802594,
         "art pop, dance pop, pop",
         92,
         "https://open.spotify.com/artist/1HY2Jd0NmPuamShAr6KMms",
         "https://i.scdn.co/image/ab6761610000e5eb4b09cd0839c6129c29d22f79",
         "['Die With A Smile', 'Poker Face', 'Disease', 'Shallow', 'Always Remember Us This Way', 'Just Dance', 'Bad Romance', 'Judas', 'Paparazzi', 'Telephone']",
         "[100, 76, 83, 81, 81, 73, 81, 71, 70, 74]",
         "[]",
         "['2024-10-04', '2024-09-27', '2022-05-27', '2021-10-01', '2021-09-03', '2021-06-25', '2020-05-29', '2018-10-05', '2018-10-05', '2016-10-21', '2014-09-19', '2014-09-19', '2013-11-11', '2011-01-01', '2011-01-01', '2009-11-05', '2008-01-01', '2024-12-16', '2024-11-20', '2024-10-17']",
         "[]",
         "[]",
         "[]"
        ],
        [
         "ZAYN",
         "5ZsFI1h6hIdQRw2ti0hz81",
         23552148,
         "pop, uk pop",
         79,
         "https://open.spotify.com/artist/5ZsFI1h6hIdQRw2ti0hz81",
         "https://i.scdn.co/image/ab6761610000e5eb7a1fba1bb3618ef71355f82a",
         "['Dusk Till Dawn (feat. Sia) - Radio Edit', 'I Don’t Wanna Live Forever (Fifty Shades Darker)', 'PILLOWTALK', 'Trampoline (with ZAYN)', 'A Whole New World (End Title) - From \"Aladdin\"', 'Stardust', 'Sweat', 'Let Me', 'fOoL fOr YoU', 'TiO']",
         "[80, 79, 79, 66, 62, 63, 63, 63, 62, 61]",
         "[]",
         "['2024-05-20', '2024-05-17', '2021-01-15', '2018-12-14', '2016-03-25', '2016-03-25', '2024-04-12', '2024-03-15', '2024-01-12', '2023-09-08', '2023-07-21', '2022-11-25', '2021-03-17', '2021-01-08', '2020-09-25', '2020-04-10', '2020-02-13', '2019-12-27', '2019-12-12', '2019-11-06']",
         "[]",
         "[]",
         "[]"
        ],
        [
         "Selena Gomez",
         "0C8ZW7ezQVs4URX5aX7Kqx",
         51515760,
         "pop, post-teen pop",
         83,
         "https://open.spotify.com/artist/0C8ZW7ezQVs4URX5aX7Kqx",
         "https://i.scdn.co/image/ab6761610000e5ebc3c753851496854e29abff7a",
         "['Calm Down (with Selena Gomez)', 'It Ain’t Me (with Selena Gomez)', 'Lose You To Love Me', 'Good For You', 'Wolves', 'People You Know', 'Fetish (feat. Gucci Mane)', 'Back To You - From 13 Reasons Why – Season 2 Soundtrack', 'Same Old Love', 'The Heart Wants What It Wants']",
         "[73, 63, 76, 66, 75, 74, 74, 70, 65, 69]",
         "[]",
         "['2020-04-09', '2020-01-10', '2015-10-09', '2013-01-01', '2024-02-22', '2023-08-25', '2022-11-03', '2022-08-25', '2022-04-15', '2022-03-18', '2022-03-11', '2022-03-04', '2021-08-26', '2021-05-07', '2021-04-30', '2021-04-16', '2021-03-12', '2021-03-04', '2020-10-30', '2020-08-28']",
         "[]",
         "[]",
         "[]"
        ],
        [
         "Harry Styles",
         "6KImCVD70vtIoJWnq6nGn3",
         33338336,
         "pop",
         85,
         "https://open.spotify.com/artist/6KImCVD70vtIoJWnq6nGn3",
         "https://i.scdn.co/image/ab6761610000e5ebf7db7c8ede90a019c54590bb",
         "['As It Was', 'Watermelon Sugar', 'Sign of the Times', 'Adore You', 'Falling', 'Late Night Talking', 'Matilda', 'Fine Line', 'Keep Driving', 'Golden']",
         "[86, 81, 81, 79, 78, 76, 75, 75, 74, 72]",
         "[]",
         "['2022-05-20', '2019-12-13', '2017-05-12', '2017-09-27', '2024-12-26']",
         "[]",
         "[]",
         "[]"
        ],
        [
         "Sam Smith",
         "2wY79sveU1sp5g7SokKOiI",
         25020560,
         "pop, uk pop",
         85,
         "https://open.spotify.com/artist/2wY79sveU1sp5g7SokKOiI",
         "https://i.scdn.co/image/ab6761610000e5ebf057d1dce23e7f4d5d0f32e5",
         "[\"I'm Not The Only One\", 'Too Good At Goodbyes', 'Stay With Me', 'Latch', 'La La La', 'Unholy (feat. Kim Petras)', 'Dancing With A Stranger (with Normani)', 'Have Yourself A Merry Little Christmas', 'Fire On Fire', 'Desire (with Sam Smith)']",
         "[82, 80, 80, 79, 67, 73, 74, 77, 74, 62]",
         "[]",
         "['2024-08-30', '2024-08-02', '2023-04-12', '2023-01-27', '2021-09-24', '2021-03-19', '2020-10-30', '2017-11-03', '2017-11-03', '2015-11-06', '2014-05-26', '2014-01-01', '2024-11-22', '2024-10-02', '2024-08-29', '2024-08-22', '2024-08-16', '2024-08-09', '2023-12-01', '2023-11-20']",
         "[]",
         "[]",
         "[]"
        ],
        [
         "Lil Nas X",
         "7jVv8c5Fj3E9VhNjxT4snq",
         12397547,
         "lgbtq+ hip hop",
         76,
         "https://open.spotify.com/artist/7jVv8c5Fj3E9VhNjxT4snq",
         "https://i.scdn.co/image/ab6761610000e5eb3758a33e782b46bd7f174e1d",
         "['INDUSTRY BABY (feat. Jack Harlow)', 'MONTERO (Call Me By Your Name)', 'THATS WHAT I WANT', 'Old Town Road (feat. Billy Ray Cyrus) - Remix', 'Old Town Road', \"STAR WALKIN' (League of Legends Worlds Anthem)\", 'Panini', 'HOLIDAY', 'LIGHT AGAIN!', 'HE KNOWS (feat. Lil Nas X)']",
         "[73, 76, 73, 71, 70, 69, 61, 66, 65, 61]",
         "[]",
         "['2021-09-17', '2019-06-21', '2024-11-22', '2024-11-15', '2024-06-28', '2024-05-03', '2024-01-26', '2024-01-12', '2022-09-22', '2022-06-24', '2021-10-09', '2021-07-23', '2021-05-21', '2021-04-23', '2020-11-13', '2020-01-27', '2019-09-13', '2019-07-24', '2019-07-12', '2019-04-29']",
         "[]",
         "[]",
         "[]"
        ],
        [
         "Megan Thee Stallion",
         "181bsRPaVXVlUKXrxwZfHK",
         10072406,
         "houston rap, pop, rap, trap queen",
         83,
         "https://open.spotify.com/artist/181bsRPaVXVlUKXrxwZfHK",
         "https://i.scdn.co/image/ab6761610000e5eba300c2e412844ab60e397b1b",
         "['Strategy (feat. Megan Thee Stallion)', 'Mamushi (feat. Yuki Chiba)', 'Neva Play (feat. RM of BTS)', 'Wanna Be (with Megan Thee Stallion)', 'WAP (feat. Megan Thee Stallion)', 'Beautiful Mistakes (feat. Megan Thee Stallion)', 'On Me - Remix', 'Sweetest Pie', 'Not My Fault (with Megan Thee Stallion)', 'Thot Shit']",
         "[81, 78, 65, 74, 74, 74, 42, 64, 68, 63]",
         "[]",
         "['2024-10-25', '2024-06-28', '2022-08-12', '2021-10-29', '2020-11-20', '2020-04-27', '2020-03-06', '2019-05-17', '2018-12-21', '2018-03-09', '2017-09-18', '2024-10-10', '2024-09-06', '2024-09-05', '2024-08-02', '2024-06-07', '2024-05-31', '2024-05-29', '2024-05-10', '2024-05-09']",
         "[]",
         "[]",
         "[]"
        ],
        [
         "Doja Cat",
         "5cj0lLjcoR7YOSnhnX0Po5",
         32367070,
         "dance pop, pop",
         87,
         "https://open.spotify.com/artist/5cj0lLjcoR7YOSnhnX0Po5",
         "https://i.scdn.co/image/ab6761610000e5ebe94f88ff74ae4ddcab961f97",
         "['Paint The Town Red', 'Kiss Me More (feat. SZA)', 'Woman', 'Streets', 'Agora Hills', 'Candy', 'You Right', 'I Like You (A Happier Song) (with Doja Cat)', 'Need to Know', 'Boss Bitch']",
         "[76, 80, 82, 81, 75, 79, 74, 75, 75, 75]",
         "[]",
         "['2024-05-17', '2023-09-22', '2021-06-27', '2021-06-25', '2019-11-07', '2019-03-01', '2018-03-30', '2024-04-03', '2024-04-01', '2024-01-12', '2024-01-10', '2023-09-15', '2023-09-01', '2023-08-31', '2023-08-04', '2023-06-16', '2023-04-14', '2023-01-20', '2022-05-06', '2022-04-15']",
         "[]",
         "[]",
         "[]"
        ],
        [
         "The Chainsmokers",
         "69GGBxA162lTqCwzJG5jLp",
         20757176,
         "pop",
         83,
         "https://open.spotify.com/artist/69GGBxA162lTqCwzJG5jLp",
         "https://i.scdn.co/image/ab6761610000e5eb44434ab91c37f5407f8e83b6",
         "['Something Just Like This', 'Closer', \"Don't Let Me Down\", 'Addicted', 'Paris', 'Roses', 'Jungle', 'This Feeling', 'Takeaway', 'All We Know']",
         "[86, 84, 80, 80, 72, 72, 71, 68, 67, 66]",
         "[]",
         "['2023-10-20', '2022-10-21', '2022-06-08', '2019-12-06', '2018-12-14', '2017-04-07', '2024-11-08', '2024-09-06', '2024-08-30', '2024-07-26', '2024-07-19', '2024-05-24', '2024-05-10', '2024-05-03', '2024-04-26', '2024-03-29', '2023-12-15', '2023-11-10', '2023-10-17', '2023-09-22']",
         "[]",
         "[]",
         "[]"
        ],
        [
         "Eminem",
         "7dGJo4pcD2V6oG8kP0tJRR",
         95619328,
         "detroit hip hop, hip hop, rap",
         93,
         "https://open.spotify.com/artist/7dGJo4pcD2V6oG8kP0tJRR",
         "https://i.scdn.co/image/ab6761610000e5eba00b11c129b27a88fc72f36b",
         "['Without Me', 'Mockingbird', 'Houdini', 'The Real Slim Shady', 'Lose Yourself', 'Godzilla (feat. Juice WRLD)', 'Love The Way You Lie', 'Till I Collapse', 'Superman', 'Stan']",
         "[86, 85, 78, 84, 76, 83, 82, 82, 81, 79]",
         "[]",
         "['2024-09-13', '2024-07-12', '2023-11-03', '2022-08-05', '2022-05-26', '2020-12-18', '2020-01-17', '2018-08-31', '2017-12-15', '2013-01-01', '2010-06-21', '2010-06-18', '2009-05-15', '2009-05-15', '2009-05-15', '2004-11-12', '2002-05-26', '2000-05-23', '1999-02-23', '1999-02-23']",
         "[]",
         "[]",
         "[]"
        ],
        [
         "Nicki Minaj",
         "0hCNtLu0JehylgoiP8L4Gh",
         33113977,
         "hip pop, pop, queens hip hop, rap",
         88,
         "https://open.spotify.com/artist/0hCNtLu0JehylgoiP8L4Gh",
         "https://i.scdn.co/image/ab6761610000e5eb07a50f0a9a8f11e5a1102cbd",
         "['Starships', 'Bang Bang', 'Super Bass', 'AGATS2 (Insecure) [with Nicki Minaj]', 'Tusa', 'Super Freaky Girl', 'Swalla (feat. Nicki Minaj & Ty Dolla $ign)', 'Barbie World (with Aqua) [From Barbie The Album]', 'FTCU', 'The Night Is Still Young']",
         "[72, 78, 77, 71, 69, 66, 65, 70, 71, 60]",
         "[]",
         "['2024-11-22', '2024-01-13', '2023-12-15', '2023-12-08', '2022-08-28', '2021-05-14', '2018-11-29', '2018-08-10', '2014-12-15', '2014-12-15', '2014-12-12', '2012-04-03', '2012-01-01', '2012-01-01', '2011-01-01', '2010-11-22', '2010-11-22', '2010-01-01', '2024-11-21', '2024-11-19']",
         "[]",
         "[]",
         "[]"
        ],
        [
         "Maroon 5",
         "04gDigrS5kc9YWfZHwBETP",
         43690146,
         "pop",
         87,
         "https://open.spotify.com/artist/04gDigrS5kc9YWfZHwBETP",
         "https://i.scdn.co/image/ab6761610000e5ebf8349dfb619a7f842242de77",
         "['Payphone', 'Maps', 'Moves Like Jagger - Studio Recording From \"The Voice\" Performance', 'Memories', 'This Love', 'Animals', 'She Will Be Loved - Radio Mix', 'Sugar', 'One More Night', 'Sunday Morning']",
         "[69, 82, 69, 82, 81, 79, 79, 78, 69, 74]",
         "[]",
         "['2021-06-11', '2018-06-15', '2014-09-02', '2014-09-02', '2012-01-01', '2012-01-01', '2011-01-01', '2008-01-01', '2007-01-01', '2007-01-01', '2004', '2002-06-25', '2002', '2023-08-11', '2022-08-05', '2020-10-16', '2019-12-13', '2019-12-11', '2019-12-10', '2018-08-10']",
         "[]",
         "[]",
         "[]"
        ],
        [
         "Lana Del Rey",
         "00FQb4jTyendYWaN8pK0wa",
         43374300,
         "art pop, pop",
         92,
         "https://open.spotify.com/artist/00FQb4jTyendYWaN8pK0wa",
         "https://i.scdn.co/image/ab6761610000e5ebb99cacf8acd5378206767261",
         "['Summertime Sadness', 'Young And Beautiful', 'Say Yes To Heaven', 'Cinnamon Girl', 'West Coast', 'Brooklyn Baby', 'Diet Mountain Dew', 'Video Games', 'Chemtrails Over The Country Club', 'Margaret (feat. Bleachers)']",
         "[72, 83, 83, 82, 81, 80, 67, 69, 79, 79]",
         "[]",
         "['2023-03-24', '2021-10-22', '2021-03-19', '2019-08-30', '2017-07-21', '2015-09-18', '2014-01-01', '2012-11-09', '2012-01-30', '2012-01-01', '2012-01-01', '2011-01-01', '2024-10-11', '2024-10-04', '2024-07-03', '2024-02-09', '2023-12-01', '2023-11-30', '2023-10-20', '2023-06-08']",
         "[]",
         "[]",
         "[]"
        ],
        [
         "Shakira",
         "0EmeFodog0BfCgMzAIvKQp",
         36087475,
         "colombian pop, dance pop, latin pop, pop",
         88,
         "https://open.spotify.com/artist/0EmeFodog0BfCgMzAIvKQp",
         "https://i.scdn.co/image/ab6761610000e5eb2528c726e5ddb90a7197e527",
         "['Soltera', \"Hips Don't Lie (feat. Wyclef Jean)\", 'TQG', 'Dia de Enero', 'Shakira: Bzrp Music Sessions, Vol. 53', 'Antologia', 'Chantaje (feat. Maluma)', 'Whenever, Wherever', \"Can't Remember to Forget You (feat. Rihanna)\", 'Inevitable']",
         "[85, 84, 80, 77, 76, 76, 76, 74, 74, 74]",
         "[]",
         "['2024-03-22', '2021-11-12', '2019-11-13', '2017-05-26', '2014-03-21', '2014-03-13', '2011-12-05', '2010-10-19', '2009-10-09', '2008-01-17', '2005-11-28', '2005-06-03', '2004-03-22', '2001-11-13', '2000-02-29', '1998-09-29', '1997-10-21', '1995-10-06', '2024-09-25', '2024-03-21']",
         "[]",
         "[]",
         "[]"
        ],
        [
         "Camila Cabello",
         "4nDoRrQiYLoBzwC5BhVJzF",
         34355247,
         "dance pop, pop",
         83,
         "https://open.spotify.com/artist/4nDoRrQiYLoBzwC5BhVJzF",
         "https://i.scdn.co/image/ab6761610000e5eb76470faf6330235edbcb90a9",
         "['Señorita', 'Shameless', 'Havana (feat. Young Thug)', 'Move (feat. Camila Cabello & Malachiii)', 'Never Be the Same', 'Bam Bam (feat. Ed Sheeran)', 'My Oh My (feat. DaBaby)', 'I Know What You Did Last Summer', 'The Christmas Song (Shawn Mendes & Camila Cabello)', 'Beautiful (feat. Camila Cabello)']",
         "[78, 81, 80, 78, 76, 67, 71, 70, 65, 70]",
         "[]",
         "['2024-09-06', '2024-06-28', '2022-04-08', '2019-12-06', '2018-01-12', '2024-10-11', '2024-03-27', '2023-10-11', '2022-12-09', '2022-11-04', '2022-07-27', '2022-03-04', '2022-03-02', '2021-11-04', '2021-10-29', '2021-09-10', '2021-09-10', '2021-07-23', '2021-07-21', '2020-12-01']",
         "[]",
         "[]",
         "[]"
        ],
        [
         "Pitbull",
         "0TnOYISbd1XYRBk9myaseg",
         11123247,
         "dance pop, miami hip hop, pop",
         86,
         "https://open.spotify.com/artist/0TnOYISbd1XYRBk9myaseg",
         "https://i.scdn.co/image/ab6761610000e5eb4051627b19277613e0e62a34",
         "['Give Me Everything (feat. Nayer)', 'Timber', 'Time of Our Lives', \"DJ Got Us Fallin' In Love (feat. Pitbull)\", 'International Love (feat. Chris Brown)', 'Feel This Moment (feat. Christina Aguilera)', 'Hotel Room Service', 'Fireball (feat. John Ryan)', 'MR. MOONDIAL', 'I Know You Want Me (Calle Ocho)']",
         "[84, 83, 82, 81, 77, 76, 70, 75, 75, 70]",
         "[]",
         "['2024-02-16', '2023-10-06', '2019-09-27', '2018-06-14', '2017-03-17', '2015-07-17', '2014-11-21', '2012', '2011-06-17', '2011-06-17', '2010-11-02', '2010', '2009-08-31', '2007-11-27', '2007-11-27', '2006-10-31', '2006-10-31', '2005', '2004-08-24', '2024-11-14']",
         "[]",
         "[]",
         "[]"
        ],
        [
         "Katy Perry",
         "6jJ0s89eD6GaHleKKya26X",
         35579662,
         "pop",
         87,
         "https://open.spotify.com/artist/6jJ0s89eD6GaHleKKya26X",
         "https://i.scdn.co/image/ab6761610000e5eb0988562f78810e47a6e3325f",
         "['Last Friday Night (T.G.I.F.)', 'Dark Horse', 'Hot N Cold', 'The One That Got Away', 'Firework', 'California Gurls', 'Cozy Little Christmas', 'Teenage Dream', 'Roar', 'I Kissed A Girl']",
         "[74, 78, 70, 70, 70, 71, 80, 72, 76, 68]",
         "[]",
         "['2024-12-20', '2024-09-20', '2023-06-20', '2020-08-28', '2017-06-09', '2013-10-18', '2013-01-01', '2012-03-12', '2010-01-01', '2009-11-13', '2008-06-17', '2024-09-13', '2024-08-08', '2024-07-15', '2024-07-11', '2022-03-31', '2022-02-18', '2021-12-29', '2021-10-25', '2021-05-14']",
         "[]",
         "[]",
         "[]"
        ],
        [
         "One Direction",
         "4AK6F7OLvEQ5QYCBNiQWHq",
         38237256,
         "boy band, pop, post-teen pop, talent show",
         88,
         "https://open.spotify.com/artist/4AK6F7OLvEQ5QYCBNiQWHq",
         "https://i.scdn.co/image/5bb443424a1ad71603c43d67f5af1a04da6bb3c8",
         "['Night Changes', 'Story of My Life', 'What Makes You Beautiful', 'Perfect', 'Steal My Girl', 'Drag Me Down', '18', 'Right Now', 'You & I', 'Best Song Ever']",
         "[88, 84, 84, 80, 78, 77, 77, 76, 76, 75]",
         "[]",
         "['2015-11-13', '2014-11-17', '2013-11-25', '2012-11-12', '2012-05-25', '2014-03-09', '2013-07-22', '2013-02-17', '2010-11-29', '2010-11-29', '2010-11-29', '2010-11-29', '2012-11-19', '2018-04-10', '2023-06-12', '2022-12-16', '2022-03-23', '2018-04-12', '2022-12-16', '2022-12-16']",
         "[]",
         "[]",
         "[]"
        ],
        [
         "Édith Piaf",
         "1WPcVNert9hn7mHsPKDn7j",
         1198247,
         "chanson, torch song, vintage schlager",
         63,
         "https://open.spotify.com/artist/1WPcVNert9hn7mHsPKDn7j",
         "https://i.scdn.co/image/ab6761610000e5eb4ffde9b9fb5abeb2e14cef0d",
         "['Non, je ne regrette rien', 'La Vie en rose', 'La Foule', 'La vie en rose', \"Hymne à l'amour\", 'Padam padam', 'Milord', 'Sous le ciel de Paris', 'Paris', 'Plus bleu que tes yeux']",
         "[64, 50, 56, 57, 42, 53, 41, 49, 43, 44]",
         "[]",
         "['2024-05-09', '2023-12-08', '2023-10-13', '2023-10-10', '2023-02-28', '2022-10-21', '2022-09-30', '2022-04-12', '2022-04-12', '2021-12-17', '2021-10-22', '2021-06-18', '2020-09-18', '2018-08-29', '2017-12-15', '2013-09-27', '2012-09-24', '2012-05-25', '2011-05-17', '2011-03-14']",
         "[]",
         "[]",
         "[]"
        ],
        [
         "Luis Fonsi",
         "4V8Sr092TqfHkfAA5fXXqG",
         10700090,
         "latin pop, puerto rican pop",
         76,
         "https://open.spotify.com/artist/4V8Sr092TqfHkfAA5fXXqG",
         "https://i.scdn.co/image/ab6761610000e5eb2620d7e19f51d9c4b7e853ce",
         "['Despacito', 'Despacito - Remix', 'Échame La Culpa', 'No Me Doy Por Vencido', 'El Ultimo Adiós - Varios Artistas Version', 'Llegaste Tú', 'Imposible', 'Corazón En La Maleta', 'Aqui Estoy Yo', 'Tanto']",
         "[78, 68, 70, 69, 69, 66, 61, 62, 63, 61]",
         "[]",
         "['2024-05-17', '2022-03-11', '2019-02-01', '2017-02-17', '2014-10-27', '2014-01-01', '2014-01-01', '2013-01-01', '2007-08-28', '2005-01-01', '2000-01-01', '2024-11-08', '2024-05-16', '2024-05-16', '2024-04-26', '2024-03-22', '2024-03-15', '2024-02-28', '2024-02-16', '2024-01-19']",
         "[]",
         "[]",
         "[]"
        ],
        [
         "Shawn Mendes",
         "7n2wHs1TKAczGzO7Dd2rGr",
         44085353,
         "canadian pop, pop, viral pop",
         85,
         "https://open.spotify.com/artist/7n2wHs1TKAczGzO7Dd2rGr",
         "https://i.scdn.co/image/ab6761610000e5eb58b4b9419486550f6fda0535",
         "[\"There's Nothing Holdin' Me Back\", 'Treat You Better', 'Stitches', 'Señorita', 'Mercy', 'Why Why Why', 'Heart of Gold', \"If I Can't Have You\", 'Monster (Shawn Mendes & Justin Bieber)', 'I Know What You Did Last Summer']",
         "[84, 83, 82, 78, 78, 67, 69, 70, 66, 70]",
         "[]",
         "['2024-11-15', '2020-12-07', '2020-12-05', '2020-12-04', '2019-06-19', '2018-05-25', '2017-11-03', '2017-04-20', '2017-04-20', '2016-12-23', '2015-11-20', '2015-04-14', '2024-11-01', '2024-09-12', '2024-08-08', '2023-11-21', '2023-06-09', '2022-09-30', '2022-05-13', '2022-03-31']",
         "[]",
         "[]",
         "[]"
        ],
        [
         "Charlie Puth",
         "6VuMaDnrHyPL1p4EHjYLi7",
         23850775,
         "pop, viral pop",
         82,
         "https://open.spotify.com/artist/6VuMaDnrHyPL1p4EHjYLi7",
         "https://i.scdn.co/image/ab6761610000e5ebd5594e3ae145bbb2c096366d",
         "[\"We Don't Talk Anymore (feat. Selena Gomez)\", 'See You Again (feat. Charlie Puth)', 'Attention', 'Left and Right (Feat. Jung Kook of BTS)', 'One Call Away', 'December 25th', 'How Long', 'Dangerously', 'Light Switch', 'Marvin Gaye (feat. Wale) - Remix']",
         "[77, 79, 80, 73, 69, 73, 72, 68, 70, 63]",
         "[]",
         "['2022-10-07', '2018-05-11', '2016-11-11', '2016-01-29', '2015-11-05', '2024-11-08', '2024-05-24', '2024-05-10', '2023-08-18', '2023-04-14', '2023-03-31', '2022-09-02', '2022-09-01', '2022-08-19', '2022-08-12', '2022-06-23', '2022-04-07', '2022-03-04', '2022-02-18', '2022-01-19']",
         "[]",
         "[]",
         "[]"
        ],
        [
         "Miley Cyrus",
         "5YGY8feqx7naU7z4HrwZM6",
         25334626,
         "pop",
         85,
         "https://open.spotify.com/artist/5YGY8feqx7naU7z4HrwZM6",
         "https://i.scdn.co/image/ab6761610000e5ebe73dc6aa2598689da2e9476c",
         "['Flowers', 'Party In The U.S.A.', 'Wrecking Ball', 'Angels Like You', 'Nothing Breaks Like a Heart (feat. Miley Cyrus)', \"We Can't Stop\", 'The Climb', \"Rockin' Around The Christmas Tree\", 'Prisoner (feat. Dua Lipa)', 'Used To Be Young']",
         "[87, 74, 78, 78, 76, 77, 57, 71, 70, 69]",
         "[]",
         "['2023-08-18', '2022-04-29', '2020-11-27', '2019-05-31', '2017-09-29', '2015-08-30', '2013-10-04', '2010-01-01', '2009-01-01', '2008-01-01', '2007-06-26', '2024-05-17', '2024-03-27', '2024-03-01', '2023-10-20', '2023-08-25', '2021-06-22', '2021-04-30', '2021-02-05', '2020-11-06']",
         "[]",
         "[]",
         "[]"
        ],
        [
         "John Legend",
         "5y2Xq6xcjJb2jVM54GHK3t",
         7329448,
         "neo soul, pop, pop soul, urban contemporary",
         80,
         "https://open.spotify.com/artist/5y2Xq6xcjJb2jVM54GHK3t",
         "https://i.scdn.co/image/ab6761610000e5eb01784e44ffd1a339350f4417",
         "['All of Me', 'What Christmas Means to Me (feat. Stevie Wonder)', 'Bring Me Love', 'You Deserve It All', \"Baby, It's Cold Outside (feat. Kelly Clarkson)\", 'Minefields', 'The Christmas Song (Chestnuts Roasting On An Open Fire) (duet with John Legend)', 'This Christmas', 'Beauty and the Beast', 'Have Yourself a Merry Little Christmas (feat. Esperanza Spalding)']",
         "[83, 70, 65, 67, 67, 61, 56, 54, 62, 59]",
         "[]",
         "['2024-11-22', '2024-08-30', '2023-02-08', '2022-09-09', '2020-06-19', '2018-10-26', '2018-10-26', '2018-10-26', '2018-10-26', '2016-12-02', '2013-11-22', '2013-08-30', '2010-09-17', '2008-10-27', '2006-10-31', '2006-10-24', '2005-12-06', '2003-06-10', '2024-11-13', '2024-08-09']",
         "[]",
         "[]",
         "[]"
        ],
        [
         "Alan Walker",
         "7vk5e3vY1uw9plTHJAMwjN",
         40048276,
         "electro house",
         82,
         "https://open.spotify.com/artist/7vk5e3vY1uw9plTHJAMwjN",
         "https://i.scdn.co/image/ab6761610000e5ebbf753c009fd9c2d53351dd3c",
         "['Faded', 'On My Way', 'Alone, Pt. II', 'Alone', 'Better Off (Alone, Pt. III)', 'Issues - Alan Walker Remix', 'Darkside', 'The Spectre', 'Lily', 'Barcelona']",
         "[79, 68, 71, 73, 59, 55, 71, 70, 70, 68]",
         "[]",
         "['2023-11-10', '2022-11-25', '2021-11-26', '2018-12-14', '2016-12-30', '2024-12-19', '2024-11-11', '2024-10-11', '2024-09-26', '2024-09-05', '2024-08-07', '2024-07-31', '2024-07-12', '2024-06-13', '2024-05-29', '2024-05-10', '2024-05-02', '2024-03-19', '2024-03-15', '2024-03-08']",
         "[]",
         "[]",
         "[]"
        ],
        [
         "Alicia Keys",
         "3DiDSECUqqY1AuBP8qtaIa",
         12300951,
         "neo soul, pop, r&b",
         81,
         "https://open.spotify.com/artist/3DiDSECUqqY1AuBP8qtaIa",
         "https://i.scdn.co/image/ab6761610000e5ebebfd16a3bca87c31c1e20576",
         "[\"If I Ain't Got You\", 'My Boo', 'No One', \"Fallin'\", 'Girl on Fire', 'Finally', \"Un-thinkable (I'm Ready) (feat. Drake) - Remix\", 'Empire State of Mind (Part II) Broken Down', \"You Don't Know My Name\", \"Un-thinkable (I'm Ready)\"]",
         "[81, 79, 75, 76, 73, 70, 70, 67, 66, 64]",
         "[]",
         "['2024-06-07', '2023-12-01', '2023-06-13', '2023-05-31', '2023-05-24', '2023-05-20', '2023-05-09', '2023-05-04', '2022-11-04', '2022-08-12', '2021-12-10', '2021-07-30', '2020-12-18', '2016-11-04', '2013-06-23', '2012-11-26', '2009-12-15', '2007-11-09', '2007-10-09', '2005-10-11']",
         "[]",
         "[]",
         "[]"
        ],
        [
         "Avicii",
         "1vCWHaC5f2uS3yhpwWbIA6",
         23206684,
         "dance pop, edm, pop, pop dance",
         82,
         "https://open.spotify.com/artist/1vCWHaC5f2uS3yhpwWbIA6",
         "https://i.scdn.co/image/ab6761610000e5ebae07171f989fb39736674113",
         "['Wake Me Up', 'The Nights', 'Waiting For Love', 'Levels - Radio Edit', 'Hey Brother', 'Without You (feat. Sandro Cavazza)', 'I Could Be The One (Avicii Vs. Nicky Romero) - Radio Edit', 'Addicted To You', 'SOS (feat. Aloe Blacc)', 'Lonely Together (feat. Rita Ora)']",
         "[83, 82, 78, 78, 76, 75, 60, 69, 68, 67]",
         "[]",
         "['2019-06-06', '2015-10-02', '2014-01-01', '2014-01-01', '2013-09-16', '2013-01-01', '2024-10-18', '2022-08-26', '2022-08-05', '2022-07-15', '2022-06-03', '2020-01-24', '2019-12-05', '2019-08-23', '2019-06-14', '2019-05-17', '2019-05-09', '2019-04-10', '2017-11-17', '2017-10-27']",
         "[]",
         "[]",
         "[]"
        ],
        [
         "Kesha",
         "6LqNN22kT3074XbTVUrhzX",
         8406118,
         "dance pop, pop",
         83,
         "https://open.spotify.com/artist/6LqNN22kT3074XbTVUrhzX",
         "https://i.scdn.co/image/ab6761610000e5eb2ac07249400857d8b16dc17a",
         "['Holiday Road - Spotify Singles Holiday', 'Timber', 'TiK ToK', 'Die Young', 'Right Round', 'JOYRIDE', 'We R Who We R', 'Blow', 'Backstabber', 'Your Love Is My Drug']",
         "[85, 83, 83, 78, 75, 73, 70, 69, 69, 68]",
         "[]",
         "['2023-05-19', '2020-01-31', '2017-08-11', '2012-11-30', '2010-11-19', '2010-01-01', '2024-11-29', '2024-10-15', '2024-10-13', '2024-08-02', '2024-07-04', '2023-06-30', '2023-06-23', '2023-05-17', '2023-04-28', '2021-10-29', '2021-09-10', '2021-04-02', '2021-03-19', '2021-01-29']",
         "[]",
         "[]",
         "[]"
        ],
        [
         "Sia",
         "5WUlDfRSoLAfcVSX1WnrxN",
         29155453,
         "pop",
         89,
         "https://open.spotify.com/artist/5WUlDfRSoLAfcVSX1WnrxN",
         "https://i.scdn.co/image/ab6761610000e5eb911dd6caa410128a05ab99aa",
         "['Snowman', 'Unstoppable', \"Santa's Coming for Us\", 'Titanium (feat. Sia)', 'Dusk Till Dawn (feat. Sia) - Radio Edit', 'Chandelier', 'Cheap Thrills', 'Elastic Heart', 'Wild Ones (feat. Sia)', 'Cheap Thrills (feat. Sean Paul)']",
         "[92, 77, 83, 69, 80, 69, 68, 66, 76, 62]",
         "[]",
         "['2024-11-30', '2024-05-03', '2023-09-10', '2023-09-10', '2022-12-30', '2021-02-12', '2019-04-12', '2018-11-01', '2016-10-21', '2016-02-18', '2015-05-04', '2014-07-04', '2010-06-21', '2009-01-01', '2008-01-01', '2007-01-01', '2004-01-01', '2004-01-01', '2003', '2003']",
         "[]",
         "[]",
         "[]"
        ],
        [
         "Rita Ora",
         "5CCwRZC6euC8Odo6y9X8jr",
         8422009,
         "dance pop, pop, uk pop",
         73,
         "https://open.spotify.com/artist/5CCwRZC6euC8Odo6y9X8jr",
         "https://i.scdn.co/image/ab6761610000e5ebc872d3c0c5491a40c98d0c44",
         "['For You (With Rita Ora)', 'Let You Love Me', 'Ritual', 'Your Song', 'Praising You (feat. Fatboy Slim)', 'Anywhere', \"Love Ain't It\", 'I Will Never Let You Down', 'Poison', 'Body On Me ft. Chris Brown']",
         "[72, 63, 60, 58, 63, 58, 61, 61, 59, 58]",
         "[]",
         "['2023-07-14', '2018-11-23', '2012', '2024-07-12', '2024-05-31', '2024-05-10', '2024-04-05', '2024-02-16', '2024-01-26', '2023-12-15', '2023-11-24', '2023-10-13', '2023-09-22', '2023-08-25', '2023-07-07', '2023-06-30', '2023-06-16', '2023-06-02', '2023-05-05', '2023-04-19']",
         "[]",
         "[]",
         "[]"
        ],
        [
         "The Rolling Stones",
         "22bE4uQ6baNwSHPVcDxLCe",
         14828044,
         "album rock, british invasion, classic rock, rock",
         80,
         "https://open.spotify.com/artist/22bE4uQ6baNwSHPVcDxLCe",
         "https://i.scdn.co/image/ab6761610000e5ebe4cea917b68726aadb4854b8",
         "['Paint It, Black', \"(I Can't Get No) Satisfaction - Mono Version\", 'Start Me Up - Remastered 2009', 'Beast Of Burden - Remastered 1994', 'Gimme Shelter', 'Sympathy For The Devil - 50th Anniversary Edition', 'Angie - Remastered 2009', 'Miss You - Remastered', 'Wild Horses - 2009 Mix', 'Honky Tonk Women']",
         "[81, 76, 76, 74, 73, 70, 70, 69, 66, 64]",
         "[]",
         "['2024-12-06', '2023-12-15', '2023-10-20', '2023-07-26', '2023-02-10', '2022-06-10', '2022-05-13', '2022', '2021-10-22', '2021-07-09', '2020-09-25', '2020-09-04', '2019-06-21', '2019-04-19', '2018-11-16', '2018-07-13', '2017-12-01', '2017-09-29', '2017-06-07', '2016-12-02']",
         "[]",
         "[]",
         "[]"
        ]
       ],
       "datasetInfos": [],
       "dbfsResultPath": null,
       "isJsonSchema": true,
       "metadata": {},
       "overflow": false,
       "plotOptions": {
        "customPlotOptions": {},
        "displayType": "table",
        "pivotAggregation": null,
        "pivotColumns": null,
        "xColumns": null,
        "yColumns": null
       },
       "removedWidgets": [],
       "schema": [
        {
         "metadata": "{}",
         "name": "Name",
         "type": "\"string\""
        },
        {
         "metadata": "{}",
         "name": "ID",
         "type": "\"string\""
        },
        {
         "metadata": "{}",
         "name": "Followers",
         "type": "\"long\""
        },
        {
         "metadata": "{}",
         "name": "Genres",
         "type": "\"string\""
        },
        {
         "metadata": "{}",
         "name": "Popularity",
         "type": "\"long\""
        },
        {
         "metadata": "{}",
         "name": "Spotify URL",
         "type": "\"string\""
        },
        {
         "metadata": "{}",
         "name": "Image URL",
         "type": "\"string\""
        },
        {
         "metadata": "{}",
         "name": "Top Tracks",
         "type": "\"string\""
        },
        {
         "metadata": "{}",
         "name": "Top Track Popularity",
         "type": "\"string\""
        },
        {
         "metadata": "{}",
         "name": "Related Artists",
         "type": "\"string\""
        },
        {
         "metadata": "{}",
         "name": "Album Release Dates",
         "type": "\"string\""
        },
        {
         "metadata": "{}",
         "name": "Danceability",
         "type": "\"string\""
        },
        {
         "metadata": "{}",
         "name": "Energy",
         "type": "\"string\""
        },
        {
         "metadata": "{}",
         "name": "Tempo",
         "type": "\"string\""
        }
       ],
       "type": "table"
      }
     },
     "output_type": "display_data"
    }
   ],
   "source": [
    "#import pandas as pd\n",
    "df = pd.read_csv('/Workspace/Users/n01660392@humber.ca/artist_performance_data.csv')\n",
    "\n",
    "display(df)"
   ]
  },
  {
   "cell_type": "code",
   "execution_count": 0,
   "metadata": {
    "application/vnd.databricks.v1+cell": {
     "cellMetadata": {
      "byteLimit": 2048000,
      "rowLimit": 10000
     },
     "inputWidgets": {},
     "nuid": "9064d21b-5f59-44b5-89f7-e42e1f82616e",
     "showTitle": false,
     "tableResultSettingsMap": {},
     "title": ""
    }
   },
   "outputs": [
    {
     "output_type": "stream",
     "name": "stdout",
     "output_type": "stream",
     "text": [
      "<class 'pandas.core.frame.DataFrame'>\nRangeIndex: 53 entries, 0 to 52\nData columns (total 14 columns):\n #   Column                Non-Null Count  Dtype \n---  ------                --------------  ----- \n 0   Name                  53 non-null     object\n 1   ID                    53 non-null     object\n 2   Followers             53 non-null     int64 \n 3   Genres                53 non-null     object\n 4   Popularity            53 non-null     int64 \n 5   Spotify URL           53 non-null     object\n 6   Image URL             53 non-null     object\n 7   Top Tracks            53 non-null     object\n 8   Top Track Popularity  53 non-null     object\n 9   Related Artists       53 non-null     object\n 10  Album Release Dates   53 non-null     object\n 11  Danceability          53 non-null     object\n 12  Energy                53 non-null     object\n 13  Tempo                 53 non-null     object\ndtypes: int64(2), object(12)\nmemory usage: 5.9+ KB\n"
     ]
    }
   ],
   "source": [
    "# Assuming df is a Spark DataFrame\n",
    "df.info()"
   ]
  },
  {
   "cell_type": "code",
   "execution_count": 0,
   "metadata": {
    "application/vnd.databricks.v1+cell": {
     "cellMetadata": {
      "byteLimit": 2048000,
      "rowLimit": 10000
     },
     "inputWidgets": {},
     "nuid": "8c436955-6eb5-4e40-9d55-b7222e946004",
     "showTitle": false,
     "tableResultSettingsMap": {},
     "title": ""
    }
   },
   "outputs": [],
   "source": [
    "# Assuming df is a Pandas DataFrame, convert it to a PySpark DataFrame first\n",
    "spark_df = spark.createDataFrame(df)\n",
    "\n",
    "# Now create or replace the temporary view\n",
    "spark_df.createOrReplaceTempView(\"artist_performance_data\")"
   ]
  },
  {
   "cell_type": "code",
   "execution_count": 0,
   "metadata": {
    "application/vnd.databricks.v1+cell": {
     "cellMetadata": {
      "byteLimit": 2048000,
      "rowLimit": 10000
     },
     "inputWidgets": {},
     "nuid": "1deab567-821e-4570-883a-0836831cb687",
     "showTitle": true,
     "tableResultSettingsMap": {},
     "title": "Top 10 Artist by Followers"
    }
   },
   "outputs": [
    {
     "output_type": "display_data",
     "data": {
      "text/html": [
       "<style scoped>\n",
       "  .table-result-container {\n",
       "    max-height: 300px;\n",
       "    overflow: auto;\n",
       "  }\n",
       "  table, th, td {\n",
       "    border: 1px solid black;\n",
       "    border-collapse: collapse;\n",
       "  }\n",
       "  th, td {\n",
       "    padding: 5px;\n",
       "  }\n",
       "  th {\n",
       "    text-align: left;\n",
       "  }\n",
       "</style><div class='table-result-container'><table class='table-result'><thead style='background-color: white'><tr><th>Name</th><th>Followers</th></tr></thead><tbody><tr><td>Arijit Singh</td><td>133168035</td></tr><tr><td>Taylor Swift</td><td>129785206</td></tr><tr><td>Ed Sheeran</td><td>118303036</td></tr><tr><td>Billie Eilish</td><td>105041600</td></tr><tr><td>Ariana Grande</td><td>102593265</td></tr><tr><td>The Weeknd</td><td>97412415</td></tr><tr><td>Eminem</td><td>95619328</td></tr><tr><td>Drake</td><td>94924678</td></tr><tr><td>Justin Bieber</td><td>79912279</td></tr><tr><td>BTS</td><td>77343777</td></tr></tbody></table></div>"
      ]
     },
     "metadata": {
      "application/vnd.databricks.v1+output": {
       "addedWidgets": {},
       "aggData": [],
       "aggError": "",
       "aggOverflow": false,
       "aggSchema": [],
       "aggSeriesLimitReached": false,
       "aggType": "",
       "arguments": {},
       "columnCustomDisplayInfos": {},
       "data": [
        [
         "Arijit Singh",
         133168035
        ],
        [
         "Taylor Swift",
         129785206
        ],
        [
         "Ed Sheeran",
         118303036
        ],
        [
         "Billie Eilish",
         105041600
        ],
        [
         "Ariana Grande",
         102593265
        ],
        [
         "The Weeknd",
         97412415
        ],
        [
         "Eminem",
         95619328
        ],
        [
         "Drake",
         94924678
        ],
        [
         "Justin Bieber",
         79912279
        ],
        [
         "BTS",
         77343777
        ]
       ],
       "datasetInfos": [],
       "dbfsResultPath": null,
       "isJsonSchema": true,
       "metadata": {},
       "overflow": false,
       "plotOptions": {
        "customPlotOptions": {},
        "displayType": "table",
        "pivotAggregation": null,
        "pivotColumns": null,
        "xColumns": null,
        "yColumns": null
       },
       "removedWidgets": [],
       "schema": [
        {
         "metadata": "{}",
         "name": "Name",
         "type": "\"string\""
        },
        {
         "metadata": "{}",
         "name": "Followers",
         "type": "\"long\""
        }
       ],
       "type": "table"
      }
     },
     "output_type": "display_data"
    },
    {
     "output_type": "display_data",
     "data": {
      "text/plain": [
       "Databricks visualization. Run in Databricks to view."
      ]
     },
     "metadata": {
      "application/vnd.databricks.v1.subcommand+json": {
       "baseErrorDetails": null,
       "bindings": {},
       "collapsed": false,
       "command": "%python\n__backend_agg_display_orig = display\n__backend_agg_dfs = []\ndef __backend_agg_display_new(df):\n    __backend_agg_df_modules = [\"pandas.core.frame\", \"databricks.koalas.frame\", \"pyspark.sql.dataframe\", \"pyspark.pandas.frame\", \"pyspark.sql.connect.dataframe\"]\n    if (type(df).__module__ in __backend_agg_df_modules and type(df).__name__ == 'DataFrame') or isinstance(df, list):\n        __backend_agg_dfs.append(df)\n\ndisplay = __backend_agg_display_new\n\ndef __backend_agg_user_code_fn():\n    import base64\n    exec(base64.standard_b64decode(\"IyBUb3AgMTAgYXJ0aXN0cyBieSBudW1iZXIgb2YgZm9sbG93ZXJzCnRvcF9mb2xsb3dlZF9hcnRpc3RzID0gc3BhcmtfZGYuc2VsZWN0KCdOYW1lJywgJ0ZvbGxvd2VycycpLm9yZGVyQnkoJ0ZvbGxvd2VycycsIGFzY2VuZGluZz1GYWxzZSkubGltaXQoMTApCgpkaXNwbGF5KHRvcF9mb2xsb3dlZF9hcnRpc3RzKQ==\").decode())\n\ntry:\n    # run user code\n    __backend_agg_user_code_fn()\n\n    #reset display function\n    display = __backend_agg_display_orig\n\n    if len(__backend_agg_dfs) > 0:\n        # create a temp view\n        if type(__backend_agg_dfs[0]).__module__ == \"databricks.koalas.frame\":\n            # koalas dataframe\n            __backend_agg_dfs[0].to_spark().createOrReplaceTempView(\"DatabricksView6f32eda\")\n        elif type(__backend_agg_dfs[0]).__module__ == \"pandas.core.frame\" or isinstance(__backend_agg_dfs[0], list):\n            # pandas dataframe\n            spark.createDataFrame(__backend_agg_dfs[0]).createOrReplaceTempView(\"DatabricksView6f32eda\")\n        else:\n            __backend_agg_dfs[0].createOrReplaceTempView(\"DatabricksView6f32eda\")\n        #run backend agg\n        display(spark.sql(\"\"\"WITH q AS (select * from DatabricksView6f32eda) SELECT `Name`,SUM(`Followers`) `column_36161e6313`,`Name` FROM q GROUP BY `Name`\"\"\"))\n    else:\n        displayHTML(\"dataframe no longer exists. If you're using dataframe.display(), use display(dataframe) instead.\")\n\n\nfinally:\n    spark.sql(\"drop view if exists DatabricksView6f32eda\")\n    display = __backend_agg_display_orig\n    del __backend_agg_display_new\n    del __backend_agg_display_orig\n    del __backend_agg_dfs\n    del __backend_agg_user_code_fn\n\n",
       "commandTitle": "Top 10 Artists by Followers",
       "commandType": "auto",
       "commandVersion": 0,
       "commentThread": [],
       "commentsVisible": false,
       "contentSha256Hex": null,
       "customPlotOptions": {
        "redashChart": [
         {
          "key": "type",
          "value": "CHART"
         },
         {
          "key": "options",
          "value": {
           "alignYAxesAtZero": true,
           "coefficient": 1,
           "columnConfigurationMap": {
            "series": {
             "column": "Name",
             "id": "column_36161e6316"
            },
            "x": {
             "column": "Name",
             "id": "column_36161e6312"
            },
            "y": [
             {
              "column": "Followers",
              "id": "column_36161e6313",
              "transform": "SUM"
             }
            ]
           },
           "dateTimeFormat": "DD/MM/YYYY HH:mm",
           "direction": {
            "type": "counterclockwise"
           },
           "error_y": {
            "type": "data",
            "visible": true
           },
           "globalSeriesType": "column",
           "hideXAxis": false,
           "isAggregationOn": true,
           "legend": {
            "traceorder": "normal"
           },
           "missingValuesAsZero": true,
           "numberFormat": "0,0.[00000]",
           "percentFormat": "0[.]00%",
           "series": {
            "error_y": {
             "type": "data",
             "visible": true
            },
            "stacking": null
           },
           "seriesOptions": {
            "Ariana Grande": {
             "zIndex": 4
            },
            "Arijit Singh": {
             "zIndex": 0
            },
            "BTS": {
             "zIndex": 9
            },
            "Billie Eilish": {
             "zIndex": 3
            },
            "Drake": {
             "zIndex": 7
            },
            "Ed Sheeran": {
             "zIndex": 2
            },
            "Eminem": {
             "zIndex": 6
            },
            "Justin Bieber": {
             "zIndex": 8
            },
            "Taylor Swift": {
             "zIndex": 1
            },
            "The Weeknd": {
             "zIndex": 5
            },
            "column_36161e6313": {
             "name": "Followers",
             "yAxis": 0
            }
           },
           "showDataLabels": false,
           "sizemode": "diameter",
           "sortX": false,
           "sortY": true,
           "swappedAxes": false,
           "textFormat": "",
           "useAggregationsUi": true,
           "valuesOptions": {},
           "version": 2,
           "xAxis": {
            "labels": {
             "enabled": true
            },
            "title": {
             "text": "Artists"
            },
            "type": "-"
           },
           "yAxis": [
            {
             "title": {
              "text": "Followers"
             },
             "type": "-"
            },
            {
             "opposite": true,
             "type": "-"
            }
           ]
          }
         }
        ]
       },
       "datasetPreviewNameToCmdIdMap": {},
       "diffDeletes": [],
       "diffInserts": [],
       "displayType": "redashChart",
       "error": null,
       "errorDetails": null,
       "errorSummary": null,
       "errorTraceType": null,
       "finishTime": 0,
       "globalVars": {},
       "guid": "",
       "height": "auto",
       "hideCommandCode": false,
       "hideCommandResult": false,
       "iPythonMetadata": null,
       "inputWidgets": {},
       "isLockedInExamMode": false,
       "latestUser": "a user",
       "latestUserId": null,
       "listResultMetadata": null,
       "metadata": {
        "byteLimit": 2048000,
        "rowLimit": 10000
       },
       "nuid": "6a8e0c73-c190-4abc-8087-f7ad779b3e82",
       "origId": 0,
       "parentHierarchy": [],
       "pivotAggregation": null,
       "pivotColumns": null,
       "position": 6.5,
       "resultDbfsErrorMessage": null,
       "resultDbfsStatus": "INLINED_IN_TREE",
       "results": null,
       "showCommandTitle": false,
       "startTime": 0,
       "state": "finished",
       "streamStates": {},
       "subcommandOptions": {
        "queryPlan": {
         "groups": [
          {
           "column": "Name",
           "type": "column"
          },
          {
           "column": "Name",
           "type": "column"
          }
         ],
         "selects": [
          {
           "column": "Name",
           "type": "column"
          },
          {
           "alias": "column_36161e6313",
           "args": [
            {
             "column": "Followers",
             "type": "column"
            }
           ],
           "function": "SUM",
           "type": "function"
          },
          {
           "column": "Name",
           "type": "column"
          }
         ]
        }
       },
       "submitTime": 0,
       "subtype": "tableResultSubCmd.visualization",
       "tableResultIndex": 0,
       "tableResultSettingsMap": {},
       "useConsistentColors": false,
       "version": "CommandV1",
       "width": "auto",
       "workflows": [],
       "xColumns": null,
       "yColumns": null
      }
     },
     "output_type": "display_data"
    }
   ],
   "source": [
    "# Top 10 artists by number of followers\n",
    "top_followed_artists = spark_df.select('Name', 'Followers').orderBy('Followers', ascending=False).limit(10)\n",
    "\n",
    "display(top_followed_artists)"
   ]
  },
  {
   "cell_type": "code",
   "execution_count": 0,
   "metadata": {
    "application/vnd.databricks.v1+cell": {
     "cellMetadata": {
      "byteLimit": 2048000,
      "rowLimit": 10000
     },
     "inputWidgets": {},
     "nuid": "ff505352-380c-4506-9cc1-78a44936037e",
     "showTitle": true,
     "tableResultSettingsMap": {},
     "title": "Top 5 Artist by Popularity"
    }
   },
   "outputs": [
    {
     "output_type": "display_data",
     "data": {
      "text/html": [
       "<style scoped>\n",
       "  .table-result-container {\n",
       "    max-height: 300px;\n",
       "    overflow: auto;\n",
       "  }\n",
       "  table, th, td {\n",
       "    border: 1px solid black;\n",
       "    border-collapse: collapse;\n",
       "  }\n",
       "  th, td {\n",
       "    padding: 5px;\n",
       "  }\n",
       "  th {\n",
       "    text-align: left;\n",
       "  }\n",
       "</style><div class='table-result-container'><table class='table-result'><thead style='background-color: white'><tr><th>Name</th><th>Popularity</th></tr></thead><tbody><tr><td>Taylor Swift</td><td>100</td></tr><tr><td>Bruno Mars</td><td>97</td></tr><tr><td>The Weeknd</td><td>97</td></tr><tr><td>Drake</td><td>97</td></tr><tr><td>Kendrick Lamar</td><td>97</td></tr></tbody></table></div>"
      ]
     },
     "metadata": {
      "application/vnd.databricks.v1+output": {
       "addedWidgets": {},
       "aggData": [],
       "aggError": "",
       "aggOverflow": false,
       "aggSchema": [],
       "aggSeriesLimitReached": false,
       "aggType": "",
       "arguments": {},
       "columnCustomDisplayInfos": {},
       "data": [
        [
         "Taylor Swift",
         100
        ],
        [
         "Bruno Mars",
         97
        ],
        [
         "The Weeknd",
         97
        ],
        [
         "Drake",
         97
        ],
        [
         "Kendrick Lamar",
         97
        ]
       ],
       "datasetInfos": [],
       "dbfsResultPath": null,
       "isJsonSchema": true,
       "metadata": {},
       "overflow": false,
       "plotOptions": {
        "customPlotOptions": {},
        "displayType": "table",
        "pivotAggregation": null,
        "pivotColumns": null,
        "xColumns": null,
        "yColumns": null
       },
       "removedWidgets": [],
       "schema": [
        {
         "metadata": "{}",
         "name": "Name",
         "type": "\"string\""
        },
        {
         "metadata": "{}",
         "name": "Popularity",
         "type": "\"long\""
        }
       ],
       "type": "table"
      }
     },
     "output_type": "display_data"
    },
    {
     "output_type": "display_data",
     "data": {
      "text/plain": [
       "Databricks visualization. Run in Databricks to view."
      ]
     },
     "metadata": {
      "application/vnd.databricks.v1.subcommand+json": {
       "baseErrorDetails": null,
       "bindings": {},
       "collapsed": false,
       "command": "%python\n__backend_agg_display_orig = display\n__backend_agg_dfs = []\ndef __backend_agg_display_new(df):\n    __backend_agg_df_modules = [\"pandas.core.frame\", \"databricks.koalas.frame\", \"pyspark.sql.dataframe\", \"pyspark.pandas.frame\", \"pyspark.sql.connect.dataframe\"]\n    if (type(df).__module__ in __backend_agg_df_modules and type(df).__name__ == 'DataFrame') or isinstance(df, list):\n        __backend_agg_dfs.append(df)\n\ndisplay = __backend_agg_display_new\n\ndef __backend_agg_user_code_fn():\n    import base64\n    exec(base64.standard_b64decode(\"IyBUb3AgNSBhcnRpc3RzIGJ5IHBvcHVsYXJpdHkKdG9wX2FydGlzdHMgPSBkZltbJ05hbWUnLCAnUG9wdWxhcml0eSddXS5zb3J0X3ZhbHVlcyhieT0nUG9wdWxhcml0eScsIGFzY2VuZGluZz1GYWxzZSkuaGVhZCg1KQoKZGlzcGxheSh0b3BfYXJ0aXN0cyk=\").decode())\n\ntry:\n    # run user code\n    __backend_agg_user_code_fn()\n\n    #reset display function\n    display = __backend_agg_display_orig\n\n    if len(__backend_agg_dfs) > 0:\n        # create a temp view\n        if type(__backend_agg_dfs[0]).__module__ == \"databricks.koalas.frame\":\n            # koalas dataframe\n            __backend_agg_dfs[0].to_spark().createOrReplaceTempView(\"DatabricksView311a521\")\n        elif type(__backend_agg_dfs[0]).__module__ == \"pandas.core.frame\" or isinstance(__backend_agg_dfs[0], list):\n            # pandas dataframe\n            spark.createDataFrame(__backend_agg_dfs[0]).createOrReplaceTempView(\"DatabricksView311a521\")\n        else:\n            __backend_agg_dfs[0].createOrReplaceTempView(\"DatabricksView311a521\")\n        #run backend agg\n        display(spark.sql(\"\"\"WITH q AS (select * from DatabricksView311a521) SELECT `Name`,SUM(`Popularity`) `column_36161e639`,`Name` FROM q GROUP BY `Name`\"\"\"))\n    else:\n        displayHTML(\"dataframe no longer exists. If you're using dataframe.display(), use display(dataframe) instead.\")\n\n\nfinally:\n    spark.sql(\"drop view if exists DatabricksView311a521\")\n    display = __backend_agg_display_orig\n    del __backend_agg_display_new\n    del __backend_agg_display_orig\n    del __backend_agg_dfs\n    del __backend_agg_user_code_fn\n\n",
       "commandTitle": "Top 5 Popular Artists",
       "commandType": "auto",
       "commandVersion": 0,
       "commentThread": [],
       "commentsVisible": false,
       "contentSha256Hex": null,
       "customPlotOptions": {
        "redashChart": [
         {
          "key": "type",
          "value": "CHART"
         },
         {
          "key": "options",
          "value": {
           "alignYAxesAtZero": true,
           "coefficient": 1,
           "columnConfigurationMap": {
            "series": {
             "column": "Name",
             "id": "column_36161e6311"
            },
            "x": {
             "column": "Name",
             "id": "column_36161e638"
            },
            "y": [
             {
              "column": "Popularity",
              "id": "column_36161e639",
              "transform": "SUM"
             }
            ]
           },
           "dateTimeFormat": "DD/MM/YYYY HH:mm",
           "direction": {
            "type": "counterclockwise"
           },
           "error_y": {
            "type": "data",
            "visible": true
           },
           "globalSeriesType": "column",
           "isAggregationOn": true,
           "legend": {
            "traceorder": "normal"
           },
           "missingValuesAsZero": true,
           "numberFormat": "0,0.[00000]",
           "percentFormat": "0[.]00%",
           "series": {
            "error_y": {
             "type": "data",
             "visible": true
            },
            "stacking": null
           },
           "seriesOptions": {
            "Billie Eilish": {
             "zIndex": 3
            },
            "Drake": {
             "zIndex": 2
            },
            "Kendrick Lamar": {
             "zIndex": 1
            },
            "Taylor Swift": {
             "color": "#FCA4A1",
             "yAxis": 0,
             "zIndex": 0
            },
            "The Weeknd": {
             "zIndex": 4
            },
            "column_36161e639": {
             "name": "Popularity",
             "yAxis": 0
            }
           },
           "showDataLabels": false,
           "sizemode": "diameter",
           "sortX": false,
           "sortY": true,
           "swappedAxes": false,
           "textFormat": "",
           "useAggregationsUi": true,
           "valuesOptions": {},
           "version": 2,
           "xAxis": {
            "labels": {
             "enabled": true
            },
            "type": "-"
           },
           "yAxis": [
            {
             "title": {
              "text": "Popularity"
             },
             "type": "-"
            },
            {
             "opposite": true,
             "title": {
              "text": null
             },
             "type": "-"
            }
           ]
          }
         }
        ]
       },
       "datasetPreviewNameToCmdIdMap": {},
       "diffDeletes": [],
       "diffInserts": [],
       "displayType": "redashChart",
       "error": null,
       "errorDetails": null,
       "errorSummary": null,
       "errorTraceType": null,
       "finishTime": 0,
       "globalVars": {},
       "guid": "",
       "height": "auto",
       "hideCommandCode": false,
       "hideCommandResult": false,
       "iPythonMetadata": null,
       "inputWidgets": {},
       "isLockedInExamMode": false,
       "latestUser": "a user",
       "latestUserId": null,
       "listResultMetadata": null,
       "metadata": {
        "byteLimit": 2048000,
        "rowLimit": 10000
       },
       "nuid": "be55fe76-97c3-4414-8091-defc4922bf3d",
       "origId": 0,
       "parentHierarchy": [],
       "pivotAggregation": null,
       "pivotColumns": null,
       "position": 6.0,
       "resultDbfsErrorMessage": null,
       "resultDbfsStatus": "INLINED_IN_TREE",
       "results": null,
       "showCommandTitle": false,
       "startTime": 0,
       "state": "finished",
       "streamStates": {},
       "subcommandOptions": {
        "queryPlan": {
         "groups": [
          {
           "column": "Name",
           "type": "column"
          },
          {
           "column": "Name",
           "type": "column"
          }
         ],
         "selects": [
          {
           "column": "Name",
           "type": "column"
          },
          {
           "alias": "column_36161e639",
           "args": [
            {
             "column": "Popularity",
             "type": "column"
            }
           ],
           "function": "SUM",
           "type": "function"
          },
          {
           "column": "Name",
           "type": "column"
          }
         ]
        }
       },
       "submitTime": 0,
       "subtype": "tableResultSubCmd.visualization",
       "tableResultIndex": 0,
       "tableResultSettingsMap": {},
       "useConsistentColors": false,
       "version": "CommandV1",
       "width": "auto",
       "workflows": [],
       "xColumns": null,
       "yColumns": null
      }
     },
     "output_type": "display_data"
    }
   ],
   "source": [
    "# Top 5 artists by popularity\n",
    "top_artists = df[['Name', 'Popularity']].sort_values(by='Popularity', ascending=False).head(5)\n",
    "\n",
    "display(top_artists)"
   ]
  },
  {
   "cell_type": "code",
   "execution_count": 0,
   "metadata": {
    "application/vnd.databricks.v1+cell": {
     "cellMetadata": {
      "byteLimit": 2048000,
      "rowLimit": 10000
     },
     "inputWidgets": {},
     "nuid": "60a29f0e-1091-40d0-88ca-42cb51828e38",
     "showTitle": true,
     "tableResultSettingsMap": {},
     "title": "Least 5 by Popular Artists"
    }
   },
   "outputs": [
    {
     "output_type": "display_data",
     "data": {
      "text/html": [
       "<style scoped>\n",
       "  .table-result-container {\n",
       "    max-height: 300px;\n",
       "    overflow: auto;\n",
       "  }\n",
       "  table, th, td {\n",
       "    border: 1px solid black;\n",
       "    border-collapse: collapse;\n",
       "  }\n",
       "  th, td {\n",
       "    padding: 5px;\n",
       "  }\n",
       "  th {\n",
       "    text-align: left;\n",
       "  }\n",
       "</style><div class='table-result-container'><table class='table-result'><thead style='background-color: white'><tr><th>Name</th><th>Popularity</th></tr></thead><tbody><tr><td>ZAYN</td><td>79</td></tr><tr><td>Lil Nas X</td><td>76</td></tr><tr><td>Luis Fonsi</td><td>76</td></tr><tr><td>Rita Ora</td><td>73</td></tr><tr><td>Édith Piaf</td><td>63</td></tr></tbody></table></div>"
      ]
     },
     "metadata": {
      "application/vnd.databricks.v1+output": {
       "addedWidgets": {},
       "aggData": [],
       "aggError": "",
       "aggOverflow": false,
       "aggSchema": [],
       "aggSeriesLimitReached": false,
       "aggType": "",
       "arguments": {},
       "columnCustomDisplayInfos": {},
       "data": [
        [
         "ZAYN",
         79
        ],
        [
         "Lil Nas X",
         76
        ],
        [
         "Luis Fonsi",
         76
        ],
        [
         "Rita Ora",
         73
        ],
        [
         "Édith Piaf",
         63
        ]
       ],
       "datasetInfos": [],
       "dbfsResultPath": null,
       "isJsonSchema": true,
       "metadata": {},
       "overflow": false,
       "plotOptions": {
        "customPlotOptions": {},
        "displayType": "table",
        "pivotAggregation": null,
        "pivotColumns": null,
        "xColumns": null,
        "yColumns": null
       },
       "removedWidgets": [],
       "schema": [
        {
         "metadata": "{}",
         "name": "Name",
         "type": "\"string\""
        },
        {
         "metadata": "{}",
         "name": "Popularity",
         "type": "\"long\""
        }
       ],
       "type": "table"
      }
     },
     "output_type": "display_data"
    },
    {
     "output_type": "display_data",
     "data": {
      "text/plain": [
       "Databricks visualization. Run in Databricks to view."
      ]
     },
     "metadata": {
      "application/vnd.databricks.v1.subcommand+json": {
       "baseErrorDetails": null,
       "bindings": {},
       "collapsed": false,
       "command": "%python\n__backend_agg_display_orig = display\n__backend_agg_dfs = []\ndef __backend_agg_display_new(df):\n    __backend_agg_df_modules = [\"pandas.core.frame\", \"databricks.koalas.frame\", \"pyspark.sql.dataframe\", \"pyspark.pandas.frame\", \"pyspark.sql.connect.dataframe\"]\n    if (type(df).__module__ in __backend_agg_df_modules and type(df).__name__ == 'DataFrame') or isinstance(df, list):\n        __backend_agg_dfs.append(df)\n\ndisplay = __backend_agg_display_new\n\ndef __backend_agg_user_code_fn():\n    import base64\n    exec(base64.standard_b64decode(\"IyBTdGVwIDE6IERyb3AgbnVsbCB2YWx1ZXMgZm9yIE5hbWUgYW5kIFBvcHVsYXJpdHkKZGZfY2xlYW4gPSBkZi5kcm9wbmEoc3Vic2V0PVsnTmFtZScsICdQb3B1bGFyaXR5J10pCgojIFN0ZXAgMjogR2V0IHRoZSBib3R0b20gNSBhcnRpc3RzIGJ5IHBvcHVsYXJpdHkgaW4gZGVzY2VuZGluZyBvcmRlcgpib3R0b21fNV9hcnRpc3RzID0gZGZfY2xlYW5bWydOYW1lJywgJ1BvcHVsYXJpdHknXV0uc29ydF92YWx1ZXMoYnk9J1BvcHVsYXJpdHknLCBhc2NlbmRpbmc9VHJ1ZSkuaGVhZCg1KS5zb3J0X3ZhbHVlcyhieT0nUG9wdWxhcml0eScsIGFzY2VuZGluZz1GYWxzZSkKCmRpc3BsYXkoYm90dG9tXzVfYXJ0aXN0cyk=\").decode())\n\ntry:\n    # run user code\n    __backend_agg_user_code_fn()\n\n    #reset display function\n    display = __backend_agg_display_orig\n\n    if len(__backend_agg_dfs) > 0:\n        # create a temp view\n        if type(__backend_agg_dfs[0]).__module__ == \"databricks.koalas.frame\":\n            # koalas dataframe\n            __backend_agg_dfs[0].to_spark().createOrReplaceTempView(\"DatabricksViewd8e4560\")\n        elif type(__backend_agg_dfs[0]).__module__ == \"pandas.core.frame\" or isinstance(__backend_agg_dfs[0], list):\n            # pandas dataframe\n            spark.createDataFrame(__backend_agg_dfs[0]).createOrReplaceTempView(\"DatabricksViewd8e4560\")\n        else:\n            __backend_agg_dfs[0].createOrReplaceTempView(\"DatabricksViewd8e4560\")\n        #run backend agg\n        display(spark.sql(\"\"\"WITH q AS (select * from DatabricksViewd8e4560) SELECT `Name`,SUM(`Popularity`) `column_36161e6318`,`Name` FROM q GROUP BY `Name`\"\"\"))\n    else:\n        displayHTML(\"dataframe no longer exists. If you're using dataframe.display(), use display(dataframe) instead.\")\n\n\nfinally:\n    spark.sql(\"drop view if exists DatabricksViewd8e4560\")\n    display = __backend_agg_display_orig\n    del __backend_agg_display_new\n    del __backend_agg_display_orig\n    del __backend_agg_dfs\n    del __backend_agg_user_code_fn\n\n",
       "commandTitle": "Least 5 Popular Artists",
       "commandType": "auto",
       "commandVersion": 0,
       "commentThread": [],
       "commentsVisible": false,
       "contentSha256Hex": null,
       "customPlotOptions": {
        "redashChart": [
         {
          "key": "type",
          "value": "CHART"
         },
         {
          "key": "options",
          "value": {
           "alignYAxesAtZero": true,
           "coefficient": 1,
           "columnConfigurationMap": {
            "series": {
             "column": "Name",
             "id": "column_36161e6322"
            },
            "x": {
             "column": "Name",
             "id": "column_36161e6317"
            },
            "y": [
             {
              "column": "Popularity",
              "id": "column_36161e6318",
              "transform": "SUM"
             }
            ]
           },
           "dateTimeFormat": "DD/MM/YYYY HH:mm",
           "direction": {
            "type": "counterclockwise"
           },
           "error_y": {
            "type": "data",
            "visible": true
           },
           "globalSeriesType": "column",
           "isAggregationOn": true,
           "legend": {
            "traceorder": "normal"
           },
           "missingValuesAsZero": true,
           "numberFormat": "0,0.[00000]",
           "percentFormat": "0[.]00%",
           "series": {
            "error_y": {
             "type": "data",
             "visible": true
            },
            "stacking": null
           },
           "seriesOptions": {
            "Lil Nas X": {
             "color": "#AB4057"
            },
            "Luis Fonsi": {
             "color": "#00A993"
            },
            "column_36161e6318": {
             "name": "Popularity",
             "yAxis": 0
            }
           },
           "showDataLabels": false,
           "sizemode": "diameter",
           "sortX": false,
           "sortY": true,
           "swappedAxes": false,
           "textFormat": "",
           "useAggregationsUi": true,
           "valuesOptions": {},
           "version": 2,
           "xAxis": {
            "labels": {
             "enabled": true
            },
            "title": {
             "text": "Artists"
            },
            "type": "-"
           },
           "yAxis": [
            {
             "title": {
              "text": "Popularity"
             },
             "type": "-"
            },
            {
             "opposite": true,
             "type": "-"
            }
           ]
          }
         }
        ]
       },
       "datasetPreviewNameToCmdIdMap": {},
       "diffDeletes": [],
       "diffInserts": [],
       "displayType": "redashChart",
       "error": null,
       "errorDetails": null,
       "errorSummary": null,
       "errorTraceType": null,
       "finishTime": 0,
       "globalVars": {},
       "guid": "",
       "height": "auto",
       "hideCommandCode": false,
       "hideCommandResult": false,
       "iPythonMetadata": null,
       "inputWidgets": {},
       "isLockedInExamMode": false,
       "latestUser": "a user",
       "latestUserId": null,
       "listResultMetadata": null,
       "metadata": {
        "byteLimit": 2048000,
        "rowLimit": 10000
       },
       "nuid": "29d74d39-e7e7-4843-ac90-a22625671ad5",
       "origId": 0,
       "parentHierarchy": [],
       "pivotAggregation": null,
       "pivotColumns": null,
       "position": 6.75,
       "resultDbfsErrorMessage": null,
       "resultDbfsStatus": "INLINED_IN_TREE",
       "results": null,
       "showCommandTitle": false,
       "startTime": 0,
       "state": "finished",
       "streamStates": {},
       "subcommandOptions": {
        "queryPlan": {
         "groups": [
          {
           "column": "Name",
           "type": "column"
          },
          {
           "column": "Name",
           "type": "column"
          }
         ],
         "selects": [
          {
           "column": "Name",
           "type": "column"
          },
          {
           "alias": "column_36161e6318",
           "args": [
            {
             "column": "Popularity",
             "type": "column"
            }
           ],
           "function": "SUM",
           "type": "function"
          },
          {
           "column": "Name",
           "type": "column"
          }
         ]
        }
       },
       "submitTime": 0,
       "subtype": "tableResultSubCmd.visualization",
       "tableResultIndex": 0,
       "tableResultSettingsMap": {},
       "useConsistentColors": false,
       "version": "CommandV1",
       "width": "auto",
       "workflows": [],
       "xColumns": null,
       "yColumns": null
      }
     },
     "output_type": "display_data"
    }
   ],
   "source": [
    "# Step 1: Drop null values for Name and Popularity\n",
    "df_clean = df.dropna(subset=['Name', 'Popularity'])\n",
    "\n",
    "# Step 2: Get the bottom 5 artists by popularity in descending order\n",
    "bottom_5_artists = df_clean[['Name', 'Popularity']].sort_values(by='Popularity', ascending=True).head(5).sort_values(by='Popularity', ascending=False)\n",
    "\n",
    "display(bottom_5_artists)"
   ]
  },
  {
   "cell_type": "code",
   "execution_count": 0,
   "metadata": {
    "application/vnd.databricks.v1+cell": {
     "cellMetadata": {
      "byteLimit": 2048000,
      "rowLimit": 10000
     },
     "inputWidgets": {},
     "nuid": "f6197a88-0682-4dcd-8cb4-b77c1d7832f5",
     "showTitle": true,
     "tableResultSettingsMap": {},
     "title": "Most Common Genre"
    }
   },
   "outputs": [
    {
     "output_type": "display_data",
     "data": {
      "text/html": [
       "<style scoped>\n",
       "  .table-result-container {\n",
       "    max-height: 300px;\n",
       "    overflow: auto;\n",
       "  }\n",
       "  table, th, td {\n",
       "    border: 1px solid black;\n",
       "    border-collapse: collapse;\n",
       "  }\n",
       "  th, td {\n",
       "    padding: 5px;\n",
       "  }\n",
       "  th {\n",
       "    text-align: left;\n",
       "  }\n",
       "</style><div class='table-result-container'><table class='table-result'><thead style='background-color: white'><tr><th>Genre</th><th>Total_Artists</th></tr></thead><tbody><tr><td>pop</td><td>42</td></tr><tr><td>dance pop</td><td>10</td></tr><tr><td>rap</td><td>9</td></tr><tr><td>uk pop</td><td>6</td></tr><tr><td>canadian pop</td><td>5</td></tr></tbody></table></div>"
      ]
     },
     "metadata": {
      "application/vnd.databricks.v1+output": {
       "addedWidgets": {},
       "aggData": [],
       "aggError": "",
       "aggOverflow": false,
       "aggSchema": [],
       "aggSeriesLimitReached": false,
       "aggType": "",
       "arguments": {},
       "columnCustomDisplayInfos": {},
       "data": [
        [
         "pop",
         42
        ],
        [
         "dance pop",
         10
        ],
        [
         "rap",
         9
        ],
        [
         "uk pop",
         6
        ],
        [
         "canadian pop",
         5
        ]
       ],
       "datasetInfos": [],
       "dbfsResultPath": null,
       "isJsonSchema": true,
       "metadata": {},
       "overflow": false,
       "plotOptions": {
        "customPlotOptions": {},
        "displayType": "table",
        "pivotAggregation": null,
        "pivotColumns": null,
        "xColumns": null,
        "yColumns": null
       },
       "removedWidgets": [],
       "schema": [
        {
         "metadata": "{}",
         "name": "Genre",
         "type": "\"string\""
        },
        {
         "metadata": "{}",
         "name": "Total_Artists",
         "type": "\"long\""
        }
       ],
       "type": "table"
      }
     },
     "output_type": "display_data"
    },
    {
     "output_type": "display_data",
     "data": {
      "text/plain": [
       "Databricks visualization. Run in Databricks to view."
      ]
     },
     "metadata": {
      "application/vnd.databricks.v1.subcommand+json": {
       "baseErrorDetails": null,
       "bindings": {},
       "collapsed": false,
       "command": "%python\n__backend_agg_display_orig = display\n__backend_agg_dfs = []\ndef __backend_agg_display_new(df):\n    __backend_agg_df_modules = [\"pandas.core.frame\", \"databricks.koalas.frame\", \"pyspark.sql.dataframe\", \"pyspark.pandas.frame\", \"pyspark.sql.connect.dataframe\"]\n    if (type(df).__module__ in __backend_agg_df_modules and type(df).__name__ == 'DataFrame') or isinstance(df, list):\n        __backend_agg_dfs.append(df)\n\ndisplay = __backend_agg_display_new\n\ndef __backend_agg_user_code_fn():\n    import base64\n    exec(base64.standard_b64decode(\"IyBTdGVwIDE6IERyb3AgbnVsbCB2YWx1ZXMgZm9yIE5hbWUsIFBvcHVsYXJpdHksIGFuZCBHZW5yZXMKZGZfY2xlYW4gPSBkZi5kcm9wbmEoc3Vic2V0PVsnTmFtZScsICdQb3B1bGFyaXR5JywgJ0dlbnJlcyddKQoKIyBTdGVwIDI6IFNwbGl0IGdlbnJlcyBpZiB0aGV5IGFyZSBjb21tYS1zZXBhcmF0ZWQKZGZfY2xlYW5bJ0dlbnJlcyddID0gZGZfY2xlYW5bJ0dlbnJlcyddLnN0ci5zcGxpdCgnLCAnKQoKIyBTdGVwIDM6IEZsYXR0ZW4gdGhlIGdlbnJlIGxpc3QgYW5kIGNvdW50IG9jY3VycmVuY2VzCmFsbF9nZW5yZXMgPSBkZl9jbGVhbi5leHBsb2RlKCdHZW5yZXMnKVsnR2VucmVzJ10udmFsdWVfY291bnRzKCkucmVzZXRfaW5kZXgoKQphbGxfZ2VucmVzLmNvbHVtbnMgPSBbJ0dlbnJlJywgJ1RvdGFsX0FydGlzdHMnXQoKIyBTdGVwIDQ6IFNvcnQgYnkgdGhlIHRvdGFsIG51bWJlciBvZiBhcnRpc3RzIGFuZCBzZWxlY3QgdG9wIDUgZ2VucmVzCnRvcF81X2dlbnJlcyA9IGFsbF9nZW5yZXMuc29ydF92YWx1ZXMoYnk9J1RvdGFsX0FydGlzdHMnLCBhc2NlbmRpbmc9RmFsc2UpLmhlYWQoNSkKCiMgU3RlcCA1OiBEaXNwbGF5IHRoZSB0b3AgZ2VucmVzIGluIGEgdGFibGUgZm9ybWF0CmRpc3BsYXkodG9wXzVfZ2VucmVzKQ==\").decode())\n\ntry:\n    # run user code\n    __backend_agg_user_code_fn()\n\n    #reset display function\n    display = __backend_agg_display_orig\n\n    if len(__backend_agg_dfs) > 0:\n        # create a temp view\n        if type(__backend_agg_dfs[0]).__module__ == \"databricks.koalas.frame\":\n            # koalas dataframe\n            __backend_agg_dfs[0].to_spark().createOrReplaceTempView(\"DatabricksViewb3789b3\")\n        elif type(__backend_agg_dfs[0]).__module__ == \"pandas.core.frame\" or isinstance(__backend_agg_dfs[0], list):\n            # pandas dataframe\n            spark.createDataFrame(__backend_agg_dfs[0]).createOrReplaceTempView(\"DatabricksViewb3789b3\")\n        else:\n            __backend_agg_dfs[0].createOrReplaceTempView(\"DatabricksViewb3789b3\")\n        #run backend agg\n        display(spark.sql(\"\"\"WITH q AS (select * from DatabricksViewb3789b3) SELECT `Genre`,SUM(`Total_Artists`) `column_36161e6325`,`Genre` FROM q GROUP BY `Genre`\"\"\"))\n    else:\n        displayHTML(\"dataframe no longer exists. If you're using dataframe.display(), use display(dataframe) instead.\")\n\n\nfinally:\n    spark.sql(\"drop view if exists DatabricksViewb3789b3\")\n    display = __backend_agg_display_orig\n    del __backend_agg_display_new\n    del __backend_agg_display_orig\n    del __backend_agg_dfs\n    del __backend_agg_user_code_fn\n\n",
       "commandTitle": "Most Common Genre used by Artists",
       "commandType": "auto",
       "commandVersion": 0,
       "commentThread": [],
       "commentsVisible": false,
       "contentSha256Hex": null,
       "customPlotOptions": {
        "redashChart": [
         {
          "key": "type",
          "value": "CHART"
         },
         {
          "key": "options",
          "value": {
           "alignYAxesAtZero": true,
           "coefficient": 1,
           "columnConfigurationMap": {
            "series": {
             "column": "Genre",
             "id": "column_36161e6328"
            },
            "x": {
             "column": "Genre",
             "id": "column_36161e6324"
            },
            "y": [
             {
              "column": "Total_Artists",
              "id": "column_36161e6325",
              "transform": "SUM"
             }
            ]
           },
           "dateTimeFormat": "DD/MM/YYYY HH:mm",
           "direction": {
            "type": "counterclockwise"
           },
           "error_y": {
            "type": "data",
            "visible": true
           },
           "globalSeriesType": "column",
           "isAggregationOn": true,
           "legend": {
            "traceorder": "normal"
           },
           "missingValuesAsZero": true,
           "numberFormat": "0,0.[00000]",
           "percentFormat": "0[.]00%",
           "series": {
            "error_y": {
             "type": "data",
             "visible": true
            },
            "stacking": null
           },
           "seriesOptions": {
            "canadian pop": {
             "color": "#40E0D0",
             "zIndex": 4
            },
            "column_36161e6325": {
             "name": "Total_Artists",
             "yAxis": 0
            },
            "dance pop": {
             "color": "#008000",
             "zIndex": 1
            },
            "pop": {
             "color": "#FCA4A1",
             "zIndex": 0
            },
            "rap": {
             "color": "#FFA500",
             "zIndex": 2
            },
            "uk pop": {
             "zIndex": 3
            }
           },
           "showDataLabels": false,
           "sizemode": "diameter",
           "sortX": false,
           "sortY": true,
           "swappedAxes": false,
           "textFormat": "",
           "useAggregationsUi": true,
           "valuesOptions": {},
           "version": 2,
           "xAxis": {
            "labels": {
             "enabled": true
            },
            "title": {
             "text": "Genre"
            },
            "type": "-"
           },
           "yAxis": [
            {
             "title": {
              "text": "Numebr of Artists"
             },
             "type": "-"
            },
            {
             "opposite": true,
             "type": "-"
            }
           ]
          }
         }
        ]
       },
       "datasetPreviewNameToCmdIdMap": {},
       "diffDeletes": [],
       "diffInserts": [],
       "displayType": "redashChart",
       "error": null,
       "errorDetails": null,
       "errorSummary": null,
       "errorTraceType": null,
       "finishTime": 0,
       "globalVars": {},
       "guid": "",
       "height": "auto",
       "hideCommandCode": false,
       "hideCommandResult": false,
       "iPythonMetadata": null,
       "inputWidgets": {},
       "isLockedInExamMode": false,
       "latestUser": "a user",
       "latestUserId": null,
       "listResultMetadata": null,
       "metadata": {
        "byteLimit": 2048000,
        "rowLimit": 10000
       },
       "nuid": "fa5c5798-3edf-44f1-8d17-e4347658d5ba",
       "origId": 0,
       "parentHierarchy": [],
       "pivotAggregation": null,
       "pivotColumns": null,
       "position": 7.0,
       "resultDbfsErrorMessage": null,
       "resultDbfsStatus": "INLINED_IN_TREE",
       "results": null,
       "showCommandTitle": false,
       "startTime": 0,
       "state": "finished",
       "streamStates": {},
       "subcommandOptions": {
        "queryPlan": {
         "groups": [
          {
           "column": "Genre",
           "type": "column"
          },
          {
           "column": "Genre",
           "type": "column"
          }
         ],
         "selects": [
          {
           "column": "Genre",
           "type": "column"
          },
          {
           "alias": "column_36161e6325",
           "args": [
            {
             "column": "Total_Artists",
             "type": "column"
            }
           ],
           "function": "SUM",
           "type": "function"
          },
          {
           "column": "Genre",
           "type": "column"
          }
         ]
        }
       },
       "submitTime": 0,
       "subtype": "tableResultSubCmd.visualization",
       "tableResultIndex": 0,
       "tableResultSettingsMap": {},
       "useConsistentColors": false,
       "version": "CommandV1",
       "width": "auto",
       "workflows": [],
       "xColumns": null,
       "yColumns": null
      }
     },
     "output_type": "display_data"
    }
   ],
   "source": [
    "# Step 1: Drop null values for Name, Popularity, and Genres\n",
    "df_clean = df.dropna(subset=['Name', 'Popularity', 'Genres'])\n",
    "\n",
    "# Step 2: Split genres if they are comma-separated\n",
    "df_clean['Genres'] = df_clean['Genres'].str.split(', ')\n",
    "\n",
    "# Step 3: Flatten the genre list and count occurrences\n",
    "all_genres = df_clean.explode('Genres')['Genres'].value_counts().reset_index()\n",
    "all_genres.columns = ['Genre', 'Total_Artists']\n",
    "\n",
    "# Step 4: Sort by the total number of artists and select top 5 genres\n",
    "top_5_genres = all_genres.sort_values(by='Total_Artists', ascending=False).head(5)\n",
    "\n",
    "# Step 5: Display the top genres in a table format\n",
    "display(top_5_genres)"
   ]
  },
  {
   "cell_type": "code",
   "execution_count": 0,
   "metadata": {
    "application/vnd.databricks.v1+cell": {
     "cellMetadata": {
      "byteLimit": 2048000,
      "rowLimit": 10000
     },
     "inputWidgets": {},
     "nuid": "54685399-dc9b-49bc-9109-03f799a434e3",
     "showTitle": true,
     "tableResultSettingsMap": {},
     "title": "Popular Tracks by Top 10 Artists"
    }
   },
   "outputs": [
    {
     "output_type": "stream",
     "name": "stderr",
     "output_type": "stream",
     "text": [
      "/root/.ipykernel/1347/command-1890842098016702-415627258:12: SettingWithCopyWarning: \nA value is trying to be set on a copy of a slice from a DataFrame.\nTry using .loc[row_indexer,col_indexer] = value instead\n\nSee the caveats in the documentation: https://pandas.pydata.org/pandas-docs/stable/user_guide/indexing.html#returning-a-view-versus-a-copy\n  top_tracks_data['Top Track'] = top_tracks_data['Top Tracks'].apply(lambda x: x.split(', ')[0] if isinstance(x, str) else x)\n"
     ]
    },
    {
     "output_type": "display_data",
     "data": {
      "text/html": [
       "<style scoped>\n",
       "  .table-result-container {\n",
       "    max-height: 300px;\n",
       "    overflow: auto;\n",
       "  }\n",
       "  table, th, td {\n",
       "    border: 1px solid black;\n",
       "    border-collapse: collapse;\n",
       "  }\n",
       "  th, td {\n",
       "    padding: 5px;\n",
       "  }\n",
       "  th {\n",
       "    text-align: left;\n",
       "  }\n",
       "</style><div class='table-result-container'><table class='table-result'><thead style='background-color: white'><tr><th>Name</th><th>Top Track</th><th>Popularity</th></tr></thead><tbody><tr><td>Taylor Swift</td><td>['Cruel Summer'</td><td>100</td></tr><tr><td>Ariana Grande</td><td>['Santa Tell Me'</td><td>96</td></tr><tr><td>Drake</td><td>['One Dance'</td><td>97</td></tr><tr><td>Billie Eilish</td><td>['BIRDS OF A FEATHER'</td><td>96</td></tr><tr><td>The Weeknd</td><td>['Timeless (with Playboi Carti)'</td><td>97</td></tr><tr><td>Kendrick Lamar</td><td>['luther (with sza)'</td><td>97</td></tr><tr><td>Kanye West</td><td>['Heartless'</td><td>93</td></tr><tr><td>Bruno Mars</td><td>['Die With A Smile'</td><td>97</td></tr><tr><td>Travis Scott</td><td>['FE!N (feat. Playboi Carti)'</td><td>94</td></tr><tr><td>Eminem</td><td>['Without Me'</td><td>93</td></tr></tbody></table></div>"
      ]
     },
     "metadata": {
      "application/vnd.databricks.v1+output": {
       "addedWidgets": {},
       "aggData": [],
       "aggError": "",
       "aggOverflow": false,
       "aggSchema": [],
       "aggSeriesLimitReached": false,
       "aggType": "",
       "arguments": {},
       "columnCustomDisplayInfos": {},
       "data": [
        [
         "Taylor Swift",
         "['Cruel Summer'",
         100
        ],
        [
         "Ariana Grande",
         "['Santa Tell Me'",
         96
        ],
        [
         "Drake",
         "['One Dance'",
         97
        ],
        [
         "Billie Eilish",
         "['BIRDS OF A FEATHER'",
         96
        ],
        [
         "The Weeknd",
         "['Timeless (with Playboi Carti)'",
         97
        ],
        [
         "Kendrick Lamar",
         "['luther (with sza)'",
         97
        ],
        [
         "Kanye West",
         "['Heartless'",
         93
        ],
        [
         "Bruno Mars",
         "['Die With A Smile'",
         97
        ],
        [
         "Travis Scott",
         "['FE!N (feat. Playboi Carti)'",
         94
        ],
        [
         "Eminem",
         "['Without Me'",
         93
        ]
       ],
       "datasetInfos": [],
       "dbfsResultPath": null,
       "isJsonSchema": true,
       "metadata": {},
       "overflow": false,
       "plotOptions": {
        "customPlotOptions": {},
        "displayType": "table",
        "pivotAggregation": null,
        "pivotColumns": null,
        "xColumns": null,
        "yColumns": null
       },
       "removedWidgets": [],
       "schema": [
        {
         "metadata": "{}",
         "name": "Name",
         "type": "\"string\""
        },
        {
         "metadata": "{}",
         "name": "Top Track",
         "type": "\"string\""
        },
        {
         "metadata": "{}",
         "name": "Popularity",
         "type": "\"long\""
        }
       ],
       "type": "table"
      }
     },
     "output_type": "display_data"
    },
    {
     "output_type": "display_data",
     "data": {
      "text/plain": [
       "Databricks visualization. Run in Databricks to view."
      ]
     },
     "metadata": {
      "application/vnd.databricks.v1.subcommand+json": {
       "baseErrorDetails": null,
       "bindings": {},
       "collapsed": false,
       "command": "%python\n__backend_agg_display_orig = display\n__backend_agg_dfs = []\ndef __backend_agg_display_new(df):\n    __backend_agg_df_modules = [\"pandas.core.frame\", \"databricks.koalas.frame\", \"pyspark.sql.dataframe\", \"pyspark.pandas.frame\", \"pyspark.sql.connect.dataframe\"]\n    if (type(df).__module__ in __backend_agg_df_modules and type(df).__name__ == 'DataFrame') or isinstance(df, list):\n        __backend_agg_dfs.append(df)\n\ndisplay = __backend_agg_display_new\n\ndef __backend_agg_user_code_fn():\n    import base64\n    exec(base64.standard_b64decode(\"IyBTdGVwIDE6IERyb3AgbnVsbCB2YWx1ZXMgZm9yIE5hbWUsIFBvcHVsYXJpdHksIGFuZCBUb3AgVHJhY2tzCmRmX2NsZWFuID0gZGYuZHJvcG5hKHN1YnNldD1bJ05hbWUnLCAnUG9wdWxhcml0eScsICdUb3AgVHJhY2tzJ10pCgojIFN0ZXAgMjogR2V0IHRoZSB0b3AgMTAgYXJ0aXN0cyBieSBwb3B1bGFyaXR5CnRvcF8xMF9hcnRpc3RzID0gZGZfY2xlYW5bWydOYW1lJywgJ1BvcHVsYXJpdHknXV0uc29ydF92YWx1ZXMoYnk9J1BvcHVsYXJpdHknLCBhc2NlbmRpbmc9RmFsc2UpLmhlYWQoMTApCnRvcF8xMF9hcnRpc3RfbmFtZXMgPSB0b3BfMTBfYXJ0aXN0c1snTmFtZSddLnRvbGlzdCgpCgojIFN0ZXAgMzogRmlsdGVyIHRoZSBkYXRhc2V0IGZvciB0aGVzZSB0b3AgMTAgYXJ0aXN0cwp0b3BfdHJhY2tzX2RhdGEgPSBkZl9jbGVhbltkZl9jbGVhblsnTmFtZSddLmlzaW4odG9wXzEwX2FydGlzdF9uYW1lcyldCgojIFN0ZXAgNDogRXh0cmFjdCBvbmUgdG9wIHRyYWNrIHBlciBhcnRpc3QgKGFzc3VtaW5nICJUb3AgVHJhY2tzIiBjb250YWlucyBhIGxpc3Qgb3IgYSBjb21tYS1zZXBhcmF0ZWQgc3RyaW5nKQp0b3BfdHJhY2tzX2RhdGFbJ1RvcCBUcmFjayddID0gdG9wX3RyYWNrc19kYXRhWydUb3AgVHJhY2tzJ10uYXBwbHkobGFtYmRhIHg6IHguc3BsaXQoJywgJylbMF0gaWYgaXNpbnN0YW5jZSh4LCBzdHIpIGVsc2UgeCkKCiMgU3RlcCA1OiBTZWxlY3Qgb25seSByZXF1aXJlZCBjb2x1bW5zIChOYW1lLCBUb3AgVHJhY2ssIFBvcHVsYXJpdHkpCnRvcF90cmFja3MgPSB0b3BfdHJhY2tzX2RhdGFbWydOYW1lJywgJ1RvcCBUcmFjaycsICdQb3B1bGFyaXR5J11dLmRyb3BfZHVwbGljYXRlcyhzdWJzZXQ9WydOYW1lJ10pCgojIERpc3BsYXkgdGhlIHRvcCB0cmFja3MgZm9yIHRvcCAxMCBhcnRpc3RzCmRpc3BsYXkodG9wX3RyYWNrcyk=\").decode())\n\ntry:\n    # run user code\n    __backend_agg_user_code_fn()\n\n    #reset display function\n    display = __backend_agg_display_orig\n\n    if len(__backend_agg_dfs) > 0:\n        # create a temp view\n        if type(__backend_agg_dfs[0]).__module__ == \"databricks.koalas.frame\":\n            # koalas dataframe\n            __backend_agg_dfs[0].to_spark().createOrReplaceTempView(\"DatabricksViewa9a535f\")\n        elif type(__backend_agg_dfs[0]).__module__ == \"pandas.core.frame\" or isinstance(__backend_agg_dfs[0], list):\n            # pandas dataframe\n            spark.createDataFrame(__backend_agg_dfs[0]).createOrReplaceTempView(\"DatabricksViewa9a535f\")\n        else:\n            __backend_agg_dfs[0].createOrReplaceTempView(\"DatabricksViewa9a535f\")\n        #run backend agg\n        display(spark.sql(\"\"\"WITH q AS (select * from DatabricksViewa9a535f) SELECT `Name`,`Top Track`,SUM(`Popularity`) `column_36161e6353` FROM q GROUP BY `Name`,`Top Track`\"\"\"))\n    else:\n        displayHTML(\"dataframe no longer exists. If you're using dataframe.display(), use display(dataframe) instead.\")\n\n\nfinally:\n    spark.sql(\"drop view if exists DatabricksViewa9a535f\")\n    display = __backend_agg_display_orig\n    del __backend_agg_display_new\n    del __backend_agg_display_orig\n    del __backend_agg_dfs\n    del __backend_agg_user_code_fn\n\n",
       "commandTitle": "Popular Tracks by Top 10 Artists",
       "commandType": "auto",
       "commandVersion": 0,
       "commentThread": [],
       "commentsVisible": false,
       "contentSha256Hex": null,
       "customPlotOptions": {
        "redashChart": [
         {
          "key": "type",
          "value": "CHART"
         },
         {
          "key": "options",
          "value": {
           "alignYAxesAtZero": true,
           "coefficient": 1,
           "columnConfigurationMap": {
            "series": {
             "column": "Top Track",
             "id": "column_36161e6352"
            },
            "x": {
             "column": "Name",
             "id": "column_36161e6351"
            },
            "y": [
             {
              "column": "Popularity",
              "id": "column_36161e6353",
              "transform": "SUM"
             }
            ]
           },
           "dateTimeFormat": "DD/MM/YYYY HH:mm",
           "direction": {
            "type": "counterclockwise"
           },
           "error_y": {
            "type": "data",
            "visible": true
           },
           "globalSeriesType": "column",
           "isAggregationOn": true,
           "legend": {
            "traceorder": "normal"
           },
           "missingValuesAsZero": true,
           "numberFormat": "0,0.[00000]",
           "percentFormat": "0[.]00%",
           "series": {
            "error_y": {
             "type": "data",
             "visible": true
            },
            "stacking": "stack"
           },
           "seriesOptions": {
            "['BIRDS OF A FEATHER'": {
             "zIndex": 3
            },
            "['Cruel Summer'": {
             "zIndex": 0
            },
            "['Die With A Smile'": {
             "zIndex": 7
            },
            "['FE!N (feat. Playboi Carti)'": {
             "zIndex": 8
            },
            "['Heartless'": {
             "zIndex": 6
            },
            "['One Dance'": {
             "zIndex": 2
            },
            "['Santa Tell Me'": {
             "zIndex": 1
            },
            "['Timeless (with Playboi Carti)'": {
             "zIndex": 4
            },
            "['Without Me'": {
             "zIndex": 9
            },
            "['luther (with sza)'": {
             "zIndex": 5
            },
            "column_36161e6353": {
             "name": "Popularity",
             "yAxis": 0
            }
           },
           "showDataLabels": false,
           "sizemode": "diameter",
           "sortX": false,
           "sortY": true,
           "swappedAxes": false,
           "textFormat": "",
           "useAggregationsUi": true,
           "valuesOptions": {},
           "version": 2,
           "xAxis": {
            "labels": {
             "enabled": true
            },
            "title": {
             "text": "Artists"
            },
            "type": "-"
           },
           "yAxis": [
            {
             "title": {
              "text": "Popularity"
             },
             "type": "-"
            },
            {
             "opposite": true,
             "type": "-"
            }
           ]
          }
         }
        ]
       },
       "datasetPreviewNameToCmdIdMap": {},
       "diffDeletes": [],
       "diffInserts": [],
       "displayType": "redashChart",
       "error": null,
       "errorDetails": null,
       "errorSummary": null,
       "errorTraceType": null,
       "finishTime": 0,
       "globalVars": {},
       "guid": "",
       "height": "auto",
       "hideCommandCode": false,
       "hideCommandResult": false,
       "iPythonMetadata": null,
       "inputWidgets": {},
       "isLockedInExamMode": false,
       "latestUser": "a user",
       "latestUserId": null,
       "listResultMetadata": null,
       "metadata": {
        "byteLimit": 2048000,
        "rowLimit": 10000
       },
       "nuid": "7598db36-4a1c-4945-9940-45d64fe315fb",
       "origId": 0,
       "parentHierarchy": [],
       "pivotAggregation": null,
       "pivotColumns": null,
       "position": 9.0,
       "resultDbfsErrorMessage": null,
       "resultDbfsStatus": "INLINED_IN_TREE",
       "results": null,
       "showCommandTitle": false,
       "startTime": 0,
       "state": "finished",
       "streamStates": {},
       "subcommandOptions": {
        "queryPlan": {
         "groups": [
          {
           "column": "Name",
           "type": "column"
          },
          {
           "column": "Top Track",
           "type": "column"
          }
         ],
         "selects": [
          {
           "column": "Name",
           "type": "column"
          },
          {
           "column": "Top Track",
           "type": "column"
          },
          {
           "alias": "column_36161e6353",
           "args": [
            {
             "column": "Popularity",
             "type": "column"
            }
           ],
           "function": "SUM",
           "type": "function"
          }
         ]
        }
       },
       "submitTime": 0,
       "subtype": "tableResultSubCmd.visualization",
       "tableResultIndex": 0,
       "tableResultSettingsMap": {},
       "useConsistentColors": false,
       "version": "CommandV1",
       "width": "auto",
       "workflows": [],
       "xColumns": null,
       "yColumns": null
      }
     },
     "output_type": "display_data"
    }
   ],
   "source": [
    "# Step 1: Drop null values for Name, Popularity, and Top Tracks\n",
    "df_clean = df.dropna(subset=['Name', 'Popularity', 'Top Tracks'])\n",
    "\n",
    "# Step 2: Get the top 10 artists by popularity\n",
    "top_10_artists = df_clean[['Name', 'Popularity']].sort_values(by='Popularity', ascending=False).head(10)\n",
    "top_10_artist_names = top_10_artists['Name'].tolist()\n",
    "\n",
    "# Step 3: Filter the dataset for these top 10 artists\n",
    "top_tracks_data = df_clean[df_clean['Name'].isin(top_10_artist_names)]\n",
    "\n",
    "# Step 4: Extract one top track per artist (assuming \"Top Tracks\" contains a list or a comma-separated string)\n",
    "top_tracks_data['Top Track'] = top_tracks_data['Top Tracks'].apply(lambda x: x.split(', ')[0] if isinstance(x, str) else x)\n",
    "\n",
    "# Step 5: Select only required columns (Name, Top Track, Popularity)\n",
    "top_tracks = top_tracks_data[['Name', 'Top Track', 'Popularity']].drop_duplicates(subset=['Name'])\n",
    "\n",
    "# Display the top tracks for top 10 artists\n",
    "display(top_tracks)"
   ]
  },
  {
   "cell_type": "code",
   "execution_count": 0,
   "metadata": {
    "application/vnd.databricks.v1+cell": {
     "cellMetadata": {
      "byteLimit": 2048000,
      "rowLimit": 10000
     },
     "inputWidgets": {},
     "nuid": "aad3f258-4a57-41f7-9417-92bc581d53e3",
     "showTitle": true,
     "tableResultSettingsMap": {},
     "title": "Top Tracks by Bottom 10 Artists"
    }
   },
   "outputs": [
    {
     "output_type": "stream",
     "name": "stderr",
     "output_type": "stream",
     "text": [
      "/root/.ipykernel/1347/command-1890842098016703-4135787545:12: SettingWithCopyWarning: \nA value is trying to be set on a copy of a slice from a DataFrame.\nTry using .loc[row_indexer,col_indexer] = value instead\n\nSee the caveats in the documentation: https://pandas.pydata.org/pandas-docs/stable/user_guide/indexing.html#returning-a-view-versus-a-copy\n  bottom_tracks_data['Top Track'] = bottom_tracks_data['Top Tracks'].apply(lambda x: x.split(', ')[0] if isinstance(x, str) else x)\n"
     ]
    },
    {
     "output_type": "display_data",
     "data": {
      "text/html": [
       "<style scoped>\n",
       "  .table-result-container {\n",
       "    max-height: 300px;\n",
       "    overflow: auto;\n",
       "  }\n",
       "  table, th, td {\n",
       "    border: 1px solid black;\n",
       "    border-collapse: collapse;\n",
       "  }\n",
       "  th, td {\n",
       "    padding: 5px;\n",
       "  }\n",
       "  th {\n",
       "    text-align: left;\n",
       "  }\n",
       "</style><div class='table-result-container'><table class='table-result'><thead style='background-color: white'><tr><th>Name</th><th>Top Track</th><th>Popularity</th></tr></thead><tbody><tr><td>Cardi B</td><td>['Please Me'</td><td>81</td></tr><tr><td>ZAYN</td><td>['Dusk Till Dawn (feat. Sia) - Radio Edit'</td><td>79</td></tr><tr><td>Lil Nas X</td><td>['INDUSTRY BABY (feat. Jack Harlow)'</td><td>76</td></tr><tr><td>Édith Piaf</td><td>['Non</td><td>63</td></tr><tr><td>Luis Fonsi</td><td>['Despacito'</td><td>76</td></tr><tr><td>Charlie Puth</td><td>[\"We Don't Talk Anymore (feat. Selena Gomez)\"</td><td>82</td></tr><tr><td>John Legend</td><td>['All of Me'</td><td>80</td></tr><tr><td>Alicia Keys</td><td>[\"If I Ain't Got You\"</td><td>81</td></tr><tr><td>Rita Ora</td><td>['For You (With Rita Ora)'</td><td>73</td></tr><tr><td>The Rolling Stones</td><td>['Paint It</td><td>80</td></tr></tbody></table></div>"
      ]
     },
     "metadata": {
      "application/vnd.databricks.v1+output": {
       "addedWidgets": {},
       "aggData": [],
       "aggError": "",
       "aggOverflow": false,
       "aggSchema": [],
       "aggSeriesLimitReached": false,
       "aggType": "",
       "arguments": {},
       "columnCustomDisplayInfos": {},
       "data": [
        [
         "Cardi B",
         "['Please Me'",
         81
        ],
        [
         "ZAYN",
         "['Dusk Till Dawn (feat. Sia) - Radio Edit'",
         79
        ],
        [
         "Lil Nas X",
         "['INDUSTRY BABY (feat. Jack Harlow)'",
         76
        ],
        [
         "Édith Piaf",
         "['Non",
         63
        ],
        [
         "Luis Fonsi",
         "['Despacito'",
         76
        ],
        [
         "Charlie Puth",
         "[\"We Don't Talk Anymore (feat. Selena Gomez)\"",
         82
        ],
        [
         "John Legend",
         "['All of Me'",
         80
        ],
        [
         "Alicia Keys",
         "[\"If I Ain't Got You\"",
         81
        ],
        [
         "Rita Ora",
         "['For You (With Rita Ora)'",
         73
        ],
        [
         "The Rolling Stones",
         "['Paint It",
         80
        ]
       ],
       "datasetInfos": [],
       "dbfsResultPath": null,
       "isJsonSchema": true,
       "metadata": {},
       "overflow": false,
       "plotOptions": {
        "customPlotOptions": {},
        "displayType": "table",
        "pivotAggregation": null,
        "pivotColumns": null,
        "xColumns": null,
        "yColumns": null
       },
       "removedWidgets": [],
       "schema": [
        {
         "metadata": "{}",
         "name": "Name",
         "type": "\"string\""
        },
        {
         "metadata": "{}",
         "name": "Top Track",
         "type": "\"string\""
        },
        {
         "metadata": "{}",
         "name": "Popularity",
         "type": "\"long\""
        }
       ],
       "type": "table"
      }
     },
     "output_type": "display_data"
    },
    {
     "output_type": "display_data",
     "data": {
      "text/plain": [
       "Databricks visualization. Run in Databricks to view."
      ]
     },
     "metadata": {
      "application/vnd.databricks.v1.subcommand+json": {
       "baseErrorDetails": null,
       "bindings": {},
       "collapsed": false,
       "command": "%python\n__backend_agg_display_orig = display\n__backend_agg_dfs = []\ndef __backend_agg_display_new(df):\n    __backend_agg_df_modules = [\"pandas.core.frame\", \"databricks.koalas.frame\", \"pyspark.sql.dataframe\", \"pyspark.pandas.frame\", \"pyspark.sql.connect.dataframe\"]\n    if (type(df).__module__ in __backend_agg_df_modules and type(df).__name__ == 'DataFrame') or isinstance(df, list):\n        __backend_agg_dfs.append(df)\n\ndisplay = __backend_agg_display_new\n\ndef __backend_agg_user_code_fn():\n    import base64\n    exec(base64.standard_b64decode(\"IyBTdGVwIDE6IERyb3AgbnVsbCB2YWx1ZXMgZm9yIE5hbWUsIFBvcHVsYXJpdHksIGFuZCBUb3AgVHJhY2tzCmRmX2NsZWFuID0gZGYuZHJvcG5hKHN1YnNldD1bJ05hbWUnLCAnUG9wdWxhcml0eScsICdUb3AgVHJhY2tzJ10pCgojIFN0ZXAgMjogR2V0IHRoZSBib3R0b20gMTAgYXJ0aXN0cyBieSBwb3B1bGFyaXR5CmJvdHRvbV8xMF9hcnRpc3RzID0gZGZfY2xlYW5bWydOYW1lJywgJ1BvcHVsYXJpdHknXV0uc29ydF92YWx1ZXMoYnk9J1BvcHVsYXJpdHknKS5oZWFkKDEwKQpib3R0b21fMTBfYXJ0aXN0X25hbWVzID0gYm90dG9tXzEwX2FydGlzdHNbJ05hbWUnXS50b2xpc3QoKQoKIyBTdGVwIDM6IEZpbHRlciB0aGUgZGF0YXNldCBmb3IgdGhlc2UgYm90dG9tIDEwIGFydGlzdHMKYm90dG9tX3RyYWNrc19kYXRhID0gZGZfY2xlYW5bZGZfY2xlYW5bJ05hbWUnXS5pc2luKGJvdHRvbV8xMF9hcnRpc3RfbmFtZXMpXQoKIyBTdGVwIDQ6IEV4dHJhY3Qgb25lIHRvcCB0cmFjayBwZXIgYXJ0aXN0IChhc3N1bWluZyAiVG9wIFRyYWNrcyIgY29udGFpbnMgYSBsaXN0IG9yIGEgY29tbWEtc2VwYXJhdGVkIHN0cmluZykKYm90dG9tX3RyYWNrc19kYXRhWydUb3AgVHJhY2snXSA9IGJvdHRvbV90cmFja3NfZGF0YVsnVG9wIFRyYWNrcyddLmFwcGx5KGxhbWJkYSB4OiB4LnNwbGl0KCcsICcpWzBdIGlmIGlzaW5zdGFuY2UoeCwgc3RyKSBlbHNlIHgpCgojIFN0ZXAgNTogU2VsZWN0IG9ubHkgcmVxdWlyZWQgY29sdW1ucyAoTmFtZSwgVG9wIFRyYWNrLCBQb3B1bGFyaXR5KQpib3R0b21fdHJhY2tzID0gYm90dG9tX3RyYWNrc19kYXRhW1snTmFtZScsICdUb3AgVHJhY2snLCAnUG9wdWxhcml0eSddXS5kcm9wX2R1cGxpY2F0ZXMoc3Vic2V0PVsnTmFtZSddKQoKZGlzcGxheShib3R0b21fdHJhY2tzKQ==\").decode())\n\ntry:\n    # run user code\n    __backend_agg_user_code_fn()\n\n    #reset display function\n    display = __backend_agg_display_orig\n\n    if len(__backend_agg_dfs) > 0:\n        # create a temp view\n        if type(__backend_agg_dfs[0]).__module__ == \"databricks.koalas.frame\":\n            # koalas dataframe\n            __backend_agg_dfs[0].to_spark().createOrReplaceTempView(\"DatabricksView2a65d28\")\n        elif type(__backend_agg_dfs[0]).__module__ == \"pandas.core.frame\" or isinstance(__backend_agg_dfs[0], list):\n            # pandas dataframe\n            spark.createDataFrame(__backend_agg_dfs[0]).createOrReplaceTempView(\"DatabricksView2a65d28\")\n        else:\n            __backend_agg_dfs[0].createOrReplaceTempView(\"DatabricksView2a65d28\")\n        #run backend agg\n        display(spark.sql(\"\"\"WITH q AS (select * from DatabricksView2a65d28) SELECT `Name`,`Top Track`,SUM(`Popularity`) `column_36161e6349` FROM q GROUP BY `Name`,`Top Track`\"\"\"))\n    else:\n        displayHTML(\"dataframe no longer exists. If you're using dataframe.display(), use display(dataframe) instead.\")\n\n\nfinally:\n    spark.sql(\"drop view if exists DatabricksView2a65d28\")\n    display = __backend_agg_display_orig\n    del __backend_agg_display_new\n    del __backend_agg_display_orig\n    del __backend_agg_dfs\n    del __backend_agg_user_code_fn\n\n",
       "commandTitle": "Popular Tracks by Bottom 10 Artists",
       "commandType": "auto",
       "commandVersion": 0,
       "commentThread": [],
       "commentsVisible": false,
       "contentSha256Hex": null,
       "customPlotOptions": {
        "redashChart": [
         {
          "key": "type",
          "value": "CHART"
         },
         {
          "key": "options",
          "value": {
           "alignYAxesAtZero": true,
           "coefficient": 1,
           "columnConfigurationMap": {
            "series": {
             "column": "Top Track",
             "id": "column_36161e6348"
            },
            "x": {
             "column": "Name",
             "id": "column_36161e6347"
            },
            "y": [
             {
              "column": "Popularity",
              "id": "column_36161e6349",
              "transform": "SUM"
             }
            ]
           },
           "dateTimeFormat": "DD/MM/YYYY HH:mm",
           "direction": {
            "type": "counterclockwise"
           },
           "error_y": {
            "type": "data",
            "visible": true
           },
           "globalSeriesType": "column",
           "isAggregationOn": true,
           "legend": {
            "traceorder": "normal"
           },
           "missingValuesAsZero": true,
           "numberFormat": "0,0.[00000]",
           "percentFormat": "0[.]00%",
           "series": {
            "error_y": {
             "type": "data",
             "visible": true
            },
            "stacking": "stack"
           },
           "seriesOptions": {
            "[\"If I Ain't Got You\"": {
             "zIndex": 0
            },
            "[\"We Don't Talk Anymore (feat. Selena Gomez)\"": {
             "zIndex": 2
            },
            "['All of Me'": {
             "zIndex": 3
            },
            "['Despacito'": {
             "zIndex": 5
            },
            "['Dusk Till Dawn (feat. Sia) - Radio Edit'": {
             "zIndex": 8
            },
            "['For You (With Rita Ora)'": {
             "zIndex": 6
            },
            "['MONTERO (Call Me By Your Name)'": {
             "zIndex": 4
            },
            "['Non": {
             "zIndex": 9
            },
            "['Paint It": {
             "zIndex": 7
            },
            "['Please Me'": {
             "zIndex": 1
            },
            "column_36161e6349": {
             "name": "Popularity",
             "yAxis": 0
            }
           },
           "showDataLabels": false,
           "sizemode": "diameter",
           "sortX": true,
           "sortY": true,
           "swappedAxes": false,
           "textFormat": "",
           "useAggregationsUi": true,
           "valuesOptions": {},
           "version": 2,
           "xAxis": {
            "labels": {
             "enabled": true
            },
            "title": {
             "text": "Artists"
            },
            "type": "-"
           },
           "yAxis": [
            {
             "title": {
              "text": "Popularity"
             },
             "type": "-"
            },
            {
             "opposite": true,
             "type": "-"
            }
           ]
          }
         }
        ]
       },
       "datasetPreviewNameToCmdIdMap": {},
       "diffDeletes": [],
       "diffInserts": [],
       "displayType": "redashChart",
       "error": null,
       "errorDetails": null,
       "errorSummary": null,
       "errorTraceType": null,
       "finishTime": 0,
       "globalVars": {},
       "guid": "",
       "height": "auto",
       "hideCommandCode": false,
       "hideCommandResult": false,
       "iPythonMetadata": null,
       "inputWidgets": {},
       "isLockedInExamMode": false,
       "latestUser": "a user",
       "latestUserId": null,
       "listResultMetadata": null,
       "metadata": {
        "byteLimit": 2048000,
        "rowLimit": 10000
       },
       "nuid": "71d73b1d-725b-4b7a-b28b-314be7aa9473",
       "origId": 0,
       "parentHierarchy": [],
       "pivotAggregation": null,
       "pivotColumns": null,
       "position": 10.0,
       "resultDbfsErrorMessage": null,
       "resultDbfsStatus": "INLINED_IN_TREE",
       "results": null,
       "showCommandTitle": false,
       "startTime": 0,
       "state": "finished",
       "streamStates": {},
       "subcommandOptions": {
        "queryPlan": {
         "groups": [
          {
           "column": "Name",
           "type": "column"
          },
          {
           "column": "Top Track",
           "type": "column"
          }
         ],
         "selects": [
          {
           "column": "Name",
           "type": "column"
          },
          {
           "column": "Top Track",
           "type": "column"
          },
          {
           "alias": "column_36161e6349",
           "args": [
            {
             "column": "Popularity",
             "type": "column"
            }
           ],
           "function": "SUM",
           "type": "function"
          }
         ]
        }
       },
       "submitTime": 0,
       "subtype": "tableResultSubCmd.visualization",
       "tableResultIndex": 0,
       "tableResultSettingsMap": {},
       "useConsistentColors": false,
       "version": "CommandV1",
       "width": "auto",
       "workflows": [],
       "xColumns": null,
       "yColumns": null
      }
     },
     "output_type": "display_data"
    }
   ],
   "source": [
    "# Step 1: Drop null values for Name, Popularity, and Top Tracks\n",
    "df_clean = df.dropna(subset=['Name', 'Popularity', 'Top Tracks'])\n",
    "\n",
    "# Step 2: Get the bottom 10 artists by popularity\n",
    "bottom_10_artists = df_clean[['Name', 'Popularity']].sort_values(by='Popularity').head(10)\n",
    "bottom_10_artist_names = bottom_10_artists['Name'].tolist()\n",
    "\n",
    "# Step 3: Filter the dataset for these bottom 10 artists\n",
    "bottom_tracks_data = df_clean[df_clean['Name'].isin(bottom_10_artist_names)]\n",
    "\n",
    "# Step 4: Extract one top track per artist (assuming \"Top Tracks\" contains a list or a comma-separated string)\n",
    "bottom_tracks_data['Top Track'] = bottom_tracks_data['Top Tracks'].apply(lambda x: x.split(', ')[0] if isinstance(x, str) else x)\n",
    "\n",
    "# Step 5: Select only required columns (Name, Top Track, Popularity)\n",
    "bottom_tracks = bottom_tracks_data[['Name', 'Top Track', 'Popularity']].drop_duplicates(subset=['Name'])\n",
    "\n",
    "display(bottom_tracks)"
   ]
  },
  {
   "cell_type": "code",
   "execution_count": 0,
   "metadata": {
    "application/vnd.databricks.v1+cell": {
     "cellMetadata": {
      "byteLimit": 2048000,
      "rowLimit": 10000
     },
     "inputWidgets": {},
     "nuid": "067ad23a-9dd2-43e9-979b-bb1c368e4d5e",
     "showTitle": true,
     "tableResultSettingsMap": {},
     "title": "Taylor Swift's Top 5 Tracks"
    }
   },
   "outputs": [
    {
     "output_type": "display_data",
     "data": {
      "text/html": [
       "<style scoped>\n",
       "  .table-result-container {\n",
       "    max-height: 300px;\n",
       "    overflow: auto;\n",
       "  }\n",
       "  table, th, td {\n",
       "    border: 1px solid black;\n",
       "    border-collapse: collapse;\n",
       "  }\n",
       "  th, td {\n",
       "    padding: 5px;\n",
       "  }\n",
       "  th {\n",
       "    text-align: left;\n",
       "  }\n",
       "</style><div class='table-result-container'><table class='table-result'><thead style='background-color: white'><tr><th>Track</th><th>Popularity</th></tr></thead><tbody><tr><td>Cruel Summer</td><td>89</td></tr><tr><td>Fortnight (feat. Post Malone)</td><td>84</td></tr><tr><td>august</td><td>83</td></tr><tr><td>cardigan</td><td>83</td></tr><tr><td>Lover</td><td>83</td></tr></tbody></table></div>"
      ]
     },
     "metadata": {
      "application/vnd.databricks.v1+output": {
       "addedWidgets": {},
       "aggData": [],
       "aggError": "",
       "aggOverflow": false,
       "aggSchema": [],
       "aggSeriesLimitReached": false,
       "aggType": "",
       "arguments": {},
       "columnCustomDisplayInfos": {},
       "data": [
        [
         "Cruel Summer",
         89
        ],
        [
         "Fortnight (feat. Post Malone)",
         84
        ],
        [
         "august",
         83
        ],
        [
         "cardigan",
         83
        ],
        [
         "Lover",
         83
        ]
       ],
       "datasetInfos": [],
       "dbfsResultPath": null,
       "isJsonSchema": true,
       "metadata": {},
       "overflow": false,
       "plotOptions": {
        "customPlotOptions": {},
        "displayType": "table",
        "pivotAggregation": null,
        "pivotColumns": null,
        "xColumns": null,
        "yColumns": null
       },
       "removedWidgets": [],
       "schema": [
        {
         "metadata": "{}",
         "name": "Track",
         "type": "\"string\""
        },
        {
         "metadata": "{}",
         "name": "Popularity",
         "type": "\"long\""
        }
       ],
       "type": "table"
      }
     },
     "output_type": "display_data"
    },
    {
     "output_type": "display_data",
     "data": {
      "text/plain": [
       "Databricks visualization. Run in Databricks to view."
      ]
     },
     "metadata": {
      "application/vnd.databricks.v1.subcommand+json": {
       "baseErrorDetails": null,
       "bindings": {},
       "collapsed": false,
       "command": "%python\n__backend_agg_display_orig = display\n__backend_agg_dfs = []\ndef __backend_agg_display_new(df):\n    __backend_agg_df_modules = [\"pandas.core.frame\", \"databricks.koalas.frame\", \"pyspark.sql.dataframe\", \"pyspark.pandas.frame\", \"pyspark.sql.connect.dataframe\"]\n    if (type(df).__module__ in __backend_agg_df_modules and type(df).__name__ == 'DataFrame') or isinstance(df, list):\n        __backend_agg_dfs.append(df)\n\ndisplay = __backend_agg_display_new\n\ndef __backend_agg_user_code_fn():\n    import base64\n    exec(base64.standard_b64decode(\"IyBFeGFtcGxlIGRhdGEKZGF0YSA9IHsKICAgICdOYW1lJzogWydUYXlsb3IgU3dpZnQnXSwKICAgICdUb3AgVHJhY2tzJzogWyJbJ0NydWVsIFN1bW1lcicsICdGb3J0bmlnaHQgKGZlYXQuIFBvc3QgTWFsb25lKScsICdJIENhbiBEbyBJdCBXaXRoIGEgQnJva2VuIEhlYXJ0JywgJ2F1Z3VzdCcsICdjYXJkaWdhbicsICdMb3ZlcicsICdEb27igJl0IEJsYW1lIE1lJywgJ0FudGktSGVybycsICdCbGFuayBTcGFjZScsICdHdWlsdHkgYXMgU2luPyddIl0sCiAgICAnUG9wdWxhcml0eSc6IFsiWzg5LCA4NCwgODIsIDgzLCA4MywgODMsIDgyLCA4MSwgNjksIDc3XSJdCn0KCiMgU3RlcCAxOiBDcmVhdGUgYSBEYXRhRnJhbWUKZGYgPSBzcGFyay5jcmVhdGVEYXRhRnJhbWUocGQuRGF0YUZyYW1lKGRhdGEpKQoKIyBTdGVwIDI6IEZpbHRlciBmb3IgVGF5bG9yIFN3aWZ0IGFuZCBwcm9jZXNzIHRoZSBUb3AgVHJhY2tzIGFuZCBQb3B1bGFyaXR5CnRheWxvcl9zd2lmdF9kYXRhID0gZGYuZmlsdGVyKGRmWydOYW1lJ10gPT0gJ1RheWxvciBTd2lmdCcpLmNvbGxlY3QoKVswXQp0cmFja3MgPSBldmFsKHRheWxvcl9zd2lmdF9kYXRhWydUb3AgVHJhY2tzJ10pICAjIENvbnZlcnQgc3RyaW5nIHRvIGxpc3QKcG9wdWxhcml0eSA9IGV2YWwodGF5bG9yX3N3aWZ0X2RhdGFbJ1BvcHVsYXJpdHknXSkgICMgQ29udmVydCBzdHJpbmcgdG8gbGlzdAoKIyBTdGVwIDM6IFBhaXIgdHJhY2tzIHdpdGggcG9wdWxhcml0eSBhbmQgc29ydAp0cmFja19wb3B1bGFyaXR5ID0gc29ydGVkKHppcCh0cmFja3MsIHBvcHVsYXJpdHkpLCBrZXk9bGFtYmRhIHg6IHhbMV0sIHJldmVyc2U9VHJ1ZSkKCiMgU3RlcCA0OiBHZXQgdGhlIHRvcCA1IHRyYWNrcwp0b3BfNV90cmFja3MgPSB0cmFja19wb3B1bGFyaXR5Wzo1XQoKIyBTdGVwIDU6IENyZWF0ZSBhIHRhYmxlCnRvcF81X2RmID0gc3BhcmsuY3JlYXRlRGF0YUZyYW1lKHRvcF81X3RyYWNrcywgWydUcmFjaycsICdQb3B1bGFyaXR5J10pCgojIERpc3BsYXkgdGhlIHRhYmxlCmRpc3BsYXkodG9wXzVfZGYp\").decode())\n\ntry:\n    # run user code\n    __backend_agg_user_code_fn()\n\n    #reset display function\n    display = __backend_agg_display_orig\n\n    if len(__backend_agg_dfs) > 0:\n        # create a temp view\n        if type(__backend_agg_dfs[0]).__module__ == \"databricks.koalas.frame\":\n            # koalas dataframe\n            __backend_agg_dfs[0].to_spark().createOrReplaceTempView(\"DatabricksView7e0e2e8\")\n        elif type(__backend_agg_dfs[0]).__module__ == \"pandas.core.frame\" or isinstance(__backend_agg_dfs[0], list):\n            # pandas dataframe\n            spark.createDataFrame(__backend_agg_dfs[0]).createOrReplaceTempView(\"DatabricksView7e0e2e8\")\n        else:\n            __backend_agg_dfs[0].createOrReplaceTempView(\"DatabricksView7e0e2e8\")\n        #run backend agg\n        display(spark.sql(\"\"\"WITH q AS (select * from DatabricksView7e0e2e8) SELECT `Track`,SUM(`Popularity`) `column_36161e6383`,`Track` FROM q GROUP BY `Track`\"\"\"))\n    else:\n        displayHTML(\"dataframe no longer exists. If you're using dataframe.display(), use display(dataframe) instead.\")\n\n\nfinally:\n    spark.sql(\"drop view if exists DatabricksView7e0e2e8\")\n    display = __backend_agg_display_orig\n    del __backend_agg_display_new\n    del __backend_agg_display_orig\n    del __backend_agg_dfs\n    del __backend_agg_user_code_fn\n\n",
       "commandTitle": "Taylor Swift's Top 5 Tracks",
       "commandType": "auto",
       "commandVersion": 0,
       "commentThread": [],
       "commentsVisible": false,
       "contentSha256Hex": null,
       "customPlotOptions": {
        "redashChart": [
         {
          "key": "type",
          "value": "CHART"
         },
         {
          "key": "options",
          "value": {
           "alignYAxesAtZero": true,
           "coefficient": 1,
           "columnConfigurationMap": {
            "series": {
             "column": "Track",
             "id": "column_36161e6385"
            },
            "x": {
             "column": "Track",
             "id": "column_36161e6382"
            },
            "y": [
             {
              "column": "Popularity",
              "id": "column_36161e6383",
              "transform": "SUM"
             }
            ]
           },
           "dateTimeFormat": "DD/MM/YYYY HH:mm",
           "direction": {
            "type": "counterclockwise"
           },
           "error_y": {
            "type": "data",
            "visible": true
           },
           "globalSeriesType": "column",
           "isAggregationOn": true,
           "legend": {
            "traceorder": "normal"
           },
           "missingValuesAsZero": true,
           "numberFormat": "0,0.[00000]",
           "percentFormat": "0[.]00%",
           "series": {
            "error_y": {
             "type": "data",
             "visible": true
            },
            "stacking": null
           },
           "seriesOptions": {
            "column_36161e6383": {
             "name": "Popularity",
             "yAxis": 0
            }
           },
           "showDataLabels": false,
           "sizemode": "diameter",
           "sortX": true,
           "sortY": true,
           "swappedAxes": false,
           "textFormat": "",
           "useAggregationsUi": true,
           "valuesOptions": {},
           "version": 2,
           "xAxis": {
            "labels": {
             "enabled": true
            },
            "title": {
             "text": "Track Name"
            },
            "type": "-"
           },
           "yAxis": [
            {
             "title": {
              "text": "Track Popularity"
             },
             "type": "-"
            },
            {
             "opposite": true,
             "type": "-"
            }
           ]
          }
         }
        ]
       },
       "datasetPreviewNameToCmdIdMap": {},
       "diffDeletes": [],
       "diffInserts": [],
       "displayType": "redashChart",
       "error": null,
       "errorDetails": null,
       "errorSummary": null,
       "errorTraceType": null,
       "finishTime": 0,
       "globalVars": {},
       "guid": "",
       "height": "auto",
       "hideCommandCode": false,
       "hideCommandResult": false,
       "iPythonMetadata": null,
       "inputWidgets": {},
       "isLockedInExamMode": false,
       "latestUser": "a user",
       "latestUserId": null,
       "listResultMetadata": null,
       "metadata": {
        "byteLimit": 2048000,
        "rowLimit": 10000
       },
       "nuid": "6bf0acb3-60d6-45f8-b054-c73981b2302f",
       "origId": 0,
       "parentHierarchy": [],
       "pivotAggregation": null,
       "pivotColumns": null,
       "position": 11.0,
       "resultDbfsErrorMessage": null,
       "resultDbfsStatus": "INLINED_IN_TREE",
       "results": null,
       "showCommandTitle": false,
       "startTime": 0,
       "state": "finished",
       "streamStates": {},
       "subcommandOptions": {
        "queryPlan": {
         "groups": [
          {
           "column": "Track",
           "type": "column"
          },
          {
           "column": "Track",
           "type": "column"
          }
         ],
         "selects": [
          {
           "column": "Track",
           "type": "column"
          },
          {
           "alias": "column_36161e6383",
           "args": [
            {
             "column": "Popularity",
             "type": "column"
            }
           ],
           "function": "SUM",
           "type": "function"
          },
          {
           "column": "Track",
           "type": "column"
          }
         ]
        }
       },
       "submitTime": 0,
       "subtype": "tableResultSubCmd.visualization",
       "tableResultIndex": 0,
       "tableResultSettingsMap": {},
       "useConsistentColors": false,
       "version": "CommandV1",
       "width": "auto",
       "workflows": [],
       "xColumns": null,
       "yColumns": null
      }
     },
     "output_type": "display_data"
    }
   ],
   "source": [
    "# Example data\n",
    "data = {\n",
    "    'Name': ['Taylor Swift'],\n",
    "    'Top Tracks': [\"['Cruel Summer', 'Fortnight (feat. Post Malone)', 'I Can Do It With a Broken Heart', 'august', 'cardigan', 'Lover', 'Don’t Blame Me', 'Anti-Hero', 'Blank Space', 'Guilty as Sin?']\"],\n",
    "    'Popularity': [\"[89, 84, 82, 83, 83, 83, 82, 81, 69, 77]\"]\n",
    "}\n",
    "\n",
    "# Step 1: Create a DataFrame\n",
    "df = spark.createDataFrame(pd.DataFrame(data))\n",
    "\n",
    "# Step 2: Filter for Taylor Swift and process the Top Tracks and Popularity\n",
    "taylor_swift_data = df.filter(df['Name'] == 'Taylor Swift').collect()[0]\n",
    "tracks = eval(taylor_swift_data['Top Tracks'])  # Convert string to list\n",
    "popularity = eval(taylor_swift_data['Popularity'])  # Convert string to list\n",
    "\n",
    "# Step 3: Pair tracks with popularity and sort\n",
    "track_popularity = sorted(zip(tracks, popularity), key=lambda x: x[1], reverse=True)\n",
    "\n",
    "# Step 4: Get the top 5 tracks\n",
    "top_5_tracks = track_popularity[:5]\n",
    "\n",
    "# Step 5: Create a table\n",
    "top_5_df = spark.createDataFrame(top_5_tracks, ['Track', 'Popularity'])\n",
    "\n",
    "# Display the table\n",
    "display(top_5_df)"
   ]
  },
  {
   "cell_type": "code",
   "execution_count": 0,
   "metadata": {
    "application/vnd.databricks.v1+cell": {
     "cellMetadata": {
      "byteLimit": 2048000,
      "rowLimit": 10000
     },
     "inputWidgets": {},
     "nuid": "ee5cb1cd-d952-41c8-a938-3257a3228e90",
     "showTitle": false,
     "tableResultSettingsMap": {},
     "title": ""
    }
   },
   "outputs": [
    {
     "output_type": "display_data",
     "data": {
      "text/html": [
       "<style scoped>\n",
       "  .table-result-container {\n",
       "    max-height: 300px;\n",
       "    overflow: auto;\n",
       "  }\n",
       "  table, th, td {\n",
       "    border: 1px solid black;\n",
       "    border-collapse: collapse;\n",
       "  }\n",
       "  th, td {\n",
       "    padding: 5px;\n",
       "  }\n",
       "  th {\n",
       "    text-align: left;\n",
       "  }\n",
       "</style><div class='table-result-container'><table class='table-result'><thead style='background-color: white'><tr><th>Name</th><th>Album</th><th>Release Date</th><th>Popularity</th></tr></thead><tbody><tr><td>Taylor Swift</td><td>Fearless</td><td>2008-11-11</td><td>85</td></tr><tr><td>Taylor Swift</td><td>1989</td><td>2014-10-27</td><td>90</td></tr><tr><td>Taylor Swift</td><td>Reputation</td><td>2017-11-10</td><td>88</td></tr><tr><td>Taylor Swift</td><td>Lover</td><td>2019-08-23</td><td>87</td></tr></tbody></table></div>"
      ]
     },
     "metadata": {
      "application/vnd.databricks.v1+output": {
       "addedWidgets": {},
       "aggData": [],
       "aggError": "",
       "aggOverflow": false,
       "aggSchema": [],
       "aggSeriesLimitReached": false,
       "aggType": "",
       "arguments": {},
       "columnCustomDisplayInfos": {},
       "data": [
        [
         "Taylor Swift",
         "Fearless",
         "2008-11-11",
         85
        ],
        [
         "Taylor Swift",
         "1989",
         "2014-10-27",
         90
        ],
        [
         "Taylor Swift",
         "Reputation",
         "2017-11-10",
         88
        ],
        [
         "Taylor Swift",
         "Lover",
         "2019-08-23",
         87
        ]
       ],
       "datasetInfos": [],
       "dbfsResultPath": null,
       "isJsonSchema": true,
       "metadata": {},
       "overflow": false,
       "plotOptions": {
        "customPlotOptions": {},
        "displayType": "table",
        "pivotAggregation": null,
        "pivotColumns": null,
        "xColumns": null,
        "yColumns": null
       },
       "removedWidgets": [],
       "schema": [
        {
         "metadata": "{}",
         "name": "Name",
         "type": "\"string\""
        },
        {
         "metadata": "{}",
         "name": "Album",
         "type": "\"string\""
        },
        {
         "metadata": "{}",
         "name": "Release Date",
         "type": "\"date\""
        },
        {
         "metadata": "{}",
         "name": "Popularity",
         "type": "\"long\""
        }
       ],
       "type": "table"
      }
     },
     "output_type": "display_data"
    }
   ],
   "source": [
    "# Example data for Taylor Swift's albums\n",
    "data = {\n",
    "    'Name': ['Taylor Swift', 'Taylor Swift', 'Taylor Swift', 'Taylor Swift'],\n",
    "    'Album': ['Fearless', '1989', 'Reputation', 'Lover'],\n",
    "    'Release Date': ['2008-11-11', '2014-10-27', '2017-11-10', '2019-08-23'],\n",
    "    'Popularity': [85, 90, 88, 87]\n",
    "}\n",
    "\n",
    "# Step 1: Create a DataFrame\n",
    "df_albums = spark.createDataFrame(pd.DataFrame(data))\n",
    "\n",
    "# Step 2: Filter for Taylor Swift's albums\n",
    "taylor_swift_albums = df_albums.filter(df_albums['Name'] == 'Taylor Swift')\n",
    "\n",
    "# Step 3: Convert 'Release Date' to date type\n",
    "taylor_swift_albums = taylor_swift_albums.withColumn('Release Date', taylor_swift_albums['Release Date'].cast('date'))\n",
    "\n",
    "# Step 4: Sort albums by release date\n",
    "sorted_albums = taylor_swift_albums.orderBy('Release Date')\n",
    "\n",
    "# Display the sorted albums\n",
    "display(sorted_albums)"
   ]
  }
 ],
 "metadata": {
  "application/vnd.databricks.v1+notebook": {
   "computePreferences": null,
   "dashboards": [],
   "environmentMetadata": {
    "base_environment": "",
    "client": "1"
   },
   "language": "python",
   "notebookMetadata": {
    "mostRecentlyExecutedCommandWithImplicitDF": {
     "commandId": 909878504116532,
     "dataframes": [
      "_sqldf"
     ]
    },
    "pythonIndentUnit": 4
   },
   "notebookName": "Final Group Assignment - Spotify",
   "widgets": {}
  },
  "language_info": {
   "name": "python"
  }
 },
 "nbformat": 4,
 "nbformat_minor": 0
}